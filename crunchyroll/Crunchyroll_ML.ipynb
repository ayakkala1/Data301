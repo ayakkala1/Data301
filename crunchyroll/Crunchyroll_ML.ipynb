{
 "cells": [
  {
   "cell_type": "markdown",
   "metadata": {},
   "source": [
    "# CrunchyRoll Machine Learning"
   ]
  },
  {
   "cell_type": "markdown",
   "metadata": {},
   "source": [
    "## Functions and Libraries"
   ]
  },
  {
   "cell_type": "code",
   "execution_count": 1,
   "metadata": {},
   "outputs": [],
   "source": [
    "%matplotlib inline\n",
    "import numpy as np\n",
    "import pandas as pd\n",
    "\n",
    "from sklearn.model_selection import GridSearchCV\n",
    "from sklearn.model_selection import RandomizedSearchCV\n",
    "from sklearn.feature_extraction.text import CountVectorizer\n",
    "from sklearn.ensemble import RandomForestRegressor\n",
    "from sklearn.datasets import make_regression\n",
    "from sklearn.neighbors import KNeighborsRegressor\n",
    "from sklearn.feature_extraction import DictVectorizer\n",
    "\n",
    "from sklearn.preprocessing import StandardScaler\n",
    "from sklearn.preprocessing import MinMaxScaler\n",
    "from sklearn.preprocessing import RobustScaler\n",
    "from sklearn.preprocessing import Normalizer\n",
    "from sklearn.preprocessing import QuantileTransformer\n",
    "from sklearn.feature_extraction.text import TfidfVectorizer\n",
    "from sklearn.preprocessing import MaxAbsScaler\n",
    "\n",
    "from sklearn.pipeline import Pipeline\n",
    "from sklearn.model_selection import cross_val_score\n",
    "\n",
    "import nltk\n",
    "import string\n",
    "\n",
    "import re\n",
    "\n",
    "pd.options.display.max_rows = 5\n",
    "import nltk\n",
    "from nltk.corpus import stopwords"
   ]
  },
  {
   "cell_type": "code",
   "execution_count": 2,
   "metadata": {},
   "outputs": [],
   "source": [
    "def random_cv(df,model):   \n",
    "    vec = DictVectorizer(sparse=False)\n",
    "    vec.fit(df[model].to_dict(orient=\"records\"))\n",
    "    train_features = vec.transform(df[model].to_dict(orient=\"records\"))\n",
    "    train_labels = df[\"ibu\"]\n",
    "    scaler = QuantileTransformer()\n",
    "    scaler.fit(train_features)\n",
    "    train_features = scaler.transform(train_features)    \n",
    "\n",
    "    n_estimators = [int(x) for x in np.linspace(start = 200, stop = 2000, num = 10)]\n",
    "\n",
    "    max_features = ['auto', 'log2','sqrt']\n",
    "\n",
    "    max_depth = [int(x) for x in np.linspace(10, 110, num = 11)]\n",
    "    max_depth.append(None)\n",
    "\n",
    "    min_samples_split = [2, 5, 10]\n",
    "\n",
    "    min_samples_leaf = [1, 2, 4]\n",
    "\n",
    "    bootstrap = [True, False]\n",
    "\n",
    "    random_grid = {'n_estimators': n_estimators,\n",
    "                   'max_features': max_features,\n",
    "                   'max_depth': max_depth,\n",
    "                   'min_samples_split': min_samples_split,\n",
    "                   'min_samples_leaf': min_samples_leaf,\n",
    "                   'bootstrap': bootstrap}\n",
    "\n",
    "    rf = RandomForestRegressor()\n",
    "    rf_random = RandomizedSearchCV(estimator = rf,\n",
    "                                   param_distributions = random_grid,\n",
    "                                   n_iter = 100,\n",
    "                                   cv = 3,\n",
    "                                   verbose=2,\n",
    "                                   random_state=42,\n",
    "                                   n_jobs = -1)\n",
    "    \n",
    "    rf_random.fit(train_features,train_labels)\n",
    "    return rf_random.best_params_\n",
    "\n",
    "def gridSearch(param_grid,model):\n",
    "    vec = DictVectorizer(sparse=False)\n",
    "    vec.fit(df[model].to_dict(orient=\"records\"))\n",
    "    train_features = vec.transform(df[model].to_dict(orient=\"records\"))\n",
    "    train_labels = df[\"ibu\"]\n",
    "    scaler = QuantileTransformer()\n",
    "    scaler.fit(train_features)\n",
    "    train_features = scaler.transform(train_features)\n",
    "\n",
    "    rf = RandomForestRegressor()\n",
    "\n",
    "    grid_search = GridSearchCV(estimator = rf, \n",
    "                               param_grid = param_grid, \n",
    "                               cv = 5, \n",
    "                               n_jobs = -1, \n",
    "                               verbose = 2)\n",
    "    grid_search.fit(train_features, train_labels)\n",
    "    return grid_search.best_params_\n",
    "\n",
    "wpt = nltk.WordPunctTokenizer()\n",
    "stop_words = nltk.corpus.stopwords.words('english')\n",
    "\n",
    "def clean_data(df, *argv):\n",
    "    df1 = df.copy()\n",
    "    for series in argv:\n",
    "        df1[series] = df1[series].str.lower()\n",
    "        df1[series] = df1[series].str.replace(\"\\n\",\"\")\n",
    "        df1[series] = df1[series].str.replace(\"\\r\",\"\")\n",
    "        df1[series] = df1[series].str.replace(\"-\",\" \")\n",
    "        df1[series] = df1[series].str.replace(\"[^\\w\\s]\",\"\")\n",
    "        df1[series] = df1[series].str.strip()\n",
    "    df1 = df1.fillna(\"None\")\n",
    "    df1 = df1.replace(\"\", \"missing\")\n",
    "    return df1\n",
    "\n",
    "def explode(df, lst_cols, fill_value=''):\n",
    "    # make sure `lst_cols` is a list\n",
    "    if lst_cols and not isinstance(lst_cols, list):\n",
    "        lst_cols = [lst_cols]\n",
    "    # all columns except `lst_cols`\n",
    "    idx_cols = df.columns.difference(lst_cols)\n",
    "\n",
    "    # calculate lengths of lists\n",
    "    lens = df[lst_cols[0]].str.len()\n",
    "\n",
    "    if (lens > 0).all():\n",
    "        # ALL lists in cells aren't empty\n",
    "        return pd.DataFrame({\n",
    "            col:np.repeat(df[col].values, lens)\n",
    "            for col in idx_cols\n",
    "        }).assign(**{col:np.concatenate(df[col].values) for col in lst_cols}) \\\n",
    "          .loc[:, df.columns]\n",
    "    else:\n",
    "        # at least one list in cells is empty\n",
    "        return pd.DataFrame({\n",
    "            col:np.repeat(df[col].values, lens)\n",
    "            for col in idx_cols\n",
    "        }).assign(**{col:np.concatenate(df[col].values) for col in lst_cols}) \\\n",
    "          .append(df.loc[lens==0, idx_cols]).fillna(fill_value) \\\n",
    "          .loc[:, df.columns]"
   ]
  },
  {
   "cell_type": "markdown",
   "metadata": {},
   "source": [
    "# Importing and Cleaning Data"
   ]
  },
  {
   "cell_type": "code",
   "execution_count": 3,
   "metadata": {},
   "outputs": [
    {
     "name": "stderr",
     "output_type": "stream",
     "text": [
      "/Library/Frameworks/Python.framework/Versions/3.6/lib/python3.6/site-packages/IPython/core/interactiveshell.py:3020: DtypeWarning: Columns (15) have mixed types. Specify dtype option on import or set low_memory=False.\n",
      "  interactivity=interactivity, compiler=compiler, result=result)\n"
     ]
    }
   ],
   "source": [
    "home = pd.read_csv(\"https://raw.githubusercontent.com/ayakkala1/Data301/master/crunchyroll/crunchy_home.csv\")\n",
    "\n",
    "home[\"similar\"] = home[\"similar\"].apply(lambda x: x.split(\"::\"))\n",
    "home[\"tags\"] = home[\"tags\"].apply(lambda x: x.split(\"::\"))\n",
    "home[\"agg_rating\"] = ((home[\"1\"] + home[\"2\"] * 2 + home[\"3\"] * 3 + home[\"4\"] * 4 + home[\"5\"] * 5)/\n",
    "                        home[[\"1\",\"2\",\"3\",\"4\",\"5\"]].sum(axis = 1))\n",
    "\n",
    "home[\"name\"] = home[\"name\"].str.replace(\"-\",\" \").str.lower()\n",
    "\n",
    "reviews = pd.read_csv(\"https://raw.githubusercontent.com/ayakkala1/Data301/master/crunchyroll/crunchy_review.csv\")\n",
    "\n",
    "main = pd.read_csv(\"https://raw.githubusercontent.com/ayakkala1/Data301/master/crunchyroll/crunchy_main.csv\")\n",
    "\n",
    "main[\"similar\"] = main[\"similar\"].apply(lambda x: x.split(\"::\"))\n",
    "main[\"tags\"] = main[\"tags\"].apply(lambda x: x.split(\"::\"))\n",
    "main[\"name\"] = main[\"name\"].str.replace(\"-\",\" \").str.lower()\n",
    "main[\"agg_rating\"] = ((main[\"1\"] + main[\"2\"] * 2 + main[\"3\"] * 3 + main[\"4\"] * 4 + main[\"5\"] * 5)/\n",
    "                        main[[\"1\",\"2\",\"3\",\"4\",\"5\"]].sum(axis = 1))"
   ]
  },
  {
   "cell_type": "code",
   "execution_count": 4,
   "metadata": {},
   "outputs": [],
   "source": [
    "animelist = clean_data(pd.read_csv(\"/Volumes/SD_Card/myanimelist/AnimeList.csv\"),\"title\", \"title_english\")\n",
    "animelist = animelist[animelist[\"type\"] == \"TV\"]\n",
    "\n",
    "animelist[\"from\"] = animelist[\"aired\"].apply(lambda x : dict(eval(x))).apply(pd.Series)[\"from\"]\n",
    "animelist[\"to\"] = animelist[\"aired\"].apply(lambda x : dict(eval(x))).apply(pd.Series)[\"to\"]\n",
    "\n",
    "merge_anime  = main.merge(animelist[[\"title_english\",\n",
    "                                     \"title\",\"rating\",\n",
    "                                     \"duration\",\"from\",\n",
    "                                     \"to\",\"genre\"]],how = \"inner\", left_on=\"name\",\n",
    "                          right_on=\"title_english\")"
   ]
  },
  {
   "cell_type": "code",
   "execution_count": 5,
   "metadata": {},
   "outputs": [],
   "source": [
    "merge_anime = merge_anime[merge_anime[\"duration\"] != \"Unknown\"]"
   ]
  },
  {
   "cell_type": "markdown",
   "metadata": {},
   "source": [
    "__IMPORTANT NOTE:__\n",
    "\n",
    "We ran into issues with cross val scores taking immensely long with our whole dataset. So we made the decision to do our project using a sample from our dataset. Our project can be run without it, and still be sound."
   ]
  },
  {
   "cell_type": "code",
   "execution_count": 6,
   "metadata": {},
   "outputs": [],
   "source": [
    "training_data = merge_anime.sample(frac = 0.10)"
   ]
  },
  {
   "cell_type": "markdown",
   "metadata": {},
   "source": [
    "Cleaning dates"
   ]
  },
  {
   "cell_type": "code",
   "execution_count": 7,
   "metadata": {},
   "outputs": [],
   "source": [
    "training_data[\"datetime\"] = training_data[\"datetime\"]. \\\n",
    "                            str.replace(\"\\n\", \"\"). \\\n",
    "                            str.strip()\n",
    "\n",
    "training_data[\"datetime\"] = pd.to_datetime(training_data['datetime'],\n",
    "                                           format='%b %d, %Y')\n",
    "\n",
    "training_data[\"datetime\"] = (pd.to_datetime(training_data['datetime']).\n",
    "                                             apply(lambda date: date.toordinal()))"
   ]
  },
  {
   "cell_type": "code",
   "execution_count": 8,
   "metadata": {},
   "outputs": [],
   "source": [
    "training_data[\"duration\"] = training_data[\"duration\"].str.split(\" \").apply(lambda x : x[0]).astype(\"float64\")"
   ]
  },
  {
   "cell_type": "markdown",
   "metadata": {},
   "source": [
    "Cleaning text data"
   ]
  },
  {
   "cell_type": "code",
   "execution_count": 9,
   "metadata": {},
   "outputs": [],
   "source": [
    "training_data[\"tags\"] = training_data[\"tags\"].apply(str)\n",
    "training_data[\"similar\"] = training_data[\"similar\"].apply(str)"
   ]
  },
  {
   "cell_type": "code",
   "execution_count": 10,
   "metadata": {},
   "outputs": [],
   "source": [
    "training_data = clean_data(training_data, \"desc\", \"review\", \"summary\",\"tags\",\"similar\")"
   ]
  },
  {
   "cell_type": "markdown",
   "metadata": {},
   "source": [
    "# Text Features"
   ]
  },
  {
   "cell_type": "markdown",
   "metadata": {},
   "source": [
    "We will stay throughout using a __Normalizer__ as the scaler and __Euclidean__ as the metric in order to mimic taking Cosine Distance, since that is the best way for gauging distance between text data. Recall Lesson $10.2$."
   ]
  },
  {
   "cell_type": "markdown",
   "metadata": {},
   "source": [
    "### Stepwise Analysis"
   ]
  },
  {
   "cell_type": "code",
   "execution_count": 197,
   "metadata": {},
   "outputs": [],
   "source": [
    "word_training = training_data[[\"similar\",\n",
    "                               \"desc\",\n",
    "                               \"tags\",\n",
    "                               \"review\",\n",
    "                               \"summary\",\n",
    "                               \"genre\",\n",
    "                               \"agg_rating\"]]"
   ]
  },
  {
   "cell_type": "code",
   "execution_count": 198,
   "metadata": {},
   "outputs": [],
   "source": [
    "def stepwise(column):\n",
    "    vec = TfidfVectorizer()\n",
    "    scaler = Normalizer()\n",
    "    model = KNeighborsRegressor(n_neighbors=30,metric=\"euclidean\")\n",
    "    pipeline = Pipeline([(\"vectorizer\",vec),(\"scaler\",scaler),(\"fit\",model)])\n",
    "    \n",
    "    return (np.mean(-cross_val_score(pipeline, word_x_train[column], word_training[\"agg_rating\"], \n",
    "                    cv=5,scoring = \"neg_mean_squared_error\")))"
   ]
  },
  {
   "cell_type": "code",
   "execution_count": 199,
   "metadata": {},
   "outputs": [],
   "source": [
    "word_x_train = word_training[[\"similar\",\n",
    "                               \"desc\",\n",
    "                               \"tags\",\n",
    "                               \"review\",\n",
    "                               \"summary\",\n",
    "                               \"genre\"]]\n",
    "\n",
    "columns = word_x_train.columns\n",
    "columns = pd.DataFrame(columns).rename(index =str, columns = {0:\"columns\"})\n",
    "\n",
    "columns[\"MSE\"] = columns[\"columns\"].apply(stepwise)"
   ]
  },
  {
   "cell_type": "code",
   "execution_count": 200,
   "metadata": {},
   "outputs": [
    {
     "data": {
      "text/html": [
       "<div>\n",
       "<style scoped>\n",
       "    .dataframe tbody tr th:only-of-type {\n",
       "        vertical-align: middle;\n",
       "    }\n",
       "\n",
       "    .dataframe tbody tr th {\n",
       "        vertical-align: top;\n",
       "    }\n",
       "\n",
       "    .dataframe thead th {\n",
       "        text-align: right;\n",
       "    }\n",
       "</style>\n",
       "<table border=\"1\" class=\"dataframe\">\n",
       "  <thead>\n",
       "    <tr style=\"text-align: right;\">\n",
       "      <th></th>\n",
       "      <th>columns</th>\n",
       "      <th>MSE</th>\n",
       "    </tr>\n",
       "  </thead>\n",
       "  <tbody>\n",
       "    <tr>\n",
       "      <th>5</th>\n",
       "      <td>genre</td>\n",
       "      <td>0.119958</td>\n",
       "    </tr>\n",
       "    <tr>\n",
       "      <th>2</th>\n",
       "      <td>tags</td>\n",
       "      <td>0.128828</td>\n",
       "    </tr>\n",
       "    <tr>\n",
       "      <th>1</th>\n",
       "      <td>desc</td>\n",
       "      <td>0.132524</td>\n",
       "    </tr>\n",
       "    <tr>\n",
       "      <th>0</th>\n",
       "      <td>similar</td>\n",
       "      <td>0.156448</td>\n",
       "    </tr>\n",
       "    <tr>\n",
       "      <th>3</th>\n",
       "      <td>review</td>\n",
       "      <td>0.241374</td>\n",
       "    </tr>\n",
       "  </tbody>\n",
       "</table>\n",
       "</div>"
      ],
      "text/plain": [
       "   columns       MSE\n",
       "5    genre  0.119958\n",
       "2     tags  0.128828\n",
       "1     desc  0.132524\n",
       "0  similar  0.156448\n",
       "3   review  0.241374"
      ]
     },
     "execution_count": 200,
     "metadata": {},
     "output_type": "execute_result"
    }
   ],
   "source": [
    "columns.sort_values(\"MSE\").head()"
   ]
  },
  {
   "cell_type": "markdown",
   "metadata": {},
   "source": [
    "__Conclusion:__\n",
    "\n",
    "We can see that Description, Tags, and Genre give the best performance, while review and similar are not."
   ]
  },
  {
   "cell_type": "markdown",
   "metadata": {},
   "source": [
    "### Feature Union"
   ]
  },
  {
   "cell_type": "markdown",
   "metadata": {},
   "source": [
    "We want to include more than just one text column for our model, to do this we will need to apply a seperate TF-IDF vectorizer to each column. To be able to do this we need to use a Feature Union."
   ]
  },
  {
   "cell_type": "code",
   "execution_count": 201,
   "metadata": {},
   "outputs": [],
   "source": [
    "from sklearn.preprocessing import FunctionTransformer\n",
    "from sklearn.pipeline import FeatureUnion, Pipeline\n",
    "\n",
    "\n",
    "transformer = FeatureUnion([\n",
    "                ('similar_tfidf', \n",
    "                  Pipeline([('extract_field',\n",
    "                              FunctionTransformer(lambda x: x['similar'], \n",
    "                                                  validate=False)),\n",
    "                            ('tfidf', \n",
    "                              TfidfVectorizer())])),\n",
    "                ('desc_tfidf', \n",
    "                  Pipeline([('extract_field', \n",
    "                              FunctionTransformer(lambda x: x['desc'], \n",
    "                                                  validate=False)),\n",
    "                            ('tfidf', \n",
    "                              TfidfVectorizer())])),\n",
    "                ('tags_tfidf', \n",
    "                  Pipeline([('extract_field', \n",
    "                              FunctionTransformer(lambda x: x['tags'], \n",
    "                                                  validate=False)),\n",
    "                            ('tfidf', \n",
    "                              TfidfVectorizer())])),\n",
    "                ('review_tfidf', \n",
    "                  Pipeline([('extract_field', \n",
    "                              FunctionTransformer(lambda x: x['review'], \n",
    "                                                  validate=False)),\n",
    "                            ('tfidf', \n",
    "                              TfidfVectorizer())])),\n",
    "                ('summary_tfidf', \n",
    "                  Pipeline([('extract_field', \n",
    "                              FunctionTransformer(lambda x: x['summary'], \n",
    "                                                  validate=False)),\n",
    "                            ('tfidf', \n",
    "                              TfidfVectorizer())])),\n",
    "                ('genre_tfidf', \n",
    "                  Pipeline([('extract_field', \n",
    "                              FunctionTransformer(lambda x: x['genre'], \n",
    "                                                  validate=False)),\n",
    "                            ('tfidf', \n",
    "                              TfidfVectorizer())]))])"
   ]
  },
  {
   "cell_type": "code",
   "execution_count": 202,
   "metadata": {},
   "outputs": [
    {
     "data": {
      "text/plain": [
       "0.10288942889749302"
      ]
     },
     "execution_count": 202,
     "metadata": {},
     "output_type": "execute_result"
    }
   ],
   "source": [
    "word_x_train = word_training[[\"similar\",\"desc\",\"tags\",\"review\",\"summary\",\"genre\"]]\n",
    "\n",
    "scaler = Normalizer()\n",
    "model = KNeighborsRegressor(n_neighbors=30,metric=\"euclidean\")\n",
    "pipeline = Pipeline([(\"vectorizer\",transformer),(\"scaler\",scaler),(\"fit\",model)])\n",
    "\n",
    "np.mean(-cross_val_score(pipeline, word_x_train, word_training[\"agg_rating\"], \n",
    "                cv=5,scoring = \"neg_mean_squared_error\"))"
   ]
  },
  {
   "cell_type": "markdown",
   "metadata": {},
   "source": [
    "Using all our text columns gave us a MSE of $0.10288$. That is better than any one of single text columns MSE's.\n",
    "\n",
    "However we say that some text columns were lacking, specifically \"similar\" and \"reviews\". Let's try dropping them and seeing if our model improves in performance "
   ]
  },
  {
   "cell_type": "code",
   "execution_count": 203,
   "metadata": {},
   "outputs": [],
   "source": [
    "transformer = FeatureUnion([\n",
    "                ('desc_tfidf', \n",
    "                  Pipeline([('extract_field', \n",
    "                              FunctionTransformer(lambda x: x['desc'], \n",
    "                                                  validate=False)),\n",
    "                            ('tfidf', \n",
    "                              TfidfVectorizer())])),\n",
    "                ('tags_tfidf', \n",
    "                  Pipeline([('extract_field', \n",
    "                              FunctionTransformer(lambda x: x['tags'], \n",
    "                                                  validate=False)),\n",
    "                            ('tfidf', \n",
    "                              TfidfVectorizer())])),\n",
    "                ('genre_tfidf', \n",
    "                  Pipeline([('extract_field', \n",
    "                              FunctionTransformer(lambda x: x['genre'], \n",
    "                                                  validate=False)),\n",
    "                            ('tfidf', \n",
    "                              TfidfVectorizer())]))])"
   ]
  },
  {
   "cell_type": "code",
   "execution_count": 204,
   "metadata": {},
   "outputs": [
    {
     "data": {
      "text/plain": [
       "0.09797257981361297"
      ]
     },
     "execution_count": 204,
     "metadata": {},
     "output_type": "execute_result"
    }
   ],
   "source": [
    "word_x_train = word_training[[\"desc\",\"tags\",\"genre\"]]\n",
    "\n",
    "scaler = Normalizer()\n",
    "model = KNeighborsRegressor(n_neighbors=30,metric=\"euclidean\")\n",
    "pipeline = Pipeline([(\"vectorizer\",transformer),(\"scaler\",scaler),(\"fit\",model)])\n",
    "\n",
    "np.mean(-cross_val_score(pipeline, word_x_train, word_training[\"agg_rating\"], \n",
    "                cv=5,scoring = \"neg_mean_squared_error\"))"
   ]
  },
  {
   "cell_type": "markdown",
   "metadata": {},
   "source": [
    "It looks like that dropping those two columns did help our MSE go down."
   ]
  },
  {
   "cell_type": "markdown",
   "metadata": {},
   "source": [
    "### Evaluating different K values"
   ]
  },
  {
   "cell_type": "markdown",
   "metadata": {},
   "source": [
    "Let's go back to our first FeatureUnion model since we know it worked better"
   ]
  },
  {
   "cell_type": "code",
   "execution_count": 205,
   "metadata": {},
   "outputs": [],
   "source": [
    "transformer = FeatureUnion([\n",
    "                ('desc_tfidf', \n",
    "                  Pipeline([('extract_field', \n",
    "                              FunctionTransformer(lambda x: x['desc'], \n",
    "                                                  validate=False)),\n",
    "                            ('tfidf', \n",
    "                              TfidfVectorizer())])),\n",
    "                ('tags_tfidf', \n",
    "                  Pipeline([('extract_field', \n",
    "                              FunctionTransformer(lambda x: x['tags'], \n",
    "                                                  validate=False)),\n",
    "                            ('tfidf', \n",
    "                              TfidfVectorizer())])),\n",
    "                ('genre_tfidf', \n",
    "                  Pipeline([('extract_field', \n",
    "                              FunctionTransformer(lambda x: x['genre'], \n",
    "                                                  validate=False)),\n",
    "                            ('tfidf', \n",
    "                              TfidfVectorizer())]))])"
   ]
  },
  {
   "cell_type": "code",
   "execution_count": 206,
   "metadata": {},
   "outputs": [],
   "source": [
    "word_x_train = word_training[[\"desc\",\"tags\",\"genre\"]]\n",
    "\n",
    "scaler = Normalizer()\n",
    "model = KNeighborsRegressor(n_neighbors=30,metric=\"euclidean\")\n",
    "pipeline = Pipeline([(\"vectorizer\",transformer),(\"scaler\",scaler),(\"fit\",model)])"
   ]
  },
  {
   "cell_type": "markdown",
   "metadata": {},
   "source": [
    "Let's evaluate what amount of neighbors for the KNeighborsRegressor is optimal. Do better organize this let's create a dataframe of $K$ values we want to test.\n",
    "\n",
    "We will increment in 10's in order to save runtime, and focus in on the mininium that should appear."
   ]
  },
  {
   "cell_type": "code",
   "execution_count": 207,
   "metadata": {},
   "outputs": [],
   "source": [
    "ks = pd.Series(range(5,65,10))\n",
    "ks.index = range(5,65,10)\n",
    "ks = pd.DataFrame(ks).rename(index= str, columns = {0:\"K\"})"
   ]
  },
  {
   "cell_type": "code",
   "execution_count": 208,
   "metadata": {},
   "outputs": [],
   "source": [
    "def test_k_vals(k):\n",
    "    scaler = Normalizer()\n",
    "    model = KNeighborsRegressor(n_neighbors=k,metric=\"euclidean\")\n",
    "    pipeline = Pipeline([(\"vectorizer\",transformer),(\"scaler\",scaler),(\"fit\",model)])\n",
    "\n",
    "    return np.mean(-cross_val_score(pipeline, word_x_train, word_training[\"agg_rating\"], \n",
    "                cv=8,scoring = \"neg_mean_squared_error\"))\n",
    "\n",
    "def test_k_vals_train(k):\n",
    "    scaler = Normalizer()\n",
    "    model = KNeighborsRegressor(n_neighbors=k,metric=\"euclidean\")\n",
    "    pipeline = Pipeline([(\"vectorizer\",transformer),(\"scaler\",scaler),(\"fit\",model)])\n",
    "    pipeline.fit(word_x_train,word_training[\"agg_rating\"])\n",
    "    y_pred = pipeline.predict(word_x_train)\n",
    "    \n",
    "    return ((word_training[\"agg_rating\"] - y_pred) ** 2).mean()"
   ]
  },
  {
   "cell_type": "code",
   "execution_count": 209,
   "metadata": {},
   "outputs": [],
   "source": [
    "ks[\"MSE\"] = ks[\"K\"].apply(test_k_vals)"
   ]
  },
  {
   "cell_type": "code",
   "execution_count": 210,
   "metadata": {},
   "outputs": [],
   "source": [
    "ks[\"MSE_train\"] = ks[\"K\"].apply(test_k_vals_train)"
   ]
  },
  {
   "cell_type": "code",
   "execution_count": 211,
   "metadata": {},
   "outputs": [
    {
     "data": {
      "text/html": [
       "<div>\n",
       "<style scoped>\n",
       "    .dataframe tbody tr th:only-of-type {\n",
       "        vertical-align: middle;\n",
       "    }\n",
       "\n",
       "    .dataframe tbody tr th {\n",
       "        vertical-align: top;\n",
       "    }\n",
       "\n",
       "    .dataframe thead th {\n",
       "        text-align: right;\n",
       "    }\n",
       "</style>\n",
       "<table border=\"1\" class=\"dataframe\">\n",
       "  <thead>\n",
       "    <tr style=\"text-align: right;\">\n",
       "      <th></th>\n",
       "      <th>K</th>\n",
       "      <th>MSE</th>\n",
       "      <th>MSE_train</th>\n",
       "    </tr>\n",
       "  </thead>\n",
       "  <tbody>\n",
       "    <tr>\n",
       "      <th>5</th>\n",
       "      <td>5</td>\n",
       "      <td>0.027142</td>\n",
       "      <td>0.013114</td>\n",
       "    </tr>\n",
       "    <tr>\n",
       "      <th>15</th>\n",
       "      <td>15</td>\n",
       "      <td>0.054744</td>\n",
       "      <td>0.042845</td>\n",
       "    </tr>\n",
       "    <tr>\n",
       "      <th>25</th>\n",
       "      <td>25</td>\n",
       "      <td>0.079915</td>\n",
       "      <td>0.065010</td>\n",
       "    </tr>\n",
       "    <tr>\n",
       "      <th>35</th>\n",
       "      <td>35</td>\n",
       "      <td>0.102373</td>\n",
       "      <td>0.084733</td>\n",
       "    </tr>\n",
       "    <tr>\n",
       "      <th>45</th>\n",
       "      <td>45</td>\n",
       "      <td>0.118533</td>\n",
       "      <td>0.104074</td>\n",
       "    </tr>\n",
       "  </tbody>\n",
       "</table>\n",
       "</div>"
      ],
      "text/plain": [
       "     K       MSE  MSE_train\n",
       "5    5  0.027142   0.013114\n",
       "15  15  0.054744   0.042845\n",
       "25  25  0.079915   0.065010\n",
       "35  35  0.102373   0.084733\n",
       "45  45  0.118533   0.104074"
      ]
     },
     "execution_count": 211,
     "metadata": {},
     "output_type": "execute_result"
    }
   ],
   "source": [
    "ks.head()"
   ]
  },
  {
   "cell_type": "code",
   "execution_count": 212,
   "metadata": {},
   "outputs": [
    {
     "data": {
      "text/plain": [
       "<matplotlib.legend.Legend at 0x1255bea58>"
      ]
     },
     "execution_count": 212,
     "metadata": {},
     "output_type": "execute_result"
    },
    {
     "data": {
      "image/png": "[encoded data removed]",
      "text/plain": [
       "<Figure size 432x288 with 1 Axes>"
      ]
     },
     "metadata": {
      "needs_background": "light"
     },
     "output_type": "display_data"
    }
   ],
   "source": [
    "import matplotlib.pyplot as plt\n",
    "\n",
    "plt.title(\"Validation & Training MSE as K increases\")\n",
    "\n",
    "plt.plot(\"K\",\"MSE_train\", data = ks)\n",
    "plt.plot(\"K\",\"MSE\", data = ks)\n",
    "plt.legend()"
   ]
  },
  {
   "cell_type": "markdown",
   "metadata": {},
   "source": [
    "It looks appears that $K = 5$ gives us the best MSE."
   ]
  },
  {
   "cell_type": "markdown",
   "metadata": {},
   "source": [
    "## Min DF"
   ]
  },
  {
   "cell_type": "code",
   "execution_count": 213,
   "metadata": {},
   "outputs": [],
   "source": [
    "def test_min_df_vals(min_df):\n",
    "    \n",
    "    transformer = FeatureUnion([\n",
    "                ('desc_tfidf', \n",
    "                  Pipeline([('extract_field', \n",
    "                              FunctionTransformer(lambda x: x['desc'], \n",
    "                                                  validate=False)),\n",
    "                            ('tfidf', \n",
    "                              TfidfVectorizer(min_df = min_df))])),\n",
    "                ('tags_tfidf', \n",
    "                  Pipeline([('extract_field', \n",
    "                              FunctionTransformer(lambda x: x['tags'], \n",
    "                                                  validate=False)),\n",
    "                            ('tfidf', \n",
    "                              TfidfVectorizer(min_df = min_df))])),\n",
    "                ('genre_tfidf', \n",
    "                  Pipeline([('extract_field', \n",
    "                              FunctionTransformer(lambda x: x['genre'], \n",
    "                                                  validate=False)),\n",
    "                            ('tfidf', \n",
    "                              TfidfVectorizer(min_df = min_df))]))])\n",
    "    \n",
    "    scaler = Normalizer()\n",
    "    model = KNeighborsRegressor(n_neighbors=5,metric=\"euclidean\")\n",
    "    pipeline = Pipeline([(\"vectorizer\",transformer),(\"scaler\",scaler),(\"fit\",model)])\n",
    "    \n",
    "    val = np.mean(-cross_val_score(pipeline, word_x_train, word_training[\"agg_rating\"], \n",
    "            cv=8,scoring = \"neg_mean_squared_error\",error_score=np.nan))\n",
    "\n",
    "    return val"
   ]
  },
  {
   "cell_type": "code",
   "execution_count": 214,
   "metadata": {},
   "outputs": [],
   "source": [
    "min_df = pd.Series(range(0,101,10),index=range(0,101,10)) * 0.01\n",
    "min_df = pd.DataFrame(min_df).rename(index=str, columns={0:\"min_df\"})"
   ]
  },
  {
   "cell_type": "code",
   "execution_count": 215,
   "metadata": {},
   "outputs": [
    {
     "name": "stderr",
     "output_type": "stream",
     "text": [
      "/Library/Frameworks/Python.framework/Versions/3.6/lib/python3.6/site-packages/sklearn/model_selection/_validation.py:559: FitFailedWarning: Estimator fit failed. The score on this train-test partition for these parameters will be set to nan. Details: \n",
      "ValueError: After pruning, no terms remain. Try a lower min_df or a higher max_df.\n",
      "\n",
      "  FitFailedWarning)\n"
     ]
    }
   ],
   "source": [
    "min_df[\"MSE\"] = min_df[\"min_df\"].apply(test_min_df_vals)"
   ]
  },
  {
   "cell_type": "code",
   "execution_count": 216,
   "metadata": {},
   "outputs": [
    {
     "data": {
      "text/html": [
       "<div>\n",
       "<style scoped>\n",
       "    .dataframe tbody tr th:only-of-type {\n",
       "        vertical-align: middle;\n",
       "    }\n",
       "\n",
       "    .dataframe tbody tr th {\n",
       "        vertical-align: top;\n",
       "    }\n",
       "\n",
       "    .dataframe thead th {\n",
       "        text-align: right;\n",
       "    }\n",
       "</style>\n",
       "<table border=\"1\" class=\"dataframe\">\n",
       "  <thead>\n",
       "    <tr style=\"text-align: right;\">\n",
       "      <th></th>\n",
       "      <th>min_df</th>\n",
       "      <th>MSE</th>\n",
       "    </tr>\n",
       "  </thead>\n",
       "  <tbody>\n",
       "    <tr>\n",
       "      <th>20</th>\n",
       "      <td>0.2</td>\n",
       "      <td>0.027135</td>\n",
       "    </tr>\n",
       "    <tr>\n",
       "      <th>0</th>\n",
       "      <td>0.0</td>\n",
       "      <td>0.027142</td>\n",
       "    </tr>\n",
       "    <tr>\n",
       "      <th>...</th>\n",
       "      <td>...</td>\n",
       "      <td>...</td>\n",
       "    </tr>\n",
       "    <tr>\n",
       "      <th>90</th>\n",
       "      <td>0.9</td>\n",
       "      <td>NaN</td>\n",
       "    </tr>\n",
       "    <tr>\n",
       "      <th>100</th>\n",
       "      <td>1.0</td>\n",
       "      <td>NaN</td>\n",
       "    </tr>\n",
       "  </tbody>\n",
       "</table>\n",
       "<p>11 rows × 2 columns</p>\n",
       "</div>"
      ],
      "text/plain": [
       "     min_df       MSE\n",
       "20      0.2  0.027135\n",
       "0       0.0  0.027142\n",
       "..      ...       ...\n",
       "90      0.9       NaN\n",
       "100     1.0       NaN\n",
       "\n",
       "[11 rows x 2 columns]"
      ]
     },
     "execution_count": 216,
     "metadata": {},
     "output_type": "execute_result"
    }
   ],
   "source": [
    "min_df.sort_values(\"MSE\")"
   ]
  },
  {
   "cell_type": "code",
   "execution_count": 217,
   "metadata": {},
   "outputs": [
    {
     "data": {
      "text/plain": [
       "[<matplotlib.lines.Line2D at 0x123c58ba8>]"
      ]
     },
     "execution_count": 217,
     "metadata": {},
     "output_type": "execute_result"
    },
    {
     "data": {
      "image/png": "[encoded data removed]",
      "text/plain": [
       "<Figure size 432x288 with 1 Axes>"
      ]
     },
     "metadata": {
      "needs_background": "light"
     },
     "output_type": "display_data"
    }
   ],
   "source": [
    "plt.title(\"MSE as Min_DF increases [0,1]\")\n",
    "\n",
    "plt.plot(\"min_df\",\"MSE\", data = min_df)\n"
   ]
  },
  {
   "cell_type": "markdown",
   "metadata": {},
   "source": [
    "It appears that making our Min-DF as 2 gives us the best results.\n",
    "\n",
    "Let's try focusing in on the interval between $[0.1,0.2]$ to make sure we didn't miss out on a minimum."
   ]
  },
  {
   "cell_type": "code",
   "execution_count": 218,
   "metadata": {},
   "outputs": [],
   "source": [
    "min_df = pd.Series(range(100,201,10),index=range(100,201,10)) * 0.001\n",
    "\n",
    "min_df = pd.DataFrame(min_df).rename(index=str, columns={0:\"min_df\"})\n",
    "\n",
    "min_df[\"MSE\"] = min_df[\"min_df\"].apply(test_min_df_vals)"
   ]
  },
  {
   "cell_type": "code",
   "execution_count": 219,
   "metadata": {},
   "outputs": [
    {
     "data": {
      "text/html": [
       "<div>\n",
       "<style scoped>\n",
       "    .dataframe tbody tr th:only-of-type {\n",
       "        vertical-align: middle;\n",
       "    }\n",
       "\n",
       "    .dataframe tbody tr th {\n",
       "        vertical-align: top;\n",
       "    }\n",
       "\n",
       "    .dataframe thead th {\n",
       "        text-align: right;\n",
       "    }\n",
       "</style>\n",
       "<table border=\"1\" class=\"dataframe\">\n",
       "  <thead>\n",
       "    <tr style=\"text-align: right;\">\n",
       "      <th></th>\n",
       "      <th>min_df</th>\n",
       "      <th>MSE</th>\n",
       "    </tr>\n",
       "  </thead>\n",
       "  <tbody>\n",
       "    <tr>\n",
       "      <th>170</th>\n",
       "      <td>0.17</td>\n",
       "      <td>0.025864</td>\n",
       "    </tr>\n",
       "    <tr>\n",
       "      <th>140</th>\n",
       "      <td>0.14</td>\n",
       "      <td>0.026610</td>\n",
       "    </tr>\n",
       "    <tr>\n",
       "      <th>180</th>\n",
       "      <td>0.18</td>\n",
       "      <td>0.026696</td>\n",
       "    </tr>\n",
       "    <tr>\n",
       "      <th>190</th>\n",
       "      <td>0.19</td>\n",
       "      <td>0.026705</td>\n",
       "    </tr>\n",
       "    <tr>\n",
       "      <th>200</th>\n",
       "      <td>0.20</td>\n",
       "      <td>0.027135</td>\n",
       "    </tr>\n",
       "  </tbody>\n",
       "</table>\n",
       "</div>"
      ],
      "text/plain": [
       "     min_df       MSE\n",
       "170    0.17  0.025864\n",
       "140    0.14  0.026610\n",
       "180    0.18  0.026696\n",
       "190    0.19  0.026705\n",
       "200    0.20  0.027135"
      ]
     },
     "execution_count": 219,
     "metadata": {},
     "output_type": "execute_result"
    }
   ],
   "source": [
    "min_df.sort_values(\"MSE\").head()"
   ]
  },
  {
   "cell_type": "code",
   "execution_count": 220,
   "metadata": {},
   "outputs": [
    {
     "data": {
      "text/plain": [
       "[<matplotlib.lines.Line2D at 0x124571c18>]"
      ]
     },
     "execution_count": 220,
     "metadata": {},
     "output_type": "execute_result"
    },
    {
     "data": {
      "image/png": "[encoded data removed]",
      "text/plain": [
       "<Figure size 432x288 with 1 Axes>"
      ]
     },
     "metadata": {
      "needs_background": "light"
     },
     "output_type": "display_data"
    }
   ],
   "source": [
    "plt.title(\"MSE as Min_DF increases [0.1, 0.2]\")\n",
    "\n",
    "plt.plot(\"min_df\",\"MSE\", data = min_df)"
   ]
  },
  {
   "cell_type": "markdown",
   "metadata": {},
   "source": [
    "It looks like it was good that we focused in on that interval $[0.1,0.2]$ since it now shows that a min_df of $0.17$ gives us the best MSE."
   ]
  },
  {
   "cell_type": "markdown",
   "metadata": {},
   "source": [
    "## Conclusion"
   ]
  },
  {
   "cell_type": "markdown",
   "metadata": {},
   "source": [
    "The best model for the text data appears to be $5$ Neighbors KNearestRegressor, using all textual data but reviews and Similar, and having a min_df of $0.17$ for our TF-IDF Vectorizer, which gives us a MSE of $0.025864$."
   ]
  },
  {
   "cell_type": "markdown",
   "metadata": {},
   "source": [
    "# Quantitative Variables"
   ]
  },
  {
   "cell_type": "code",
   "execution_count": 252,
   "metadata": {},
   "outputs": [],
   "source": [
    "quant_training = training_data[[\"num_eps\",\"datetime\",\"duration\",\"agg_rating\"]]"
   ]
  },
  {
   "cell_type": "code",
   "execution_count": 253,
   "metadata": {},
   "outputs": [
    {
     "data": {
      "text/html": [
       "<div>\n",
       "<style scoped>\n",
       "    .dataframe tbody tr th:only-of-type {\n",
       "        vertical-align: middle;\n",
       "    }\n",
       "\n",
       "    .dataframe tbody tr th {\n",
       "        vertical-align: top;\n",
       "    }\n",
       "\n",
       "    .dataframe thead th {\n",
       "        text-align: right;\n",
       "    }\n",
       "</style>\n",
       "<table border=\"1\" class=\"dataframe\">\n",
       "  <thead>\n",
       "    <tr style=\"text-align: right;\">\n",
       "      <th></th>\n",
       "      <th>num_eps</th>\n",
       "      <th>datetime</th>\n",
       "      <th>duration</th>\n",
       "      <th>agg_rating</th>\n",
       "    </tr>\n",
       "  </thead>\n",
       "  <tbody>\n",
       "    <tr>\n",
       "      <th>num_eps</th>\n",
       "      <td>1.000000</td>\n",
       "      <td>-0.096811</td>\n",
       "      <td>0.066826</td>\n",
       "      <td>0.188607</td>\n",
       "    </tr>\n",
       "    <tr>\n",
       "      <th>datetime</th>\n",
       "      <td>-0.096811</td>\n",
       "      <td>1.000000</td>\n",
       "      <td>-0.069702</td>\n",
       "      <td>-0.213772</td>\n",
       "    </tr>\n",
       "    <tr>\n",
       "      <th>duration</th>\n",
       "      <td>0.066826</td>\n",
       "      <td>-0.069702</td>\n",
       "      <td>1.000000</td>\n",
       "      <td>0.144948</td>\n",
       "    </tr>\n",
       "    <tr>\n",
       "      <th>agg_rating</th>\n",
       "      <td>0.188607</td>\n",
       "      <td>-0.213772</td>\n",
       "      <td>0.144948</td>\n",
       "      <td>1.000000</td>\n",
       "    </tr>\n",
       "  </tbody>\n",
       "</table>\n",
       "</div>"
      ],
      "text/plain": [
       "             num_eps  datetime  duration  agg_rating\n",
       "num_eps     1.000000 -0.096811  0.066826    0.188607\n",
       "datetime   -0.096811  1.000000 -0.069702   -0.213772\n",
       "duration    0.066826 -0.069702  1.000000    0.144948\n",
       "agg_rating  0.188607 -0.213772  0.144948    1.000000"
      ]
     },
     "execution_count": 253,
     "metadata": {},
     "output_type": "execute_result"
    }
   ],
   "source": [
    "quant_training.corr()"
   ]
  },
  {
   "cell_type": "markdown",
   "metadata": {},
   "source": [
    "Out of all the possible features, it appears that num_eps has the highest correlation, albeit a weak one."
   ]
  },
  {
   "cell_type": "markdown",
   "metadata": {},
   "source": [
    "## Stepwise"
   ]
  },
  {
   "cell_type": "code",
   "execution_count": 254,
   "metadata": {},
   "outputs": [],
   "source": [
    "def stepwise_Q(column):\n",
    "    vec = DictVectorizer(sparse = False)\n",
    "    scaler = StandardScaler()\n",
    "    model = KNeighborsRegressor(n_neighbors=30)\n",
    "    pipeline = Pipeline([(\"vectorizer\",vec),(\"scaler\",scaler),(\"fit\",model)])\n",
    "    \n",
    "    return (np.mean(-cross_val_score(pipeline, quant_training[[column]].to_dict(orient=\"records\"),\n",
    "                                     quant_training[\"agg_rating\"], \n",
    "                    cv=5,scoring = \"neg_mean_squared_error\")))"
   ]
  },
  {
   "cell_type": "code",
   "execution_count": 256,
   "metadata": {},
   "outputs": [],
   "source": [
    "quant_training_x = quant_training[[\"num_eps\",\"datetime\",\"duration\"]]\n",
    "\n",
    "columns = quant_training_x.columns\n",
    "columns = pd.DataFrame(columns).rename(index =str, columns = {0:\"columns\"})"
   ]
  },
  {
   "cell_type": "code",
   "execution_count": 257,
   "metadata": {},
   "outputs": [],
   "source": [
    "columns[\"MSE\"] = columns[\"columns\"].apply(stepwise_Q)"
   ]
  },
  {
   "cell_type": "code",
   "execution_count": 258,
   "metadata": {},
   "outputs": [
    {
     "data": {
      "text/html": [
       "<div>\n",
       "<style scoped>\n",
       "    .dataframe tbody tr th:only-of-type {\n",
       "        vertical-align: middle;\n",
       "    }\n",
       "\n",
       "    .dataframe tbody tr th {\n",
       "        vertical-align: top;\n",
       "    }\n",
       "\n",
       "    .dataframe thead th {\n",
       "        text-align: right;\n",
       "    }\n",
       "</style>\n",
       "<table border=\"1\" class=\"dataframe\">\n",
       "  <thead>\n",
       "    <tr style=\"text-align: right;\">\n",
       "      <th></th>\n",
       "      <th>columns</th>\n",
       "      <th>MSE</th>\n",
       "    </tr>\n",
       "  </thead>\n",
       "  <tbody>\n",
       "    <tr>\n",
       "      <th>0</th>\n",
       "      <td>num_eps</td>\n",
       "      <td>0.228644</td>\n",
       "    </tr>\n",
       "    <tr>\n",
       "      <th>2</th>\n",
       "      <td>duration</td>\n",
       "      <td>0.254954</td>\n",
       "    </tr>\n",
       "    <tr>\n",
       "      <th>1</th>\n",
       "      <td>datetime</td>\n",
       "      <td>0.263808</td>\n",
       "    </tr>\n",
       "  </tbody>\n",
       "</table>\n",
       "</div>"
      ],
      "text/plain": [
       "    columns       MSE\n",
       "0   num_eps  0.228644\n",
       "2  duration  0.254954\n",
       "1  datetime  0.263808"
      ]
     },
     "execution_count": 258,
     "metadata": {},
     "output_type": "execute_result"
    }
   ],
   "source": [
    "columns.sort_values(\"MSE\")"
   ]
  },
  {
   "cell_type": "markdown",
   "metadata": {},
   "source": [
    "It appears that \"num_eps\" performed the best while datetime did poorly."
   ]
  },
  {
   "cell_type": "markdown",
   "metadata": {},
   "source": [
    "## Picking a model"
   ]
  },
  {
   "cell_type": "code",
   "execution_count": 259,
   "metadata": {},
   "outputs": [],
   "source": [
    "model1 =[\"num_eps\",\"duration\"]\n",
    "model2 =[\"num_eps\",\"datetime\"]\n",
    "model3 =[\"num_eps\",\"duration\",\"datetime\"]\n",
    "\n",
    "models = [[model1],[model2],[model3]]\n",
    "models = pd.DataFrame(models).rename(index =str, columns = {0:\"models\"})"
   ]
  },
  {
   "cell_type": "code",
   "execution_count": 260,
   "metadata": {},
   "outputs": [],
   "source": [
    "def eval_models(features):\n",
    "    vec = DictVectorizer(sparse = False)\n",
    "    scaler = StandardScaler()\n",
    "    model = KNeighborsRegressor(n_neighbors=30)\n",
    "    pipeline = Pipeline([(\"vectorizer\",vec),(\"scaler\",scaler),(\"fit\",model)])\n",
    "    X_dict = pd.DataFrame(quant_training[features]).to_dict(orient=\"records\")\n",
    "    y = quant_training[\"agg_rating\"]\n",
    "    return((np.mean(\n",
    "        -cross_val_score(pipeline, X_dict, y, cv=8,\n",
    "                         scoring=\"neg_mean_squared_error\")\n",
    "    )))"
   ]
  },
  {
   "cell_type": "code",
   "execution_count": 261,
   "metadata": {},
   "outputs": [],
   "source": [
    "models[\"MSE\"] = models[\"models\"].apply(eval_models)"
   ]
  },
  {
   "cell_type": "code",
   "execution_count": 262,
   "metadata": {},
   "outputs": [
    {
     "data": {
      "text/html": [
       "<div>\n",
       "<style scoped>\n",
       "    .dataframe tbody tr th:only-of-type {\n",
       "        vertical-align: middle;\n",
       "    }\n",
       "\n",
       "    .dataframe tbody tr th {\n",
       "        vertical-align: top;\n",
       "    }\n",
       "\n",
       "    .dataframe thead th {\n",
       "        text-align: right;\n",
       "    }\n",
       "</style>\n",
       "<table border=\"1\" class=\"dataframe\">\n",
       "  <thead>\n",
       "    <tr style=\"text-align: right;\">\n",
       "      <th></th>\n",
       "      <th>models</th>\n",
       "      <th>MSE</th>\n",
       "    </tr>\n",
       "  </thead>\n",
       "  <tbody>\n",
       "    <tr>\n",
       "      <th>0</th>\n",
       "      <td>[num_eps, duration]</td>\n",
       "      <td>0.181908</td>\n",
       "    </tr>\n",
       "    <tr>\n",
       "      <th>2</th>\n",
       "      <td>[num_eps, duration, datetime]</td>\n",
       "      <td>0.184513</td>\n",
       "    </tr>\n",
       "    <tr>\n",
       "      <th>1</th>\n",
       "      <td>[num_eps, datetime]</td>\n",
       "      <td>0.211036</td>\n",
       "    </tr>\n",
       "  </tbody>\n",
       "</table>\n",
       "</div>"
      ],
      "text/plain": [
       "                          models       MSE\n",
       "0            [num_eps, duration]  0.181908\n",
       "2  [num_eps, duration, datetime]  0.184513\n",
       "1            [num_eps, datetime]  0.211036"
      ]
     },
     "execution_count": 262,
     "metadata": {},
     "output_type": "execute_result"
    }
   ],
   "source": [
    "models.sort_values(\"MSE\")"
   ]
  },
  {
   "cell_type": "markdown",
   "metadata": {},
   "source": [
    "The model with just num_eps and duration performed the best"
   ]
  },
  {
   "cell_type": "markdown",
   "metadata": {},
   "source": [
    "### Evaluating different $K$ values\n"
   ]
  },
  {
   "cell_type": "code",
   "execution_count": 275,
   "metadata": {},
   "outputs": [],
   "source": [
    "def test_k_vals_Q(k):\n",
    "    vec = DictVectorizer(sparse = False)\n",
    "    scaler = StandardScaler()\n",
    "    model = KNeighborsRegressor(n_neighbors=k)\n",
    "    pipeline = Pipeline([(\"vectorizer\",vec),(\"scaler\",scaler),(\"fit\",model)])\n",
    "\n",
    "    return np.mean(-cross_val_score(pipeline, quant_training[model1].to_dict(orient=\"records\"),\n",
    "                                    quant_training[\"agg_rating\"], \n",
    "                                    cv=8, \n",
    "                                    scoring = \"neg_mean_squared_error\"))\n",
    "\n",
    "def test_k_vals_train_Q(k):\n",
    "    scaler = Normalizer()\n",
    "    model = KNeighborsRegressor(n_neighbors=k,metric=\"euclidean\")\n",
    "    pipeline = Pipeline([(\"vectorizer\",transformer),(\"scaler\",scaler),(\"fit\",model)])\n",
    "    pipeline.fit(word_x_train,word_training[\"agg_rating\"])\n",
    "    y_pred = pipeline.predict(word_x_train)\n",
    "    \n",
    "    return ((word_training[\"agg_rating\"] - y_pred) ** 2).mean()"
   ]
  },
  {
   "cell_type": "code",
   "execution_count": 276,
   "metadata": {},
   "outputs": [],
   "source": [
    "ks = pd.Series(range(5,65,10))\n",
    "ks.index = range(5,65,10)\n",
    "ks = pd.DataFrame(ks).rename(index= str, columns = {0:\"K\"})"
   ]
  },
  {
   "cell_type": "code",
   "execution_count": 277,
   "metadata": {},
   "outputs": [],
   "source": [
    "ks[\"MSE\"] = ks[\"K\"].apply(test_k_vals_Q)\n",
    "ks[\"MSE_train\"] = ks[\"K\"].apply(test_k_vals_train_Q)"
   ]
  },
  {
   "cell_type": "code",
   "execution_count": 278,
   "metadata": {},
   "outputs": [
    {
     "data": {
      "text/html": [
       "<div>\n",
       "<style scoped>\n",
       "    .dataframe tbody tr th:only-of-type {\n",
       "        vertical-align: middle;\n",
       "    }\n",
       "\n",
       "    .dataframe tbody tr th {\n",
       "        vertical-align: top;\n",
       "    }\n",
       "\n",
       "    .dataframe thead th {\n",
       "        text-align: right;\n",
       "    }\n",
       "</style>\n",
       "<table border=\"1\" class=\"dataframe\">\n",
       "  <thead>\n",
       "    <tr style=\"text-align: right;\">\n",
       "      <th></th>\n",
       "      <th>K</th>\n",
       "      <th>MSE</th>\n",
       "      <th>MSE_train</th>\n",
       "    </tr>\n",
       "  </thead>\n",
       "  <tbody>\n",
       "    <tr>\n",
       "      <th>25</th>\n",
       "      <td>25</td>\n",
       "      <td>0.183165</td>\n",
       "      <td>0.065010</td>\n",
       "    </tr>\n",
       "    <tr>\n",
       "      <th>35</th>\n",
       "      <td>35</td>\n",
       "      <td>0.184300</td>\n",
       "      <td>0.084733</td>\n",
       "    </tr>\n",
       "    <tr>\n",
       "      <th>15</th>\n",
       "      <td>15</td>\n",
       "      <td>0.185737</td>\n",
       "      <td>0.042845</td>\n",
       "    </tr>\n",
       "    <tr>\n",
       "      <th>45</th>\n",
       "      <td>45</td>\n",
       "      <td>0.186646</td>\n",
       "      <td>0.104074</td>\n",
       "    </tr>\n",
       "    <tr>\n",
       "      <th>55</th>\n",
       "      <td>55</td>\n",
       "      <td>0.190549</td>\n",
       "      <td>0.116640</td>\n",
       "    </tr>\n",
       "  </tbody>\n",
       "</table>\n",
       "</div>"
      ],
      "text/plain": [
       "     K       MSE  MSE_train\n",
       "25  25  0.183165   0.065010\n",
       "35  35  0.184300   0.084733\n",
       "15  15  0.185737   0.042845\n",
       "45  45  0.186646   0.104074\n",
       "55  55  0.190549   0.116640"
      ]
     },
     "execution_count": 278,
     "metadata": {},
     "output_type": "execute_result"
    }
   ],
   "source": [
    "ks.sort_values(\"MSE\").head()"
   ]
  },
  {
   "cell_type": "code",
   "execution_count": 279,
   "metadata": {},
   "outputs": [
    {
     "data": {
      "text/plain": [
       "<matplotlib.legend.Legend at 0x11cdb99b0>"
      ]
     },
     "execution_count": 279,
     "metadata": {},
     "output_type": "execute_result"
    },
    {
     "data": {
      "image/png": "[encoded data removed]",
      "text/plain": [
       "<Figure size 432x288 with 1 Axes>"
      ]
     },
     "metadata": {
      "needs_background": "light"
     },
     "output_type": "display_data"
    }
   ],
   "source": [
    "plt.title(\"Validation & Training MSE as K increases\")\n",
    "\n",
    "plt.plot(\"K\",\"MSE_train\", data = ks)\n",
    "plt.plot(\"K\",\"MSE\", data = ks)\n",
    "plt.legend()"
   ]
  },
  {
   "cell_type": "markdown",
   "metadata": {},
   "source": [
    "It looks appears that $K = 25$ gives us the best MSE."
   ]
  },
  {
   "cell_type": "markdown",
   "metadata": {},
   "source": [
    "### Picking Distance Metrics & Scalars"
   ]
  },
  {
   "cell_type": "code",
   "execution_count": 287,
   "metadata": {},
   "outputs": [],
   "source": [
    "models = [KNeighborsRegressor(n_neighbors=25),\n",
    "          KNeighborsRegressor(n_neighbors=25,metric='manhattan'),\n",
    "          KNeighborsRegressor(n_neighbors=25,metric='cosine'),\n",
    "          KNeighborsRegressor(n_neighbors=25,metric='chebyshev'),\n",
    "         KNeighborsRegressor(n_neighbors=25,metric='minkowski')]\n",
    "\n",
    "scalers = [StandardScaler(), MinMaxScaler(),RobustScaler(quantile_range=(25, 75)),Normalizer(),\n",
    "          QuantileTransformer()]\n",
    "\n",
    "combinations = []\n",
    "for model in models:\n",
    "    for scaler in scalers:\n",
    "        combinations.append([(model,scaler)])"
   ]
  },
  {
   "cell_type": "code",
   "execution_count": 288,
   "metadata": {},
   "outputs": [],
   "source": [
    "combinations = pd.DataFrame(combinations).rename(index=str,columns = {0:\"model_scalar\"})"
   ]
  },
  {
   "cell_type": "code",
   "execution_count": 289,
   "metadata": {},
   "outputs": [],
   "source": [
    "def eval_combinations(combinations):\n",
    "    vec = DictVectorizer(sparse = False)\n",
    "    scaler = combinations[1]\n",
    "    model = combinations[0]\n",
    "    pipeline = Pipeline([(\"vectorizer\",vec),(\"scaler\",scaler),(\"fit\",model)])\n",
    "    X_dict = pd.DataFrame(quant_training[model1]).to_dict(orient=\"records\")\n",
    "    y = quant_training[\"agg_rating\"]\n",
    "    return((np.mean(\n",
    "        -cross_val_score(pipeline, X_dict, y, cv=8,\n",
    "                         scoring=\"neg_mean_squared_error\")\n",
    "    )))"
   ]
  },
  {
   "cell_type": "code",
   "execution_count": 290,
   "metadata": {},
   "outputs": [],
   "source": [
    "combinations[\"MSE\"] = combinations[\"model_scalar\"].apply(eval_combinations)"
   ]
  },
  {
   "cell_type": "code",
   "execution_count": 291,
   "metadata": {},
   "outputs": [
    {
     "data": {
      "text/html": [
       "<div>\n",
       "<style scoped>\n",
       "    .dataframe tbody tr th:only-of-type {\n",
       "        vertical-align: middle;\n",
       "    }\n",
       "\n",
       "    .dataframe tbody tr th {\n",
       "        vertical-align: top;\n",
       "    }\n",
       "\n",
       "    .dataframe thead th {\n",
       "        text-align: right;\n",
       "    }\n",
       "</style>\n",
       "<table border=\"1\" class=\"dataframe\">\n",
       "  <thead>\n",
       "    <tr style=\"text-align: right;\">\n",
       "      <th></th>\n",
       "      <th>model_scalar</th>\n",
       "      <th>MSE</th>\n",
       "    </tr>\n",
       "  </thead>\n",
       "  <tbody>\n",
       "    <tr>\n",
       "      <th>16</th>\n",
       "      <td>(KNeighborsRegressor(algorithm='auto', leaf_si...</td>\n",
       "      <td>0.180859</td>\n",
       "    </tr>\n",
       "    <tr>\n",
       "      <th>1</th>\n",
       "      <td>(KNeighborsRegressor(algorithm='auto', leaf_si...</td>\n",
       "      <td>0.180944</td>\n",
       "    </tr>\n",
       "    <tr>\n",
       "      <th>21</th>\n",
       "      <td>(KNeighborsRegressor(algorithm='auto', leaf_si...</td>\n",
       "      <td>0.180944</td>\n",
       "    </tr>\n",
       "    <tr>\n",
       "      <th>6</th>\n",
       "      <td>(KNeighborsRegressor(algorithm='auto', leaf_si...</td>\n",
       "      <td>0.181443</td>\n",
       "    </tr>\n",
       "    <tr>\n",
       "      <th>17</th>\n",
       "      <td>(KNeighborsRegressor(algorithm='auto', leaf_si...</td>\n",
       "      <td>0.182873</td>\n",
       "    </tr>\n",
       "  </tbody>\n",
       "</table>\n",
       "</div>"
      ],
      "text/plain": [
       "                                         model_scalar       MSE\n",
       "16  (KNeighborsRegressor(algorithm='auto', leaf_si...  0.180859\n",
       "1   (KNeighborsRegressor(algorithm='auto', leaf_si...  0.180944\n",
       "21  (KNeighborsRegressor(algorithm='auto', leaf_si...  0.180944\n",
       "6   (KNeighborsRegressor(algorithm='auto', leaf_si...  0.181443\n",
       "17  (KNeighborsRegressor(algorithm='auto', leaf_si...  0.182873"
      ]
     },
     "execution_count": 291,
     "metadata": {},
     "output_type": "execute_result"
    }
   ],
   "source": [
    "combinations.sort_values(\"MSE\").head()"
   ]
  },
  {
   "cell_type": "code",
   "execution_count": 292,
   "metadata": {},
   "outputs": [
    {
     "data": {
      "text/plain": [
       "(KNeighborsRegressor(algorithm='auto', leaf_size=30, metric='chebyshev',\n",
       "           metric_params=None, n_jobs=None, n_neighbors=25, p=2,\n",
       "           weights='uniform'), MinMaxScaler(copy=True, feature_range=(0, 1)))"
      ]
     },
     "execution_count": 292,
     "metadata": {},
     "output_type": "execute_result"
    }
   ],
   "source": [
    "combinations.sort_values(\"MSE\").iloc[0].iloc[0]"
   ]
  },
  {
   "cell_type": "markdown",
   "metadata": {},
   "source": [
    "The model that used the `Chebyshev` metric and `MinMaxScaler` Scaler performed the best"
   ]
  },
  {
   "cell_type": "code",
   "execution_count": 293,
   "metadata": {},
   "outputs": [],
   "source": [
    "model = combinations.sort_values(\"MSE\").iloc[0].iloc[0][0]\n",
    "scaler = combinations.sort_values(\"MSE\").iloc[0].iloc[0][1]\n",
    "vec = DictVectorizer(sparse = False)"
   ]
  },
  {
   "cell_type": "markdown",
   "metadata": {},
   "source": [
    "### Conclusion"
   ]
  },
  {
   "cell_type": "markdown",
   "metadata": {},
   "source": [
    "It appears for our quantitiative variables that a KNearestRegressor with 25 Neighbors, just num_eps and duration, Chebyshev metric and MinMax Scalers performs the best. "
   ]
  },
  {
   "cell_type": "markdown",
   "metadata": {},
   "source": [
    "# Ensembling Text & Quantitative Features"
   ]
  },
  {
   "cell_type": "code",
   "execution_count": 298,
   "metadata": {},
   "outputs": [],
   "source": [
    "from sklearn.base import BaseEstimator, RegressorMixin\n",
    "from sklearn.utils.validation import check_X_y, check_array, check_is_fitted\n",
    "\n",
    "class RegressionEnsembler(BaseEstimator, RegressorMixin):\n",
    "    \n",
    "    def __init__(self, estimators):\n",
    "        self.estimators = estimators\n",
    "        \n",
    "    def fit(self, data, y1):\n",
    "        \n",
    "        vec1 = FeatureUnion([\n",
    "                ('desc_tfidf', \n",
    "                  Pipeline([('extract_field', \n",
    "                              FunctionTransformer(lambda x: x['desc'], \n",
    "                                                  validate=False)),\n",
    "                            ('tfidf', \n",
    "                              TfidfVectorizer(min_df = 0.17))])),\n",
    "                ('tags_tfidf', \n",
    "                  Pipeline([('extract_field', \n",
    "                              FunctionTransformer(lambda x: x['tags'], \n",
    "                                                  validate=False)),\n",
    "                            ('tfidf', \n",
    "                              TfidfVectorizer(min_df = 0.17))])),\n",
    "                ('genre_tfidf', \n",
    "                  Pipeline([('extract_field', \n",
    "                              FunctionTransformer(lambda x: x['genre'], \n",
    "                                                  validate=False)),\n",
    "                            ('tfidf', \n",
    "                              TfidfVectorizer(min_df = 0.17))]))])\n",
    "        \n",
    "        scaler1 = Normalizer()\n",
    "    \n",
    "        vec2 = DictVectorizer(sparse=False)\n",
    "        \n",
    "        scaler2 = Normalizer(copy=True, norm='l2')\n",
    "        \n",
    "        \n",
    "        X_train1 = data[[\"desc\",\"tags\",\"genre\"]]\n",
    "        \n",
    "        X_train2 = data[[\"num_eps\",\"datetime\",\"rating_y\",\"duration\"]]\n",
    "        \n",
    "        vec1.fit(X_train1)\n",
    "        vec2.fit(X_train2.to_dict(orient=\"records\"))\n",
    "        \n",
    "        X_train_tran1 = vec1.transform(X_train1)\n",
    "        X_train_tran2 = vec2.transform(X_train2.to_dict(orient=\"records\"))\n",
    "        \n",
    "        scaler1.fit(X_train_tran1)\n",
    "        scaler2.fit(X_train_tran2)\n",
    "        \n",
    "        X_train_tran_sc1 = scaler1.transform(X_train_tran1)\n",
    "        X_train_tran_sc2 = scaler2.transform(X_train_tran2)\n",
    "        \n",
    "        self.X1_ = X_train1\n",
    "        self.X2_ = X_train2\n",
    "        self.y_ =  y1\n",
    "        \n",
    "        self.estimators[0] = self.estimators[0].fit(X_train_tran_sc1,y1)\n",
    "        self.estimators[1] = self.estimators[1].fit(X_train_tran_sc2,y1)\n",
    "        \n",
    "        \n",
    "    def predict(self, data):\n",
    "        vec1 = FeatureUnion([\n",
    "                ('desc_tfidf', \n",
    "                  Pipeline([('extract_field', \n",
    "                              FunctionTransformer(lambda x: x['desc'], \n",
    "                                                  validate=False)),\n",
    "                            ('tfidf', \n",
    "                              TfidfVectorizer(min_df = 0.17))])),\n",
    "                ('tags_tfidf', \n",
    "                  Pipeline([('extract_field', \n",
    "                              FunctionTransformer(lambda x: x['tags'], \n",
    "                                                  validate=False)),\n",
    "                            ('tfidf', \n",
    "                              TfidfVectorizer(min_df = 0.17))])),\n",
    "                ('genre_tfidf', \n",
    "                  Pipeline([('extract_field', \n",
    "                              FunctionTransformer(lambda x: x['genre'], \n",
    "                                                  validate=False)),\n",
    "                            ('tfidf', \n",
    "                              TfidfVectorizer(min_df = 0.17))]))])\n",
    "        \n",
    "        scaler1 = Normalizer()\n",
    "    \n",
    "        vec2 = DictVectorizer(sparse=False)\n",
    "        \n",
    "        scaler2 = MinMaxScaler()\n",
    "\n",
    "        vec1.fit(self.X1_)\n",
    "        vec2.fit(self.X2_.to_dict(orient=\"records\"))\n",
    "        \n",
    "        X_train_tran1 = vec1.transform(self.X1_)\n",
    "        X_train_tran2 = vec2.transform(self.X2_.to_dict(orient=\"records\"))\n",
    "        \n",
    "        scaler1.fit(X_train_tran1)\n",
    "        scaler2.fit(X_train_tran2)\n",
    "        \n",
    "        X_train_tran_sc1 = scaler1.transform(X_train_tran1)\n",
    "        X_train_tran_sc2 = scaler2.transform(X_train_tran2)\n",
    "        \n",
    "        X_new1 = data[[\"desc\",\"tags\",\"genre\"]]\n",
    "        \n",
    "        X_new2 = data[[\"num_eps\",\"datetime\",\"rating_y\",\"duration\"]]\n",
    "\n",
    "        X_new_tran1 = vec1.transform(X_new1)\n",
    "        X_new_tran2 = vec2.transform(X_new2.to_dict(orient=\"records\"))\n",
    "\n",
    "        X_new_tran_sc1 = scaler1.transform(X_new_tran1)\n",
    "        X_new_tran_sc2 = scaler2.transform(X_new_tran2)\n",
    "\n",
    "        pred1 = self.estimators[0].predict(X_new_tran_sc1)\n",
    "        pred2 = self.estimators[1].predict(X_new_tran_sc2)\n",
    "        return (pred1 + pred2)/2"
   ]
  },
  {
   "cell_type": "code",
   "execution_count": 299,
   "metadata": {},
   "outputs": [],
   "source": [
    "model1 = KNeighborsRegressor(n_neighbors=5,metric=\"euclidean\")\n",
    "\n",
    "model2 = KNeighborsRegressor(algorithm='auto', leaf_size=30, metric='chebyshev',\n",
    "           metric_params=None, n_jobs=None, n_neighbors=25, p=2,\n",
    "           weights='uniform')"
   ]
  },
  {
   "cell_type": "code",
   "execution_count": 300,
   "metadata": {},
   "outputs": [
    {
     "data": {
      "text/plain": [
       "0.11921578634668603"
      ]
     },
     "execution_count": 300,
     "metadata": {},
     "output_type": "execute_result"
    }
   ],
   "source": [
    "(-cross_val_score(RegressionEnsembler([model1, model2]),\n",
    "                         training_data,\n",
    "                         training_data[\"agg_rating\"],\n",
    "                         cv=8,\n",
    "                         scoring=\"neg_mean_squared_error\").mean())"
   ]
  },
  {
   "cell_type": "markdown",
   "metadata": {},
   "source": [
    "We get a MSE of $0.119215$ which is not better than just our model using textual data."
   ]
  }
 ],
 "metadata": {
  "kernelspec": {
   "display_name": "Python 3",
   "language": "python",
   "name": "python3"
  },
  "language_info": {
   "codemirror_mode": {
    "name": "ipython",
    "version": 3
   },
   "file_extension": ".py",
   "mimetype": "text/x-python",
   "name": "python",
   "nbconvert_exporter": "python",
   "pygments_lexer": "ipython3",
   "version": "3.6.6rc1"
  }
 },
 "nbformat": 4,
 "nbformat_minor": 2
}
