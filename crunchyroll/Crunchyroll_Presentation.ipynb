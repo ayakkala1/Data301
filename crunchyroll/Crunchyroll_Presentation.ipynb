{
 "cells": [
  {
   "cell_type": "markdown",
   "metadata": {},
   "source": [
    "# Data 301 Final Project\n",
    "\n",
    "***\n",
    "\n",
    "### Topic: Crunchyroll\n",
    "\n",
    "### By: Anish Yakkala & Lemar Popal\n",
    "\n",
    "### Github: https://github.com/ayakkala1/Data301/tree/master/crunchyroll\n",
    "\n",
    "***"
   ]
  },
  {
   "cell_type": "code",
   "execution_count": 1,
   "metadata": {},
   "outputs": [],
   "source": [
    "from IPython.display import HTML"
   ]
  },
  {
   "cell_type": "markdown",
   "metadata": {},
   "source": [
    "## 1. Getting the Data\n",
    "\n",
    "Our project involved scraping [Crunchyroll](https://www.crunchyroll.com/) information on Animes and respective Reviews. \n",
    "\n",
    "This project involved scraping $1002$ Shows and $73,392$ reviews!\n",
    "\n",
    "<img src=\"images/Crunchy_Home.png\">"
   ]
  },
  {
   "cell_type": "markdown",
   "metadata": {},
   "source": [
    "__HOWEVER__ before we scrape we must check the `robots.txt`!\n",
    "\n",
    "<img src=\"images/Crunchy_Robots.png\">\n",
    "\n",
    "It looks like we are all good to scrape what we need."
   ]
  },
  {
   "cell_type": "markdown",
   "metadata": {},
   "source": [
    "In order to get all the shows's informatio and their reviews we need an easy way of getting all their URL's. This is made easy since Crunchyroll page with all the show's in [alphabetical order](https://www.crunchyroll.com/videos/anime/alpha?group=all) does this in a easy way to scrape\n",
    "\n",
    "<img src=\"images/Crunchy_Main_scrape.png\">\n"
   ]
  },
  {
   "cell_type": "markdown",
   "metadata": {},
   "source": [
    "We know have access to each page's home page and from there all their review pages.\n",
    "<img src=\"images/Crunchy_Desc.png\"> <img src=\"images/Crunchy_Reviews.png\">\n"
   ]
  },
  {
   "cell_type": "markdown",
   "metadata": {},
   "source": [
    "We iterate through all the review pages for each show until we get a page that says there is no reviews."
   ]
  },
  {
   "cell_type": "markdown",
   "metadata": {},
   "source": [
    "After scraping all the data into a list, we pickle it in order to retain the data's integrity (such as having columns of lists). Now is time to wrangle the data to make it ready for EDA."
   ]
  },
  {
   "cell_type": "markdown",
   "metadata": {},
   "source": [
    "You can see our scraper in action!"
   ]
  },
  {
   "cell_type": "code",
   "execution_count": 2,
   "metadata": {},
   "outputs": [
    {
     "data": {
      "text/html": [
       "<blockquote class=\"imgur-embed-pub\" lang=\"en\" data-id=\"0VdXtFf\"><a href=\"//imgur.com/0VdXtFf\"></a></blockquote><script async src=\"//s.imgur.com/min/embed.js\" charset=\"utf-8\"></script>"
      ],
      "text/plain": [
       "<IPython.core.display.HTML object>"
      ]
     },
     "execution_count": 2,
     "metadata": {},
     "output_type": "execute_result"
    }
   ],
   "source": [
    "HTML('<blockquote class=\"imgur-embed-pub\" lang=\"en\" data-id=\"0VdXtFf\"><a href=\"//imgur.com/0VdXtFf\"></a></blockquote><script async src=\"//s.imgur.com/min/embed.js\" charset=\"utf-8\"></script>')"
   ]
  },
  {
   "cell_type": "markdown",
   "metadata": {},
   "source": [
    "## 2. Wrangling the Data"
   ]
  },
  {
   "cell_type": "markdown",
   "metadata": {},
   "source": [
    "How the raw data looks initially..."
   ]
  },
  {
   "cell_type": "markdown",
   "metadata": {},
   "source": [
    "<img src=\"images/Messy_table.png\">"
   ]
  },
  {
   "cell_type": "markdown",
   "metadata": {},
   "source": [
    "We need to make these into tidy dataframes."
   ]
  },
  {
   "cell_type": "markdown",
   "metadata": {},
   "source": [
    "Through some work in our `Crunchyroll_wrangle` Notebook we got our raw dataset into three workable datasetes."
   ]
  },
  {
   "cell_type": "markdown",
   "metadata": {},
   "source": [
    "### Home Page Information"
   ]
  },
  {
   "cell_type": "markdown",
   "metadata": {},
   "source": [
    "<img src=\"images/Home_tables.png\">|"
   ]
  },
  {
   "cell_type": "markdown",
   "metadata": {},
   "source": [
    "### Review Page Information"
   ]
  },
  {
   "cell_type": "markdown",
   "metadata": {},
   "source": [
    "<img src=\"images/Review_table.png\">"
   ]
  },
  {
   "cell_type": "markdown",
   "metadata": {},
   "source": [
    "### Main Page information where each review is its own observation"
   ]
  },
  {
   "cell_type": "markdown",
   "metadata": {},
   "source": [
    "<img src=\"images/Main_tables.png\">"
   ]
  },
  {
   "cell_type": "markdown",
   "metadata": {},
   "source": [
    "## 3. Data Exploration"
   ]
  },
  {
   "cell_type": "markdown",
   "metadata": {},
   "source": [
    "### Anime Genre Trends since 2000's"
   ]
  },
  {
   "cell_type": "markdown",
   "metadata": {},
   "source": [
    "One of our first analysis was looking at how genre's frequency changed over time. For the sake of not having a cluttered stacked bar chart, we only used the top $6$ Genres.\n",
    "\n",
    "<img src=\"images/Genre_time.png\">"
   ]
  },
  {
   "cell_type": "markdown",
   "metadata": {},
   "source": [
    "***\n",
    "\n",
    "### We then looked at shows that are often said to be the similar to another show.\n",
    "\n",
    "<img src=\"images/Crunchy_Similar.png\">\n",
    "\n",
    "<img src=\"images/Top_similar.png\">"
   ]
  },
  {
   "cell_type": "markdown",
   "metadata": {},
   "source": [
    "***\n",
    "\n",
    "### Use of English in Reviews Over Time\n",
    "\n",
    "Crunchyroll has an international market, and so there are not just English Reviews. We used a library called `enchant` to encode if our review was in English or not.\n",
    "\n",
    "<img src=\"images/English_time.png\">\n",
    "\n",
    "It's quite interesting how the variation in the reviews changes over time, and its slight increase over time."
   ]
  },
  {
   "cell_type": "markdown",
   "metadata": {},
   "source": [
    "***\n",
    "### Use of the word 'opening' in reviews over time\n",
    "An [anime opening](https://www.youtube.com/watch?v=2uq34TeWEdQ) can be a critical part of what people enjoy in a show.\n",
    "\n",
    "Let's see how the use of \"opening\" changes over time in the Crunchy Roll Reviews.\n",
    "\n",
    "<img src=\"images/opening_time.png\">\n",
    "\n",
    "***"
   ]
  },
  {
   "cell_type": "markdown",
   "metadata": {},
   "source": [
    "An [anime opening](https://www.youtube.com/watch?v=2uq34TeWEdQ) can be a critical part of what people enjoy in a show.\n",
    "\n",
    "Let's see how the use of \"opening\" changes over time in the Crunchy Roll Reviews.\n",
    "\n",
    "<img src=\"images/opening_time.png\">"
   ]
  },
  {
   "cell_type": "markdown",
   "metadata": {},
   "source": [
    "### Top 5 Animes (# Reviews) sentiment of reviews over time\n",
    "\n",
    "It is very expensive to use libraries like NLTK or Spacy to provide Sentiment values for your tokens. So we opt in to using a lexicon called [AFINN](http://www2.imm.dtu.dk/pubdb/views/publication_details.php?id=6010). Which assigns words a value from $[-5,5]$. Negative values indicate negative sentiment and positive values indicate positive sentiment. The closer the value is to $0$ the more neutral it is. $0$ being totally neutral.\n",
    "\n",
    "<img src=\"images/Top_5_Anime_SentTime.png\">\n",
    "\n",
    "It appears that there is a slight trend down for all shows except for Hunter X Hunter, but quite noticably for Attack on Titan.\n",
    "\n",
    "***"
   ]
  },
  {
   "cell_type": "markdown",
   "metadata": {},
   "source": [
    "It appears that there is a slight trend down for all shows except for Hunter X Hunter, but quite noticably for Attack on Titan."
   ]
  },
  {
   "cell_type": "markdown",
   "metadata": {},
   "source": [
    "### Their actual ratings over time \n",
    "\n",
    "<img src=\"images/Top_5_Anime_RatingTime.png\">\n",
    "\n",
    "It appears that Black-Clover was the only one to go up in Ratings, while the rest follow similar trends that the sentiment over time graphs imply.\n",
    "\n",
    "***"
   ]
  },
  {
   "cell_type": "markdown",
   "metadata": {},
   "source": [
    "### Wordclouds for lower half of ratings vs higher half of ratings\n",
    "\n",
    "Lastly we analyzed the words that appeared more frequently in the Lower Half of Ratings (Less than 2.5 Star) compared to the Higher Half of Ratings (Higher than 2.5 Stars)\n",
    "\n",
    "In order to visualize the words that appear a lot more in the lower half compared to the higher half and vice versa, we opt in to use a Word Cloud. However the normal wordcloud in Python strictly uses Word Counts, which is the incorrect metric. To use our Per_Diff values as the weights we need to make than an integer and use a website that allows us to manually input the values.\n",
    "\n",
    "We use https://www.wordclouds.com/\n",
    "\n",
    "<img src=\"images/lower_half_table.png\">\n",
    "\n",
    "<img src=\"images/lowerhalfcloud.png\">"
   ]
  },
  {
   "cell_type": "markdown",
   "metadata": {},
   "source": [
    "Same for words that appeared more frequently in the higher half compared to the lower half.\n",
    "\n",
    "<img src=\"images/higher_half_table.png\">\n",
    "\n",
    "<img src=\"images/higherhalfcloud.png\">\n",
    "\n",
    "***"
   ]
  },
  {
   "cell_type": "markdown",
   "metadata": {},
   "source": [
    "## 3.5 Markov Models"
   ]
  },
  {
   "cell_type": "markdown",
   "metadata": {},
   "source": [
    "We wanted to try implementing Markov Models to simulate ...\n",
    "- review summaries\n",
    "- review text\n",
    "- anime descriptions\n",
    "- names"
   ]
  },
  {
   "cell_type": "markdown",
   "metadata": {},
   "source": [
    "Using a unigram"
   ]
  },
  {
   "cell_type": "markdown",
   "metadata": {},
   "source": [
    "<img src=\"images/uni_anime.png\">"
   ]
  },
  {
   "cell_type": "markdown",
   "metadata": {},
   "source": [
    "<img src=\"images/uni_review.png\">"
   ]
  },
  {
   "cell_type": "markdown",
   "metadata": {},
   "source": [
    "Using a bigram"
   ]
  },
  {
   "cell_type": "markdown",
   "metadata": {},
   "source": [
    "<img src=\"images/bi_anime.png\">"
   ]
  },
  {
   "cell_type": "markdown",
   "metadata": {},
   "source": [
    "<img src=\"images/bi_review.png\">"
   ]
  },
  {
   "cell_type": "markdown",
   "metadata": {},
   "source": [
    "## 4. Machine Learning\n",
    "\n",
    "## Goal: Predict Crunchyroll Ratings for a Show "
   ]
  },
  {
   "cell_type": "markdown",
   "metadata": {},
   "source": [
    "__IMPORTANT NOTE:__\n",
    "\n",
    "We ran into issues with cross val scores taking immensely long with our whole dataset. So we made the decision to do our project using a sample from our dataset. Our project can be run without it, and still be sound."
   ]
  },
  {
   "cell_type": "markdown",
   "metadata": {},
   "source": [
    "# Text Features"
   ]
  },
  {
   "cell_type": "markdown",
   "metadata": {},
   "source": [
    "We will stay throughout using a __Normalizer__ as the scaler and __Euclidean__ as the metric in order to mimic taking Cosine Distance, since that is the best way for gauging distance between text data. Recall Lesson $10.2$."
   ]
  },
  {
   "cell_type": "markdown",
   "metadata": {},
   "source": [
    "### Stepwise"
   ]
  },
  {
   "cell_type": "markdown",
   "metadata": {},
   "source": [
    "Our stepwise analysis of the text data"
   ]
  },
  {
   "cell_type": "markdown",
   "metadata": {},
   "source": [
    "<img src=\"images/T_stepwise.png\">"
   ]
  },
  {
   "cell_type": "markdown",
   "metadata": {},
   "source": [
    "__Conclusion:__\n",
    "\n",
    "We can see that Description, Tags, and Genre give the best performance, while review and similar are not."
   ]
  },
  {
   "cell_type": "markdown",
   "metadata": {},
   "source": [
    "### Feature Union"
   ]
  },
  {
   "cell_type": "markdown",
   "metadata": {},
   "source": [
    "We want to include more than just one text column for our model, to do this we will need to apply a seperate TF-IDF vectorizer to each column. To be able to do this we need to use a Feature Union."
   ]
  },
  {
   "cell_type": "markdown",
   "metadata": {},
   "source": [
    "<img src=\"images/Feature_union.png\">"
   ]
  },
  {
   "cell_type": "markdown",
   "metadata": {},
   "source": [
    "We get an MSE of ...\n",
    "\n",
    "<img src=\"images/Feature_union_val.png\">"
   ]
  },
  {
   "cell_type": "markdown",
   "metadata": {},
   "source": [
    "Using all our text columns gave us a MSE of $0.10288$. That is better than any one of single text columns MSE's.\n",
    "\n",
    "However we say that some text columns were lacking, specifically \"similar\" and \"reviews\". Let's try dropping them and seeing if our model improves in performance "
   ]
  },
  {
   "cell_type": "markdown",
   "metadata": {},
   "source": [
    "Now we try only using the top 3 performers; desc, tags, and genre.\n",
    "\n",
    "<img src=\"images/Feature_union_reduc.png\">"
   ]
  },
  {
   "cell_type": "markdown",
   "metadata": {},
   "source": [
    "<img src=\"images/Feature_union_reduc_val.png\">\n",
    "\n",
    "It looks like that dropping those two columns did help our MSE go down."
   ]
  },
  {
   "cell_type": "markdown",
   "metadata": {},
   "source": [
    "### Evaluating different $K$ values"
   ]
  },
  {
   "cell_type": "markdown",
   "metadata": {},
   "source": [
    "<img src=\"images/T_train_val_table.png\">"
   ]
  },
  {
   "cell_type": "markdown",
   "metadata": {},
   "source": [
    "<img src=\"images/T_train_val.png\">"
   ]
  },
  {
   "cell_type": "markdown",
   "metadata": {},
   "source": [
    "It looks appears that $K = 5$ gives us the best MSE."
   ]
  },
  {
   "cell_type": "markdown",
   "metadata": {},
   "source": [
    "## Min DF"
   ]
  },
  {
   "cell_type": "markdown",
   "metadata": {},
   "source": [
    "We know train on Minimum Document Frequency"
   ]
  },
  {
   "cell_type": "markdown",
   "metadata": {},
   "source": [
    "<img src=\"images/T_min_df1_table.png\">\n",
    "<img src=\"images/T_min_df1.png\">"
   ]
  },
  {
   "cell_type": "markdown",
   "metadata": {},
   "source": [
    "It appears that making our Min-DF as 2 gives us the best results.\n",
    "\n",
    "Let's try focusing in on the interval between $[0.1,0.2]$ to make sure we didn't miss out on a minimum."
   ]
  },
  {
   "cell_type": "markdown",
   "metadata": {},
   "source": [
    "<img src=\"images/T_min_df2_table.png\">\n",
    "<img src=\"images/T_min_df2.png\">"
   ]
  },
  {
   "cell_type": "markdown",
   "metadata": {},
   "source": [
    "It looks like it was good that we focused in on that interval $[0.1,0.2]$ since it now shows that a min_df of $0.17$ gives us the best MSE."
   ]
  },
  {
   "cell_type": "markdown",
   "metadata": {},
   "source": [
    "## Text Conclusion"
   ]
  },
  {
   "cell_type": "markdown",
   "metadata": {},
   "source": [
    "The best model for the text data appears to be $5$ Neighbors KNearestRegressor, using all textual data but reviews and Similar, and having a min_df of $0.17$ for our TF-IDF Vectorizer, which gives us a MSE of $0.025864$."
   ]
  },
  {
   "cell_type": "markdown",
   "metadata": {},
   "source": [
    "# Quantitative Variables"
   ]
  },
  {
   "cell_type": "markdown",
   "metadata": {},
   "source": [
    "We first look at the correlation matrix of all our quant variables and variable of interest"
   ]
  },
  {
   "cell_type": "markdown",
   "metadata": {},
   "source": [
    "<img src=\"images/Q_corr.png\">"
   ]
  },
  {
   "cell_type": "markdown",
   "metadata": {},
   "source": [
    "Out of all the possible features, it appears that num_eps has the strongest positive correlation to aggregate rating, albeit a weak one. This makes sense since a show must have good reviews to be able to keep making more episodes. While datetime has the strongest negative correlation."
   ]
  },
  {
   "cell_type": "markdown",
   "metadata": {},
   "source": [
    "### Stepwise"
   ]
  },
  {
   "cell_type": "markdown",
   "metadata": {},
   "source": [
    "<img src=\"images/Q_stepwise.png\">"
   ]
  },
  {
   "cell_type": "markdown",
   "metadata": {},
   "source": [
    "It appears that \"num_eps\" performed the best while datetime did poorly."
   ]
  },
  {
   "cell_type": "markdown",
   "metadata": {},
   "source": [
    "### Picking a model"
   ]
  },
  {
   "cell_type": "markdown",
   "metadata": {},
   "source": [
    "<img src=\"images/Q_model_table.png\">"
   ]
  },
  {
   "cell_type": "markdown",
   "metadata": {},
   "source": [
    "The model with just num_eps and duration performed the best"
   ]
  },
  {
   "cell_type": "markdown",
   "metadata": {},
   "source": [
    "### Evaluating different $K$ values"
   ]
  },
  {
   "cell_type": "markdown",
   "metadata": {},
   "source": [
    "<img src=\"images/Q_train_val.png\">"
   ]
  },
  {
   "cell_type": "markdown",
   "metadata": {},
   "source": [
    "<img src=\"images/Q_train_val_graph.png\">"
   ]
  },
  {
   "cell_type": "markdown",
   "metadata": {},
   "source": [
    "It looks appears that $K = 25$ gives us the best MSE."
   ]
  },
  {
   "cell_type": "markdown",
   "metadata": {},
   "source": [
    "### Picking Distance Metrics & Scalars"
   ]
  },
  {
   "cell_type": "markdown",
   "metadata": {},
   "source": [
    "<img src=\"images/Q_comb_table.png\">\n",
    "\n",
    "<img src=\"images/Q_comb_pick.png\">"
   ]
  },
  {
   "cell_type": "markdown",
   "metadata": {},
   "source": [
    "The model that used the `Chebyshev` metric and `MinMax` Scaler performed the best"
   ]
  },
  {
   "cell_type": "markdown",
   "metadata": {},
   "source": [
    "### Conclusion\n",
    "\n",
    "It appears for our quantitiative variables that a KNearestRegressor with 25 Neighbors, just num_eps and duration, Chebyshev metric and MinMax Scalers performs the best. "
   ]
  },
  {
   "cell_type": "markdown",
   "metadata": {},
   "source": [
    "# Ensembling Text & Quantitative Features"
   ]
  },
  {
   "cell_type": "markdown",
   "metadata": {},
   "source": [
    "We now ensemble our two models using `straight averages`.\n",
    "\n",
    "<img src=\"images/Ensemble.png\">"
   ]
  },
  {
   "cell_type": "markdown",
   "metadata": {},
   "source": [
    "Our estimated MSE is ...\n",
    "\n",
    "<img src=\"images/Ensemble_val.png\">"
   ]
  },
  {
   "cell_type": "markdown",
   "metadata": {},
   "source": [
    "We get a MSE of $0.119215$ which is not better than just using the Text Model."
   ]
  },
  {
   "cell_type": "markdown",
   "metadata": {},
   "source": [
    "## Conclusion"
   ]
  },
  {
   "cell_type": "markdown",
   "metadata": {},
   "source": [
    "Using just the Text Model gives us the best estimated MSE, 0.025864 for predicted Rating for a show."
   ]
  }
 ],
 "metadata": {
  "kernelspec": {
   "display_name": "Python 3",
   "language": "python",
   "name": "python3"
  },
  "language_info": {
   "codemirror_mode": {
    "name": "ipython",
    "version": 3
   },
   "file_extension": ".py",
   "mimetype": "text/x-python",
   "name": "python",
   "nbconvert_exporter": "python",
   "pygments_lexer": "ipython3",
   "version": "3.6.6rc1"
  }
 },
 "nbformat": 4,
 "nbformat_minor": 2
}
