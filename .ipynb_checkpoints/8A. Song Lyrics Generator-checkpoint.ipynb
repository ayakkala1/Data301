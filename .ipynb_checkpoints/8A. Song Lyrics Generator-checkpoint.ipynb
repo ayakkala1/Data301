{
 "cells": [
  {
   "cell_type": "markdown",
   "metadata": {},
   "source": [
    "# 8A. Song Lyrics Generator\n",
    "\n",
    "In this lab, you will scrape a website to get lyrics of songs by your favorite artist. Then, you will train a model called a Markov chain on these lyrics so that you can generate a song in the style of your favorite artist.\n",
    "\n",
    "# Question 1. Scraping Song Lyrics\n",
    "\n",
    "Find a web site that has lyrics for several songs by your favorite artist. Scrape the lyrics into a Python list called `lyrics`, where each element of the list represents the lyrics of one song.\n",
    "\n",
    "**Tips:**\n",
    "- Find a web page that has links to all of the songs, like [this one](http://www.azlyrics.com/n/nirvana.html). [_Note:_ It appears that `azlyrics.com` blocks web scraping, so you'll have to find a different lyrics web site.] Then, you can scrape this page, extract the hyperlinks, and issue new HTTP requests to each hyperlink to get each song. \n",
    "- Use `time.sleep()` to stagger your HTTP requests so that you do not get banned by the website for making too many requests."
   ]
  },
  {
   "cell_type": "markdown",
   "metadata": {},
   "source": [
    "## Note\n",
    "\n",
    "For this lab I use the Genius API to get the lyrics for Travis Scott, and a functions I wrote for navigating it in a file called spotfuncs. I wrote spotfuncs for another personal project I did in the past."
   ]
  },
  {
   "cell_type": "code",
   "execution_count": 1,
   "metadata": {},
   "outputs": [],
   "source": [
    "import requests\n",
    "import time\n",
    "\n",
    "from bs4 import BeautifulSoup"
   ]
  },
  {
   "cell_type": "code",
   "execution_count": 2,
   "metadata": {},
   "outputs": [],
   "source": [
    "import spotipy\n",
    "spotify = spotipy.Spotify()\n",
    "import sys\n",
    "import pandas as pd\n",
    "from spotipy.oauth2 import SpotifyClientCredentials\n",
    "from bs4 import BeautifulSoup\n",
    "import lxml\n",
    "import spotfuncs \n",
    "import requests\n",
    "import pandas as pd\n",
    "import numpy as np\n",
    "from multiprocessing import Pool"
   ]
  },
  {
   "cell_type": "code",
   "execution_count": 3,
   "metadata": {},
   "outputs": [],
   "source": [
    "def clean_lyrics(lyrics):\n",
    "    a_list = lyrics.split(\"\\n\")\n",
    "    new_lyrics = []\n",
    "    counter = 0\n",
    "    for i in a_list:\n",
    "        if i[0] == \"[\" and i[-1] != \"]\":\n",
    "            counter = 1\n",
    "        if i[0] == \"]\":\n",
    "            counter = 0\n",
    "        if (i[0] != \"]\" and i[0] != \"[\") and counter != 1:\n",
    "            i = i.replace(\"(\",\"\")\n",
    "            i = i.replace(\")\",\"\")\n",
    "            if i != \"\":\n",
    "                new_lyrics.append(i)\n",
    "    return \" <N> \".join(new_lyrics)"
   ]
  },
  {
   "cell_type": "code",
   "execution_count": 4,
   "metadata": {},
   "outputs": [],
   "source": [
    "filepath = \"/Users/ramanyakkala/Spec/genius.txt\""
   ]
  },
  {
   "cell_type": "code",
   "execution_count": 5,
   "metadata": {},
   "outputs": [],
   "source": [
    "artist_id = spotfuncs.search_genius(\"Travis Scott\", credentials_file=filepath)\n",
    "genius_songs = spotfuncs.get_songs(artist_id, credentials_file=filepath)"
   ]
  },
  {
   "cell_type": "code",
   "execution_count": 6,
   "metadata": {},
   "outputs": [
    {
     "data": {
      "text/html": [
       "<div>\n",
       "<style scoped>\n",
       "    .dataframe tbody tr th:only-of-type {\n",
       "        vertical-align: middle;\n",
       "    }\n",
       "\n",
       "    .dataframe tbody tr th {\n",
       "        vertical-align: top;\n",
       "    }\n",
       "\n",
       "    .dataframe thead th {\n",
       "        text-align: right;\n",
       "    }\n",
       "</style>\n",
       "<table border=\"1\" class=\"dataframe\">\n",
       "  <thead>\n",
       "    <tr style=\"text-align: right;\">\n",
       "      <th></th>\n",
       "      <th>pos</th>\n",
       "    </tr>\n",
       "  </thead>\n",
       "  <tbody>\n",
       "    <tr>\n",
       "      <th>0</th>\n",
       "      <td>100 Bottles</td>\n",
       "    </tr>\n",
       "    <tr>\n",
       "      <th>1</th>\n",
       "      <td>100 Bottles (Remix)</td>\n",
       "    </tr>\n",
       "    <tr>\n",
       "      <th>2</th>\n",
       "      <td>10 2 10</td>\n",
       "    </tr>\n",
       "    <tr>\n",
       "      <th>3</th>\n",
       "      <td>10 2 10 (Remix)</td>\n",
       "    </tr>\n",
       "    <tr>\n",
       "      <th>4</th>\n",
       "      <td>12 Disciples</td>\n",
       "    </tr>\n",
       "  </tbody>\n",
       "</table>\n",
       "</div>"
      ],
      "text/plain": [
       "                   pos\n",
       "0          100 Bottles\n",
       "1  100 Bottles (Remix)\n",
       "2              10 2 10\n",
       "3      10 2 10 (Remix)\n",
       "4         12 Disciples"
      ]
     },
     "execution_count": 6,
     "metadata": {},
     "output_type": "execute_result"
    }
   ],
   "source": [
    "travis_scott = pd.DataFrame([i for i in genius_songs.keys()],columns=[\"pos\"])\n",
    "travis_scott.head()"
   ]
  },
  {
   "cell_type": "markdown",
   "metadata": {},
   "source": [
    "Let's get the lyrics and then clean them."
   ]
  },
  {
   "cell_type": "code",
   "execution_count": 7,
   "metadata": {},
   "outputs": [],
   "source": [
    "travis_scott[\"lyrics\"] = spotfuncs.get_lyrics(genius_songs)\n",
    "travis_scott_ = travis_scott.set_index(\"pos\")\n",
    "travis_scott_ = travis_scott_[travis_scott_[\"lyrics\"] != \"\"]\n",
    "\n",
    "travis_scott_[\"clean_lyrics\"] = travis_scott_[\"lyrics\"].apply(clean_lyrics)"
   ]
  },
  {
   "cell_type": "markdown",
   "metadata": {},
   "source": [
    "Let's get rid of lyrics that are less than 200 characters since they are mainly leaks that have incoherent lyrics or not songs at all"
   ]
  },
  {
   "cell_type": "code",
   "execution_count": 8,
   "metadata": {},
   "outputs": [],
   "source": [
    "travis_scott_ = travis_scott_[travis_scott_[\"clean_lyrics\"].apply(len) > 200]"
   ]
  },
  {
   "cell_type": "markdown",
   "metadata": {},
   "source": [
    "There were a specific pages that did not contain lyrics but feature names under Travis Scott.\n",
    "\n",
    "Example: https://genius.com/Travis-scott-wav-radio-episode-1-tracklist-lyrics"
   ]
  },
  {
   "cell_type": "code",
   "execution_count": 9,
   "metadata": {},
   "outputs": [],
   "source": [
    "for i in range(1,12):\n",
    "    travis_scott_.drop(\".Wav Radio Episode {0} Tracklist\".format(i),inplace=True)"
   ]
  },
  {
   "cell_type": "code",
   "execution_count": 10,
   "metadata": {},
   "outputs": [],
   "source": [
    "travis_scott_.drop(\"Featuring Quavo\",inplace=True)"
   ]
  },
  {
   "cell_type": "code",
   "execution_count": 11,
   "metadata": {},
   "outputs": [],
   "source": [
    "travis_scott_.drop(\"No Fear\",inplace=True)"
   ]
  },
  {
   "cell_type": "code",
   "execution_count": 12,
   "metadata": {},
   "outputs": [],
   "source": [
    "travis_scott_.drop(\"Birds Eye View Tour Dates\",inplace=True)"
   ]
  },
  {
   "cell_type": "code",
   "execution_count": 13,
   "metadata": {},
   "outputs": [],
   "source": [
    "travis_scott_.drop(\"Rodeo Tour Dates\",inplace=True)"
   ]
  },
  {
   "cell_type": "markdown",
   "metadata": {},
   "source": [
    "`pickle` is a Python library that serializes Python objects to disk so that you can load them in later."
   ]
  },
  {
   "cell_type": "code",
   "execution_count": 14,
   "metadata": {},
   "outputs": [],
   "source": [
    "import pickle\n",
    "pickle.dump(travis_scott_[\"clean_lyrics\"].values, open(\"lyrics.pkl\", \"wb\"))"
   ]
  },
  {
   "cell_type": "markdown",
   "metadata": {},
   "source": [
    "# Question 2. Unigram Markov Chain Model\n",
    "\n",
    "You will build a Markov chain for the artist whose lyrics you scraped in Lab A. Your model will process the lyrics and store the word transitions for that artist. The transitions will be stored in a dict called `chain`, which maps each word to a list of \"next\" words.\n",
    "\n",
    "For example, if your song was [\"The Joker\" by the Steve Miller Band](https://www.youtube.com/watch?v=FgDU17xqNXo), `chain` might look as follows:\n",
    "\n",
    "```\n",
    "chain = {\n",
    "    \"some\": [\"people\", \"call\", \"people\"],\n",
    "    \"call\": [\"me\", \"me\", \"me\"],\n",
    "    \"the\": [\"space\", \"gangster\", \"pompitous\", ...],\n",
    "    \"me\": [\"the\", \"the\", \"Maurice\"],\n",
    "    ...\n",
    "}\n",
    "```\n",
    "\n",
    "Besides words, you should include a few additional states in your Markov chain. You should have `\"<START>\"` and `\"<END>\"` states so that we can keep track of how songs are likely to begin and end. You should also include a state called `\"<N>\"` to denote line breaks so that you can keep track of where lines begin and end. It is up to you whether you want to include normalize case and strip punctuation.\n",
    "\n",
    "So for example, for [\"The Joker\"](https://www.azlyrics.com/lyrics/stevemillerband/thejoker.html), you would add the following to your chain:\n",
    "\n",
    "```\n",
    "chain = {\n",
    "    \"<START>\": [\"Some\", ...],\n",
    "    \"Some\": [\"people\", ...],\n",
    "    \"people\": [\"call\", ...],\n",
    "    \"call\": [\"me\", ...],\n",
    "    \"me\": [\"the\", ...],\n",
    "    \"the\": [\"space\", ...],\n",
    "    \"space\": [\"cowboy,\", ...],\n",
    "    \"cowboy,\": [\"yeah\", ...],\n",
    "    \"yeah\": [\"<N>\", ...],\n",
    "    \"<N>\": [\"Some\", ..., \"Come\"],\n",
    "    ...,\n",
    "    \"Come\": [\"on\", ...],\n",
    "    \"on\": [\"baby\", ...],\n",
    "    \"baby\": [\"and\", ...],\n",
    "    \"and\": [\"I'll\", ...],\n",
    "    \"I'll\": [\"show\", ...],\n",
    "    \"show\": [\"you\", ...],\n",
    "    \"you\": [\"a\", ...],\n",
    "    \"a\": [\"good\", ...],\n",
    "    \"good\": [\"time\", ...],\n",
    "    \"time\": [\"<END>\", ...],\n",
    "}\n",
    "```\n",
    "\n",
    "Your chain will be trained on not just one song, but by all songs by your artist."
   ]
  },
  {
   "cell_type": "code",
   "execution_count": 15,
   "metadata": {},
   "outputs": [],
   "source": [
    "def train_markov_chain(songs):\n",
    "    \"\"\"\n",
    "    Args:\n",
    "      - lyrics: a list of strings, where each string represents\n",
    "                the lyrics of one song by an artist.\n",
    "    \n",
    "    Returns:\n",
    "      A dict that maps a single word (\"unigram\") to a list of\n",
    "      words that follow that word, representing the Markov\n",
    "      chain trained on the lyrics.\n",
    "    \"\"\"\n",
    "    chain = {\"<START>\": []}\n",
    "    for lyrics in songs:\n",
    "        new_lyrics = lyrics.split(\" \")\n",
    "        chain[\"<START>\"].append(new_lyrics[0])\n",
    "        for i in range(len(new_lyrics)):\n",
    "            if new_lyrics[i] not in chain:\n",
    "                if i == len(new_lyrics) - 1:\n",
    "                    chain[new_lyrics[i]] = [\"<END>\"]\n",
    "                else:\n",
    "                    chain[new_lyrics[i]] = [new_lyrics[i+1]]\n",
    "            else:\n",
    "                if i == len(new_lyrics) - 1:\n",
    "                    chain[new_lyrics[i]].append(\"<END>\")\n",
    "                else:\n",
    "                    chain[new_lyrics[i]].append(new_lyrics[i+1])\n",
    "        \n",
    "    return chain"
   ]
  },
  {
   "cell_type": "code",
   "execution_count": 16,
   "metadata": {},
   "outputs": [
    {
     "name": "stdout",
     "output_type": "stream",
     "text": [
      "['La', 'La', \"Imma'\", 'I', \"I'm\", 'I', 'You', 'Part', 'Hustle', 'Bandana', 'Yeah', 'Yeah,', 'Yup', \"Who's\", 'Yo...', 'Dean,', 'Are', 'I', 'All', 'Uhh-uhh']\n",
      "['Hundred', 'Shot', \"Spendin'\", \"Let's\", 'Hundred', 'Shot', \"Spendin'\", \"Let's\", 'Let', 'Let', 'Straight', 'Hundred', 'Shot', \"Spendin'\", \"Let's\", 'Let', 'Let', 'Let', 'Let', 'Let']\n"
     ]
    }
   ],
   "source": [
    "# Load the pickled lyrics object that you created in Lab A.\n",
    "import pickle\n",
    "lyrics = pickle.load(open(\"lyrics.pkl\", \"rb\"))\n",
    "\n",
    "# Call the function you wrote above.\n",
    "chain = train_markov_chain(lyrics)\n",
    "\n",
    "# What words tend to start a song (i.e., what words follow the <START> tag?)\n",
    "print(chain[\"<START>\"][:20])\n",
    "\n",
    "# What words tend to begin a line (i.e., what words follow the line break tag?)\n",
    "print(chain[\"<N>\"][:20])"
   ]
  },
  {
   "cell_type": "markdown",
   "metadata": {},
   "source": [
    "Now, let's generate new lyrics using the Markov chain you constructed above. To do this, we'll begin at the `\"<START>\"` state and randomly sample a word from the list of words that follow `\"<START>\"`. Then, at each step, we'll randomly sample the next word from the list of words that followed each current word. We will continue this process until we sample the `\"<END>\"` state. This will give us the complete lyrics of a randomly generated song!\n",
    "\n",
    "You may find the `random.choice()` function helpful for this question."
   ]
  },
  {
   "cell_type": "code",
   "execution_count": 17,
   "metadata": {},
   "outputs": [],
   "source": [
    "import random\n",
    "\n",
    "def generate_new_lyrics(chain):\n",
    "    \"\"\"\n",
    "    Args:\n",
    "      - chain: a dict representing the Markov chain,\n",
    "               such as one generated by generate_new_lyrics()\n",
    "    \n",
    "    Returns:\n",
    "      A string representing the randomly generated song.\n",
    "    \"\"\"\n",
    "    \n",
    "    # a list for storing the generated words\n",
    "    words = []\n",
    "    # generate the first word\n",
    "    words.append(random.choice(chain[\"<START>\"]))\n",
    "    \n",
    "    start_word = words[0]\n",
    "    while start_word != \"<END>\":\n",
    "        next_word = random.choice(chain[start_word])\n",
    "        words.append(next_word)\n",
    "        start_word = next_word\n",
    "        \n",
    "    \n",
    "    \n",
    "    # join the words together into a string with line breaks\n",
    "    lyrics = \" \".join(words[:-1])\n",
    "    return \"\\n\".join(lyrics.split(\"<N>\"))"
   ]
  },
  {
   "cell_type": "code",
   "execution_count": 18,
   "metadata": {},
   "outputs": [
    {
     "name": "stdout",
     "output_type": "stream",
     "text": [
      "They don't play that she Tyson, go legend, we playin' dices, those goosebumps \n",
      " Feel like a neo solo  \n",
      " Like a long as approaches \n",
      " Shoot his new bitch to watch my soul in all summer \n",
      " How could take off Shake it \n",
      " Hopped up from snippet \n",
      " I chase over again \n",
      " If we won't fit \n",
      " I like Silkk The only wanted fame for you, uh \n",
      " I wouldn't even let that she be heroes\n"
     ]
    }
   ],
   "source": [
    "print(generate_new_lyrics(chain))"
   ]
  },
  {
   "cell_type": "markdown",
   "metadata": {},
   "source": [
    "# Question 3. Bigram Markov Chain Model\n",
    "\n",
    "Now you'll build a more complex Markov chain that uses the last _two_ words (or bigram) to predict the next word. Now your dict `chain` should map a _tuple_ of words to a list of words that appear after it.\n",
    "\n",
    "As before, you should also include tags that indicate the beginning and end of a song, as well as line breaks. That is, a tuple might contain tags like `\"<START>\"`, `\"<END>\"`, and `\"<N>\"`, in addition to regular words. So for example, for [\"The Joker\"](https://www.azlyrics.com/lyrics/stevemillerband/thejoker.html), you would add the following to your chain:\n",
    "\n",
    "```\n",
    "chain = {\n",
    "    (None, \"<START>\"): [\"Some\", ...],\n",
    "    (\"<START>\", \"Some\"): [\"people\", ...],\n",
    "    (\"Some\", \"people\"): [\"call\", ...],\n",
    "    (\"people\", \"call\"): [\"me\", ...],\n",
    "    (\"call\", \"me\"): [\"the\", ...],\n",
    "    (\"me\", \"the\"): [\"space\", ...],\n",
    "    (\"the\", \"space\"): [\"cowboy,\", ...],\n",
    "    (\"space\", \"cowboy,\"): [\"yeah\", ...],\n",
    "    (\"cowboy,\", \"yeah\"): [\"<N>\", ...],\n",
    "    (\"yeah\", \"<N>\"): [\"Some\", ...],\n",
    "    (\"time\", \"<N>\"): [\"Come\"],\n",
    "    ...,\n",
    "    (\"<N>\", \"Come\"): [\"on\", ...],\n",
    "    (\"Come\", \"on\"): [\"baby\", ...],\n",
    "    (\"on\", \"baby\"): [\"and\", ...],\n",
    "    (\"baby\", \"and\"): [\"I'll\", ...],\n",
    "    (\"and\", \"I'll\"): [\"show\", ...],\n",
    "    (\"I'll\", \"show\"): [\"you\", ...],\n",
    "    (\"show\", \"you\"): [\"a\", ...],\n",
    "    (\"you\", \"a\"): [\"good\", ...],\n",
    "    (\"a\", \"good\"): [\"time\", ...],\n",
    "    (\"good\", \"time\"): [\"<END>\", ...],\n",
    "}\n",
    "```"
   ]
  },
  {
   "cell_type": "code",
   "execution_count": 19,
   "metadata": {},
   "outputs": [],
   "source": [
    "def train_markov_chain(songs):\n",
    "    \"\"\"\n",
    "    Args:\n",
    "      - lyrics: a list of strings, where each string represents\n",
    "                the lyrics of one song by an artist.\n",
    "    \n",
    "    Returns:\n",
    "      A dict that maps a tuple of 2 words (\"bigram\") to a list of\n",
    "      words that follow that bigram, representing the Markov\n",
    "      chain trained on the lyrics.\n",
    "    \"\"\"\n",
    "    chain = {(None,\"<START>\"): []}\n",
    "    for lyrics in songs:\n",
    "        new_lyrics = lyrics.split(\" \")\n",
    "        chain[(None,\"<START>\")].append(new_lyrics[0])\n",
    "        for i in range(len(new_lyrics)):\n",
    "            if i == 0:\n",
    "                chain[(\"<START>\",new_lyrics[i])] = [new_lyrics[i+1]]\n",
    "            elif (new_lyrics[i-1],new_lyrics[i]) not in chain:\n",
    "                if i == len(new_lyrics) - 1:\n",
    "                    chain[(new_lyrics[i-1],new_lyrics[i])] = [\"<END>\"]\n",
    "                else:\n",
    "                    chain[(new_lyrics[i-1],new_lyrics[i])] = [new_lyrics[i+1]]\n",
    "            else:\n",
    "                if i == len(new_lyrics) - 1:\n",
    "                    chain[(new_lyrics[i-1],new_lyrics[i])].append(\"<END>\")\n",
    "                else:\n",
    "                    chain[(new_lyrics[i-1],new_lyrics[i])].append(new_lyrics[i+1])\n",
    "\n",
    "    return chain"
   ]
  },
  {
   "cell_type": "code",
   "execution_count": 20,
   "metadata": {},
   "outputs": [
    {
     "name": "stdout",
     "output_type": "stream",
     "text": [
      "['La', 'La', \"Imma'\", 'I', \"I'm\", 'I', 'You', 'Part', 'Hustle', 'Bandana', 'Yeah', 'Yeah,', 'Yup', \"Who's\", 'Yo...', 'Dean,', 'Are', 'I', 'All', 'Uhh-uhh', 'Yeah', 'Ayo', 'Yeah,', 'Yeah,', 'Hah,', 'The', \"I'm\", \"Don't\", 'I', 'She', 'She', 'Ocean', 'Yeah', 'High', 'A-Team', 'Metro', 'Mustard', 'Lyrics', 'Back', 'Aight,', 'Whoooo', 'Fuck', 'I', 'Mistercap', 'I', \"Let's\", \"'70s,\", 'Mhm', 'Yo,', 'Mixtape', 'That', 'Bitch,', 'Wheezy', 'Fuck', 'Call', 'Wakanda,', 'I', 'Thank', 'Tracklist', 'Yayo,', 'Yayo,', \"What's\", 'Always', 'God!', 'Full', 'Dis', 'Dis', 'Ouu-ouu-ouu-ouuu-ouu-ouu-ah', '**Feel', \"I'm\", 'Murda', 'Hey', 'I', 'No,', \"What's\", \"Ballin'\", 'Quavo!', 'Yeah,', 'Woke', 'Missed', 'Her', '30,', 'This', 'I', 'Sorry', 'Hey', 'Our', 'They', 'Where', 'Where', 'Mustard', 'Honorable', \"Cos'\", 'Midnight', 'Midnight', 'Tracklist:', 'Damn,', 'Yeah,', 'Yeah,', 'Devil', 'Mazi', 'And', 'Drink', 'Enter', 'Yeah', 'Lyrics', 'DJ', 'When', 'Cassette', 'Sometimes', 'Hooo', 'Travis', 'I', 'As', 'Ashes,', 'Never', 'They', '2AM', 'Murda', 'That', 'Yeah,', 'Oh', 'Like', 'Back', \"Don't\", 'That', 'Snippet', 'Ayy,', 'I', 'I', \"I've\", 'I', 'Aw', 'I', 'Metro', 'Stocktown,', 'Go,', 'Last', 'This', 'Gold', 'If', 'Im', 'Yeah,', 'Yeah,', 'Yeah', 'I', 'What?', 'We', 'And', 'I', 'They', 'Ah-ah,', 'Our', 'Our', 'All', 'Roll', 'We,', 'Full', 'Tonight', 'Oo-ee', 'Oooh-ooh-ooh', 'Mhm', 'I', 'Feel', 'M-M-M-Murda', 'We', '\"Blazin,', 'Intro:', 'I', 'Tracklist', 'Stepping', 'We', \"It's\", 'I', \"I'm\", 'Full', 'Studies', 'You', 'Hello,', '-Woah,', 'I', 'Gettin', 'Ohhh,', 'Oh-oh-oh-oh', 'Ayy,', 'Back', 'Yeah', 'Bentley', 'Bentley', \"It's\", 'Yeah', 'Yeah', 'Yeah', 'Yeah,', 'Yeah,', 'Yeah', 'Wrist', 'Straight', 'Straight', 'Hola', 'Full', 'Zaytoven', 'Full', '808', 'My', 'Fly', 'My', 'Super', 'My', 'Watch', 'I', 'I', 'Got', 'Got', 'Full', 'Mamacita,', 'Bitch', 'I', 'Made', 'What', 'Ricky', 'Sounds', '...text', 'M-I-A-I-M-I-A', 'Yeah,', \"I'm\", \"Don't\", 'I', 'Yeah', 'Man', 'All', \"It's\", 'Been', 'Full', 'I', 'Motorcycle', \"Rollin',\", 'Baby,', 'Yeah,', 'I', 'The', 'National', 'Ooh', 'Shut', 'King', 'Come', 'She', 'She', 'Chill,', '3', 'Wo', 'Did', '3', 'You', 'At', 'The', 'Full', \"Don't\", 'Smoke', 'Smoke', 'Yeah', 'Make', 'You', 'It', 'Hey,', 'Uhu', 'intro', 'Yeah,', 'Yeah!', 'Full', 'And', 'Yeah,', 'Tonight', 'Full', 'We', 'Diamonds', 'You', 'My', 'Travis', 'Ooo', 'Give', 'All', 'My', 'Oliver', 'Oliver', \"Oliver's\", 'All', 'Tracklist', 'Yeah,', 'If', 'Part', 'Party', 'Yeah,', 'Funny', 'Yaaah,', 'Yaaah,', 'Pipeline', 'Yo,', 'Piss', 'Nine', 'Murda', 'Oh', 'Oh', 'Oh', 'Oh', 'Oh', 'Riding', 'Oh-ohh,', 'Take', 'Yeah,', 'Okay', 'Been', 'Straight', 'Straight', \"I'm\", 'Straight', 'Full', 'Yeah', 'Raw', 'This', 'Full', 'This', 'ААААААААААААААААААААААА', 'Ya', 'Thank', 'Tracklist:', 'You', 'Trying', 'She', 'Hitmaka', 'Yeah,', 'Yeah,', 'Yeah', 'Smoke', 'You', 'Red', '\"ASTROWORLD', 'She', 'Astro,', 'Astro,', 'Young', 'Astro,', '10', \"I'm\", 'Yeah,', 'In', 'Ooooh,', 'Quick', 'Quick', 'Darling,', 'Cardo', 'Yeah,', 'They', \"Rollin',\", 'This', 'Get', 'Young', 'Diving', 'Whistling', \"It's\", 'Talking', 'Yeah,', '2AM,', 'Okay,', 'Wrist,', 'Wrist,', 'Thelegacyofsaintandrea', '2', 'Fuck,', 'Whooooa', 'Hmm,', 'Tiimmy,', 'Im', 'You', 'If', 'If', 'Let', 'How', 'Tractory', 'Woke', 'Hold', 'Travis', 'Damn,', 'My', 'Hitmaka', 'K.', 'K', 'K.', 'Up', 'Pull', 'Pull', 'Lyrics', 'Ayy', \"I'm\", 'Im', 'Bit', 'Once', 'I', 'Do', 'Wasted', 'Yeah,', 'Look', 'Uh', 'Aye', 'Woah,', 'Come', 'These', 'We', 'Yeah', 'Shoot', 'Yeah', 'White', 'Yeah,', \"Life's\", 'Whole', 'Know', 'Watching', 'Album', 'Yeah,', 'Woo', 'Woo', 'Intro:', 'How', 'Yeah', 'I,', 'Lifted,', 'These', 'Leggo', 'Leggo', 'Full', 'Yeah,', 'I', 'Ice', 'You', 'D.A.', 'And', 'Gotta']\n"
     ]
    }
   ],
   "source": [
    "# Load the pickled lyrics object that you created in Lab A.\n",
    "import pickle\n",
    "lyrics = pickle.load(open(\"lyrics.pkl\", \"rb\"))\n",
    "\n",
    "# Call the function you wrote above.\n",
    "chain = train_markov_chain(lyrics)\n",
    "\n",
    "# What words tend to start a song (i.e., what words follow the <START> tag?)\n",
    "print(chain[(None, \"<START>\")])"
   ]
  },
  {
   "cell_type": "markdown",
   "metadata": {},
   "source": [
    "Now, let's generate new lyrics using the Markov chain you constructed above. To do this, we'll begin at the `(None, \"<START>\")` state and randomly sample a word from the list of words that follow this bigram. Then, at each step, we'll randomly sample the next word from the list of words that followed the current bigram (i.e., the last two words). We will continue this process until we sample the `\"<END>\"` state. This will give us the complete lyrics of a randomly generated song!"
   ]
  },
  {
   "cell_type": "code",
   "execution_count": 21,
   "metadata": {},
   "outputs": [],
   "source": [
    "import random\n",
    "\n",
    "def generate_new_lyrics(chain):\n",
    "    \"\"\"\n",
    "    Args:\n",
    "      - chain: a dict representing the Markov chain,\n",
    "               such as one generated by generate_new_lyrics()\n",
    "    \n",
    "    Returns:\n",
    "      A string representing the randomly generated song.\n",
    "    \"\"\"\n",
    "    \n",
    "    # a list for storing the generated words\n",
    "    words = []\n",
    "    # generate the first word\n",
    "    words.append(random.choice(chain[(None, \"<START>\")]))\n",
    "  \n",
    "    start_word = (\"<START>\",words[0])\n",
    "    while \"<END>\" not in start_word:\n",
    "        next_word = random.choice(chain[start_word])\n",
    "        words.append(next_word)\n",
    "        start_word = (words[-2],next_word)\n",
    "\n",
    "    \n",
    "    \n",
    "    # join the words together into a string with line breaks\n",
    "    lyrics = \" \".join(words[:-1])\n",
    "    return \"\\n\".join(lyrics.split(\"<N>\"))"
   ]
  },
  {
   "cell_type": "code",
   "execution_count": 22,
   "metadata": {
    "scrolled": true
   },
   "outputs": [
    {
     "name": "stdout",
     "output_type": "stream",
     "text": [
      "I got my haters so so broke \n",
      " Oh-oh-oh shit \n",
      " I'm tryna tell you that black card, no limit \n",
      " I love when my work done \n",
      " Verse 2: Travi$ Scott \n",
      " Verse: Tyler Devlin \n",
      " I like my mothafuckin' granny did woo \n",
      " I know you're home, baby ooh, \n",
      " yeah \n",
      " I tried the Perky but it was wild \n",
      " Because it's no mistake \n",
      " Rollin' the dice ah \n",
      " I think you run into me, better have my \n",
      " I've been drinkin' \n",
      " Back-backyard, we gettin' it, far from what you do the impossible \n",
      " I coulda went to school where they teach you finesse \n",
      " Five hundred shoes for the poncho \n",
      " Chiefin' while I'm here \n",
      " Big shot hol' on, hol' on \n",
      " Set my head as I get in there, get in that, dipped in that \n",
      " Nah, then your father \n",
      " I'm talking 'bout, you know no better \n",
      " Baby, love, baby, baby, you're my love know that I'm a dog \n",
      " , \n",
      " yeah, yeah \n",
      " I be ballin' \n",
      " We so high, upper echelon Straight up \n",
      " Have that, pass that, light it up, run it back like you would have made it out the ride \n",
      " In the den, left it in your town, I'm spotting 'em lately \n",
      " Oh, back the fuck is wrong with my best friend alright \n",
      " Woah \n",
      " Them them my homies \n",
      " I be ridin' the whip drop top \n",
      " Shorty bad as hell feelin' nauseous \n",
      " Stack it up [?] for me \n",
      " Yeah, we gon' pop up on my vibe \n",
      " Verse: Tyler Devlin \n",
      " Workin' out, that's strong \n",
      " Haters trying to interlock/ but the style of music \n",
      " A hella way to get a check \n",
      " I got together, I'm in the \n",
      " EMpire Hotel for letting me stay in my prayer cup prayer cup ooh, ah \n",
      " Whole lotta lovin', lovin', lovin', lovin', lovin' \n",
      " Whole squad get in there baby, baby, you're my love \n",
      " Only trill niggas I know lil' one gon come with rice?\" Rice \n",
      " She said I want you on the block, made a stack ooh \n",
      " Woodgrain, you got your level up \n",
      " Maybe you're still looking for that \n",
      " I pray that you say that you'll never know \n",
      " Bitch better have my money so bilingual \n",
      " Some people call that triple OG \n",
      " Faded till we OD stoned \n",
      " Homie brought out the window \n",
      " Baby mama cover \n",
      " Forbes \n",
      " , \n",
      " they wall to wall \n",
      " woah \n",
      " She say she love me so much for yo' Nissan? Because it's too bad \n",
      " I go legend, I mean, damn the girls, girls, girls adore \n",
      " Mixing it with yo' friends \n",
      " Treat the Bentley truck like a seminole \n",
      " In a motel, laying with my eyes closed cause its driving me wild \n",
      " Sometimes I drive, sometimes I drive \n",
      " While I'm staring in your, staring in your programm \n",
      " After all she need a few hatin'-ass niggas to get some money \n",
      " But you ain't notice she was the one? what? \n",
      " I know you better \n",
      " Baby, it's easy \n",
      " Pour that special drink that's for my chain look like \n",
      " But if she wanna fuck me good \n",
      " Pipeline good, pipeline good \n",
      " Pipeline good, yeah yeah I remember every... \n",
      " Oh, yeah, yeah, yeah \n",
      " All of my Benz \n",
      " Back in my sleeper \n",
      " Turn the microphone up just rocking the tote \n",
      " Circles around, you be carried out \n",
      " Butterfly doors give me nothing \n",
      " You ain't ever been this fly before \n",
      " Party at the party \n",
      " The walking lick, my chopper is my motivation \n",
      " Gas her up hey \n",
      " She said, \"All I'm ever good for my niggas rode off in this cruel world \n",
      " We was gettin' busy in the house come on with me \n",
      " And love don't make no sense \n",
      " 'Less I'm doing better than the other rich crip \n",
      " How could they tease us, only wanted Ben Franklins and Mona Lisas \n",
      " Jesus, Jesus \n",
      " Why you emotional? Why you emotional? Why you bother me when you roll with a nigga change On God \n",
      " Ain't you supposed to \n",
      " I don't wanna see me when you got shot like you from the heavens straight in the housing projects \n",
      " Easy to me \n",
      " Yeah, uh \n",
      " All day, nigga \n",
      " We get cold, you don't know the rest yeah \n",
      " Oh yeah, yeah, yeah \n",
      " On the narcos, feel like nowadays I'm never snorin' Yeah \n",
      " Seein' flashes, oh, no-no, no-no-no \n",
      " You know I'm the new Shabba \n",
      " She thinkin' I'm golden ice! \n",
      " I’m pouring up a hundred M's and I've been drinkin' \n",
      " And you know what I'm sayin? \n",
      " Too many people here know what you're into \n",
      " I just copped that Bentley truck, yeah, that's no Fugazi \n",
      " My outfit's insane, ain't that fine \n",
      " Worried 'bout those comments \n",
      " I'm runnin' a track meet \n",
      " Gotta watch these hoes, hundred racks to blow bands \n",
      " Shut the fuck away from you \n",
      " It don't matter what we going up \n",
      " This feels nice \n",
      " Straight up, yeah\n"
     ]
    }
   ],
   "source": [
    "print(generate_new_lyrics(chain))"
   ]
  },
  {
   "cell_type": "markdown",
   "metadata": {},
   "source": [
    "# Analysis\n",
    "\n",
    "Compare the quality of the lyrics generated by the unigram model (in Lab B) and the bigram model (in Lab C). Which model seems to generate more reasonable lyrics? Can you explain why? What do you see as the advantages and disadvantages of each model?"
   ]
  },
  {
   "cell_type": "markdown",
   "metadata": {},
   "source": [
    "Unigram (Pro)\n",
    "- Achieves more randomness since the amount of possible \"next words\" are much larger.\n",
    "\n",
    "Unigram (Neg)\n",
    "- Lyrics are a lot less reasonable since it is a lot more random\n",
    "\n",
    "Bigram (Pro)\n",
    "- Lyrics are a lot more reasonable compared to unigram since it takes advantage of looking at the past two words and forms more coherent sentences.\n",
    "\n",
    "Bigram (Neg)\n",
    "- Susceptible to being not as random as unigram, since the amount of \"next words\" are smaller due to there not being a lot of the same bigrams as there are unigrams."
   ]
  },
  {
   "cell_type": "markdown",
   "metadata": {},
   "source": [
    "# Submission Instructions\n",
    "\n",
    "Once you are finished, follow these steps:\n",
    "\n",
    "1. Restart the kernel and re-run this notebook from beginning to end by going to `Kernel > Restart Kernel and Run All Cells`.\n",
    "2. If this process stops halfway through, that means there was an error. Correct the error and repeat Step 1 until the notebook runs from beginning to end.\n",
    "3. Double check that there is a number next to each code cell and that these numbers are in order.\n",
    "\n",
    "Then, submit your lab as follows:\n",
    "\n",
    "1. Go to `File > Export Notebook As > PDF`.\n",
    "2. Double check that the entire notebook, from beginning to end, is in this PDF file. (If the notebook is cut off, try first exporting the notebook to HTML and printing to PDF.)\n",
    "3. Upload the PDF [to PolyLearn](https://polylearn.calpoly.edu/AY_2018-2019/mod/assign/view.php?id=349486)."
   ]
  }
 ],
 "metadata": {
  "kernelspec": {
   "display_name": "Python 3",
   "language": "python",
   "name": "python3"
  },
  "language_info": {
   "codemirror_mode": {
    "name": "ipython",
    "version": 3
   },
   "file_extension": ".py",
   "mimetype": "text/x-python",
   "name": "python",
   "nbconvert_exporter": "python",
   "pygments_lexer": "ipython3",
   "version": "3.6.6rc1"
  }
 },
 "nbformat": 4,
 "nbformat_minor": 2
}
