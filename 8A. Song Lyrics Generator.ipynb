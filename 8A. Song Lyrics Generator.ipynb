{
 "cells": [
  {
   "cell_type": "markdown",
   "metadata": {},
   "source": [
    "# 8A. Song Lyrics Generator\n",
    "\n",
    "In this lab, you will scrape a website to get lyrics of songs by your favorite artist. Then, you will train a model called a Markov chain on these lyrics so that you can generate a song in the style of your favorite artist.\n",
    "\n",
    "# Question 1. Scraping Song Lyrics\n",
    "\n",
    "Find a web site that has lyrics for several songs by your favorite artist. Scrape the lyrics into a Python list called `lyrics`, where each element of the list represents the lyrics of one song.\n",
    "\n",
    "**Tips:**\n",
    "- Find a web page that has links to all of the songs, like [this one](http://www.azlyrics.com/n/nirvana.html). [_Note:_ It appears that `azlyrics.com` blocks web scraping, so you'll have to find a different lyrics web site.] Then, you can scrape this page, extract the hyperlinks, and issue new HTTP requests to each hyperlink to get each song. \n",
    "- Use `time.sleep()` to stagger your HTTP requests so that you do not get banned by the website for making too many requests."
   ]
  },
  {
   "cell_type": "code",
   "execution_count": 1,
   "metadata": {},
   "outputs": [],
   "source": [
    "import requests\n",
    "import time\n",
    "\n",
    "from bs4 import BeautifulSoup"
   ]
  },
  {
   "cell_type": "code",
   "execution_count": 2,
   "metadata": {},
   "outputs": [],
   "source": [
    "import spotipy\n",
    "spotify = spotipy.Spotify()\n",
    "import sys\n",
    "import pandas as pd\n",
    "from spotipy.oauth2 import SpotifyClientCredentials\n",
    "from bs4 import BeautifulSoup\n",
    "import lxml\n",
    "import spotfuncs \n",
    "import requests\n",
    "import pandas as pd\n",
    "import numpy as np\n",
    "from multiprocessing import Pool"
   ]
  },
  {
   "cell_type": "code",
   "execution_count": 3,
   "metadata": {},
   "outputs": [],
   "source": [
    "import nltk\n",
    "from nltk.tokenize import TweetTokenizer"
   ]
  },
  {
   "cell_type": "code",
   "execution_count": 65,
   "metadata": {},
   "outputs": [],
   "source": [
    "def clean_lyrics(lyrics):\n",
    "    a_list = lyrics.split(\"\\n\")\n",
    "    new_lyrics = []\n",
    "    counter = 0\n",
    "    for i in a_list:\n",
    "        if i[0] == \"[\" and i[-1] != \"]\":\n",
    "            counter = 1\n",
    "        if i[0] == \"]\":\n",
    "            counter = 0\n",
    "        if (i[0] != \"]\" and i[0] != \"[\") and counter != 1:\n",
    "            i = i.replace(\"(\",\"\")\n",
    "            i = i.replace(\")\",\"\")\n",
    "            if i != \"\":\n",
    "                new_lyrics.append(i)\n",
    "    return \" <N> \".join(new_lyrics)"
   ]
  },
  {
   "cell_type": "code",
   "execution_count": 7,
   "metadata": {},
   "outputs": [],
   "source": [
    "filepath = \"/Users/ramanyakkala/Spec/genius.txt\""
   ]
  },
  {
   "cell_type": "code",
   "execution_count": 8,
   "metadata": {},
   "outputs": [],
   "source": [
    "artist_id = spotfuncs.search_genius(\"Travis Scott\", credentials_file=filepath)\n",
    "genius_songs = spotfuncs.get_songs(artist_id, credentials_file=filepath)"
   ]
  },
  {
   "cell_type": "code",
   "execution_count": 9,
   "metadata": {},
   "outputs": [
    {
     "data": {
      "text/html": [
       "<div>\n",
       "<style scoped>\n",
       "    .dataframe tbody tr th:only-of-type {\n",
       "        vertical-align: middle;\n",
       "    }\n",
       "\n",
       "    .dataframe tbody tr th {\n",
       "        vertical-align: top;\n",
       "    }\n",
       "\n",
       "    .dataframe thead th {\n",
       "        text-align: right;\n",
       "    }\n",
       "</style>\n",
       "<table border=\"1\" class=\"dataframe\">\n",
       "  <thead>\n",
       "    <tr style=\"text-align: right;\">\n",
       "      <th></th>\n",
       "      <th>pos</th>\n",
       "    </tr>\n",
       "  </thead>\n",
       "  <tbody>\n",
       "    <tr>\n",
       "      <th>0</th>\n",
       "      <td>100 Bottles</td>\n",
       "    </tr>\n",
       "    <tr>\n",
       "      <th>1</th>\n",
       "      <td>100 Bottles (Remix)</td>\n",
       "    </tr>\n",
       "    <tr>\n",
       "      <th>2</th>\n",
       "      <td>10 2 10</td>\n",
       "    </tr>\n",
       "    <tr>\n",
       "      <th>3</th>\n",
       "      <td>10 2 10 (Remix)</td>\n",
       "    </tr>\n",
       "    <tr>\n",
       "      <th>4</th>\n",
       "      <td>12 Disciples</td>\n",
       "    </tr>\n",
       "  </tbody>\n",
       "</table>\n",
       "</div>"
      ],
      "text/plain": [
       "                   pos\n",
       "0          100 Bottles\n",
       "1  100 Bottles (Remix)\n",
       "2              10 2 10\n",
       "3      10 2 10 (Remix)\n",
       "4         12 Disciples"
      ]
     },
     "execution_count": 9,
     "metadata": {},
     "output_type": "execute_result"
    }
   ],
   "source": [
    "travis_scott = pd.DataFrame([i for i in genius_songs.keys()],columns=[\"pos\"])\n",
    "travis_scott.head()"
   ]
  },
  {
   "cell_type": "code",
   "execution_count": 10,
   "metadata": {},
   "outputs": [
    {
     "data": {
      "text/plain": [
       "'https://genius.com/Travis-scott-90210-lyrics'"
      ]
     },
     "execution_count": 10,
     "metadata": {},
     "output_type": "execute_result"
    }
   ],
   "source": [
    "genius_songs[\"90210\"][1]"
   ]
  },
  {
   "cell_type": "code",
   "execution_count": 12,
   "metadata": {},
   "outputs": [],
   "source": [
    "travis_scott[\"lyrics\"] = spotfuncs.get_lyrics(genius_songs)"
   ]
  },
  {
   "cell_type": "code",
   "execution_count": 13,
   "metadata": {},
   "outputs": [],
   "source": [
    "travis_scott_ = travis_scott.set_index(\"pos\")"
   ]
  },
  {
   "cell_type": "code",
   "execution_count": 14,
   "metadata": {},
   "outputs": [],
   "source": [
    "travis_scott_ = travis_scott_[travis_scott_[\"lyrics\"] != \"\"]"
   ]
  },
  {
   "cell_type": "code",
   "execution_count": 66,
   "metadata": {},
   "outputs": [],
   "source": [
    "travis_scott_[\"clean_lyrics\"] = travis_scott_[\"lyrics\"].apply(clean_lyrics)"
   ]
  },
  {
   "cell_type": "code",
   "execution_count": 67,
   "metadata": {},
   "outputs": [
    {
     "name": "stdout",
     "output_type": "stream",
     "text": [
      "Dean, what's poppin'? Yo, Travis <N> Mhm, ooo-ooo-ooo-ooo-ooo <N> Mama's bailing down that road, craving 9021... <N> She a porn star girl, oh, from the valley <N> Honestly, God bless <N> Who left her hometown world all for the alley <N> Oh, created Lake Tahoe all from her panties <N> I hope it was wet like my jumper, though <N> Ooh, used to take the long way home <N> Long way home, all for that candy, mm <N> Baby's hooked on feeling numb <N> Do, do, do <N> Do, doo <N> Jacques turn La Flame, now he rolling on an Addy <N> 50 on a chain, another 50 on a Caddy, oh <N> He might pop him a pill, pop him a seal, pop anyone <N> Pop anything, pop anything to find that alley <N> Hmm, yeah, then find an alley, mm <N> Baby's hooked on feeling numb <N> Do, do, do <N> Do, doo <N> In the 90210, 90210, looking for that alley <N> In the 90210, 90210, looking for that alley, ooh <N> It's the superstar girl, superstar girl, roaming in that alley <N> Baby's hooked on feeling numb <N> In the 90210, 90210, somewhere in that alley <N> Yeah, my granny called, she said, \"Travie, you work too hard <N> I'm worried you'll forget about me\" <N> I'm falling in and out of cuffs, don't worry, I'ma get it, Granny <N> What happened? Now my daddy happy, Mama called me up <N> That money coming and she love me, I done made it now <N> I done found life's meaning now <N> All them days her heart'd break, her heart not in pieces now <N> Friends turning into fraud niggas <N> Practicing, have the passion, you niggas packaged different <N> All you niggas, you niggas want the swag, you can't have it <N> I'ma sell it, you niggas salary bout' to cap, bitch <N> Youngest nigga outta Houston at the Grammys <N> Smiling at 'em laughing at me <N> I passed the rock to Ye, he pump faked and passed it back, bitch <N> All of this off of rapping, should've wrote this in Latin <N> Yeah, mmm, I know, I know, I know, I know, I know <N> I know, I know, I know, I know, I know <N> Cuzzo said we in the store, yeah, we 'bout to drop a 4 <N> He pass the cigarette, I choke <N> Tell my auntie put them ports down, them ports down <N> Now you know you love your own now <N> Hit the stage, they got their hands up, don't put your nose down <N> I ain't knockin', nigga, I knocked the door down, for sure now <N> Whole crew, I swear they counting on me <N> Gold chains, gold rings, I got an island on me <N> Houses on me, he got them ounces on him <N> Holy father, come save these niggas, I'm styling on 'em <N> Good Lord, I see my good fortune in all these horses <N> I'm driving too fast to stop, so all these signs, I ignore them <N> Distant sky, from north of the border my chips is in order <N> My mom's biggest supporter so now niggas support a nigga\n"
     ]
    }
   ],
   "source": [
    "print(travis_scott_.loc[\"90210\",\"clean_lyrics\"])"
   ]
  },
  {
   "cell_type": "markdown",
   "metadata": {},
   "source": [
    "`pickle` is a Python library that serializes Python objects to disk so that you can load them in later."
   ]
  },
  {
   "cell_type": "code",
   "execution_count": 68,
   "metadata": {},
   "outputs": [],
   "source": [
    "import pickle\n",
    "pickle.dump(travis_scott_[\"clean_lyrics\"].values, open(\"lyrics.pkl\", \"wb\"))"
   ]
  },
  {
   "cell_type": "markdown",
   "metadata": {},
   "source": [
    "# Question 2. Unigram Markov Chain Model\n",
    "\n",
    "You will build a Markov chain for the artist whose lyrics you scraped in Lab A. Your model will process the lyrics and store the word transitions for that artist. The transitions will be stored in a dict called `chain`, which maps each word to a list of \"next\" words.\n",
    "\n",
    "For example, if your song was [\"The Joker\" by the Steve Miller Band](https://www.youtube.com/watch?v=FgDU17xqNXo), `chain` might look as follows:\n",
    "\n",
    "```\n",
    "chain = {\n",
    "    \"some\": [\"people\", \"call\", \"people\"],\n",
    "    \"call\": [\"me\", \"me\", \"me\"],\n",
    "    \"the\": [\"space\", \"gangster\", \"pompitous\", ...],\n",
    "    \"me\": [\"the\", \"the\", \"Maurice\"],\n",
    "    ...\n",
    "}\n",
    "```\n",
    "\n",
    "Besides words, you should include a few additional states in your Markov chain. You should have `\"<START>\"` and `\"<END>\"` states so that we can keep track of how songs are likely to begin and end. You should also include a state called `\"<N>\"` to denote line breaks so that you can keep track of where lines begin and end. It is up to you whether you want to include normalize case and strip punctuation.\n",
    "\n",
    "So for example, for [\"The Joker\"](https://www.azlyrics.com/lyrics/stevemillerband/thejoker.html), you would add the following to your chain:\n",
    "\n",
    "```\n",
    "chain = {\n",
    "    \"<START>\": [\"Some\", ...],\n",
    "    \"Some\": [\"people\", ...],\n",
    "    \"people\": [\"call\", ...],\n",
    "    \"call\": [\"me\", ...],\n",
    "    \"me\": [\"the\", ...],\n",
    "    \"the\": [\"space\", ...],\n",
    "    \"space\": [\"cowboy,\", ...],\n",
    "    \"cowboy,\": [\"yeah\", ...],\n",
    "    \"yeah\": [\"<N>\", ...],\n",
    "    \"<N>\": [\"Some\", ..., \"Come\"],\n",
    "    ...,\n",
    "    \"Come\": [\"on\", ...],\n",
    "    \"on\": [\"baby\", ...],\n",
    "    \"baby\": [\"and\", ...],\n",
    "    \"and\": [\"I'll\", ...],\n",
    "    \"I'll\": [\"show\", ...],\n",
    "    \"show\": [\"you\", ...],\n",
    "    \"you\": [\"a\", ...],\n",
    "    \"a\": [\"good\", ...],\n",
    "    \"good\": [\"time\", ...],\n",
    "    \"time\": [\"<END>\", ...],\n",
    "}\n",
    "```\n",
    "\n",
    "Your chain will be trained on not just one song, but by all songs by your artist."
   ]
  },
  {
   "cell_type": "code",
   "execution_count": 93,
   "metadata": {},
   "outputs": [
    {
     "data": {
      "text/plain": [
       "\"La Flame! <N> Hundred bottles, but I might need some more <N> Shot after shot, but I might need some more <N> Spendin' money, guala, might spend some more <N> Let's be honest, I just might make a switch <N> Hundred bottles, but I might need some more <N> Shot after shot, but I might need some more <N> Spendin' money, guala, might spend some more <N> Let's be honest, I just might make a switch <N> Let me in, let me in, let me in <N> Let me in, let me in, let me in <N> Straight up! <N> Hundred bottles, but I might need some more <N> Shot after shot, but I might need some more <N> Spendin' money, guala, might spend some more <N> Let's be honest, I just might make a switch <N> Let me in, let me in, let me in <N> Let me in, let me in, let me in <N> Let me in, let me in, let me in <N> Let me in, let me in, let me in <N> Let me in, let me in, let me in\""
      ]
     },
     "execution_count": 93,
     "metadata": {},
     "output_type": "execute_result"
    }
   ],
   "source": [
    "lyrics[0]"
   ]
  },
  {
   "cell_type": "code",
   "execution_count": 128,
   "metadata": {},
   "outputs": [],
   "source": [
    "def train_markov_chain(songs):\n",
    "    \"\"\"\n",
    "    Args:\n",
    "      - lyrics: a list of strings, where each string represents\n",
    "                the lyrics of one song by an artist.\n",
    "    \n",
    "    Returns:\n",
    "      A dict that maps a single word (\"unigram\") to a list of\n",
    "      words that follow that word, representing the Markov\n",
    "      chain trained on the lyrics.\n",
    "    \"\"\"\n",
    "    chain = {\"<START>\": []}\n",
    "    for lyrics in songs:\n",
    "        new_lyrics = lyrics.split(\" \")\n",
    "        chain[\"<START>\"].append(new_lyrics[0])\n",
    "        for i in range(len(new_lyrics)):\n",
    "            if new_lyrics[i] not in chain:\n",
    "                if i == len(new_lyrics) - 1:\n",
    "                    chain[new_lyrics[i]] = [\"<END>\"]\n",
    "                else:\n",
    "                    chain[new_lyrics[i]] = [new_lyrics[i+1]]\n",
    "            else:\n",
    "                if i == len(new_lyrics) - 1:\n",
    "                    chain[new_lyrics[i]].append(\"<END>\")\n",
    "                else:\n",
    "                    chain[new_lyrics[i]].append(new_lyrics[i+1])\n",
    "        \n",
    "    return chain"
   ]
  },
  {
   "cell_type": "code",
   "execution_count": 130,
   "metadata": {},
   "outputs": [
    {
     "name": "stdout",
     "output_type": "stream",
     "text": [
      "['La', 'La', \"Imma'\", 'I', \"I'm\", 'I', 'Are', 'You', 'Part', 'Hustle', 'Bandana', 'Yeah', 'Yeah,', 'Yup', \"Who's\", 'Yo...', 'Dean,', 'Are', 'I', 'All']\n",
      "['Hundred', 'Shot', \"Spendin'\", \"Let's\", 'Hundred', 'Shot', \"Spendin'\", \"Let's\", 'Let', 'Let', 'Straight', 'Hundred', 'Shot', \"Spendin'\", \"Let's\", 'Let', 'Let', 'Let', 'Let', 'Let']\n"
     ]
    }
   ],
   "source": [
    "# Load the pickled lyrics object that you created in Lab A.\n",
    "import pickle\n",
    "lyrics = pickle.load(open(\"lyrics.pkl\", \"rb\"))\n",
    "\n",
    "# Call the function you wrote above.\n",
    "chain = train_markov_chain(lyrics)\n",
    "\n",
    "# What words tend to start a song (i.e., what words follow the <START> tag?)\n",
    "print(chain[\"<START>\"][:20])\n",
    "\n",
    "# What words tend to begin a line (i.e., what words follow the line break tag?)\n",
    "print(chain[\"<N>\"][:20])"
   ]
  },
  {
   "cell_type": "markdown",
   "metadata": {},
   "source": [
    "Now, let's generate new lyrics using the Markov chain you constructed above. To do this, we'll begin at the `\"<START>\"` state and randomly sample a word from the list of words that follow `\"<START>\"`. Then, at each step, we'll randomly sample the next word from the list of words that followed each current word. We will continue this process until we sample the `\"<END>\"` state. This will give us the complete lyrics of a randomly generated song!\n",
    "\n",
    "You may find the `random.choice()` function helpful for this question."
   ]
  },
  {
   "cell_type": "code",
   "execution_count": 139,
   "metadata": {},
   "outputs": [],
   "source": [
    "import random\n",
    "\n",
    "def generate_new_lyrics(chain):\n",
    "    \"\"\"\n",
    "    Args:\n",
    "      - chain: a dict representing the Markov chain,\n",
    "               such as one generated by generate_new_lyrics()\n",
    "    \n",
    "    Returns:\n",
    "      A string representing the randomly generated song.\n",
    "    \"\"\"\n",
    "    \n",
    "    # a list for storing the generated words\n",
    "    words = []\n",
    "    # generate the first word\n",
    "    words.append(random.choice(chain[\"<START>\"]))\n",
    "    \n",
    "    start_word = words[0]\n",
    "    while start_word != \"<END>\":\n",
    "        next_word = random.choice(chain[start_word])\n",
    "        words.append(next_word)\n",
    "        start_word = next_word\n",
    "        \n",
    "    \n",
    "    \n",
    "    # join the words together into a string with line breaks\n",
    "    lyrics = \" \".join(words[:-1])\n",
    "    return \"\\n\".join(lyrics.split(\"<N>\"))"
   ]
  },
  {
   "cell_type": "code",
   "execution_count": 140,
   "metadata": {},
   "outputs": [
    {
     "name": "stdout",
     "output_type": "stream",
     "text": [
      "Yeah, I shouldn't have a job \n",
      " Bet-, bet-, bet-, bet- \n",
      " I ain't playin' no paper it's just drive \n",
      " ft. K. Swisha on Tylenol, having any of our way up, won't have the family, family \n",
      " It's time to me, spend some Fedex Ayy, beat it bang, bang, yeah \n",
      " Trap Sing McKnight \n",
      " There \n",
      " Take it down on feet \n",
      " I'ma only of these niggas groupies on the time, I need that, flippin' that Mo City that smoke my residence, Godly feeling, dream chasers we're stuntin', but ive been through \n",
      " Let’s get popped, my shine brighter days \n",
      " I cannot handle mine, all the songs is southerners niggas think I disappeared in a tour, we'll have it up \n",
      " You be like, everybody in the middle fingers up for him anything, pop it fall asleep this shit / and leave her ride that money all he never want jets \n",
      " Squeeze the real, we didn't I really yah! I paid tryna have no \n",
      " Pour some top when you know you're goin' crazy like I had to look like \n",
      " Lil Uzi Vert - \n",
      " oh \n",
      " And she wanna have your skill \n",
      " Bring your record from T \n",
      " Hit the Masi' \n",
      " I don't...with you go crazy Alright Pit Stop tryna get mold \n",
      " Yeah \n",
      " I'm rollin' up in and then up \n",
      " Always talk \n",
      " Fuck you deny ya, see that bitch crazy Yah \n",
      " Balance on Perkies \n",
      " And making number one time \n",
      " We get that you should lie green light, like a Greek freak  \n",
      " Get money nigga crazy \n",
      " Almost \n",
      " Chopper on that \n",
      " And she teasin' like gang, shooter with no \n",
      " I'm floating, I'm on liquor and 'round my scream mask \n",
      " Nah, the time I know that whip \n",
      " They hatin', they bullshit that young to the coochie, let them black and rerun \n",
      " His music \n",
      " Yeah \n",
      " It's secured, it's still be in the Dawgs in her in Mexico call some new fucking photos \n",
      " The money, more faster, bop-bop-bop-bop-bop-bop babe \n",
      " And I had to move, with a kid \n",
      " Skrrt skrrt \n",
      " You bitch \n",
      " RaRa in peace to find peace, no better \n",
      " New Houston for me, I blow \n",
      " Just wakin' and hit it all my dinner with a neck \n",
      " Like, brrrrr \n",
      " Do it, let us to see where go and I'll do what you with a brick at them front of the millionth time, one \n",
      " I'm trill, I'm a paper \n",
      " Personally, I'm getting threesomes \n",
      " Then a reflex \n",
      " screaming \n",
      " My bitches scared—ahh, yeah \n",
      " We fuck with you, best friend alright \n",
      " Bruno Mars - back once the regular \n",
      " Don't Like a Baptist Ebenezer \n",
      " And lead it  \n",
      " I don't fuck boy I'm from New home, baby \n",
      " She love me, she gotta stay in this is high with ops never notice La Flame killin' \n",
      " Mami ride \n",
      " My Niggas always keep on the VS \n",
      " Laid up with me, yeah \n",
      " Yeah, you don't entertain threats Cah-cah \n",
      " Touch the type though I think you doin'?\" flash minimal \n",
      " Got em up \n",
      " Little Caesars \n",
      " Sip my homies got the king on hits, yeah \n",
      " Now, what it back to get her \"hop in, put up at you, no feelings, no \n",
      " Skinny, tatted grab my ex keep on a 'Xanna, my own rules, do you hit \n",
      " High on the Xanax, she gon' take a nut on the left \n",
      " And she love me, my dinosaurus \n",
      " I just know how we chillin' all the back it safe, drawer to jump out my business/ \n",
      " He's sick \n",
      " I been out where you \n",
      " Will here, I'm in love \n",
      " I been in my life, Scott \n",
      " Send for the cattle \n",
      " Baby, can tell me some issues that make cash \n",
      " My city they don't deserve a pageant \n",
      " Will & your trunk, dip—dip—dip—dip \n",
      " Stack it but don't know no ceilings babe up, oh now straight up on the new choppas \n",
      " Yes Lord \n",
      " Four shots now  \n",
      " Sit back \n",
      " Where are Your shit \n",
      " Person 2 Chainz & 2 Chainz \n",
      " Back of my soul and let the lights on my sunglasses \n",
      " Don't know none of ride, gon' lie, I'ma bust it \n",
      " 'Til I do, I took that she smoke weed with the top \n",
      " , \n",
      " Yeah, you to text \n",
      " I told her down in this is play dough \n",
      " Drip lil' skinny-ass can't do I'ma catch me looking at Leon, plenty \n",
      " I don't wanna see a sport  \n",
      " And if a Tuesday when you talkin' bout buying or pay the condo \n",
      " But I'ma ride up, watch you picked the town, you sow \n",
      " Make you doing it timeless but these meds \n",
      " And I feed all these planes hee-hee \n",
      " Baby, stop looking for the Chi, all them joints in the ride \n",
      " Look at the clique \n",
      " Trust me, spend a lot of our promise, and down in every day she tryin' to spend some guidance, you too much like Persona \n",
      " It just being in rotation, five in Medusa, lay up \n",
      " I'm behind it movin' in the drop \n",
      " Hitting these ahh, targets and rub my journey \n",
      " Tryna be back on you believe? Walk around with the lean \n",
      " Callin' for no fucks, I know what we locin' \n",
      " Brand new, this party, \n",
      " X pound \n",
      " Know I just not your knees about finding it through the work hard, you got it, c'est la forty le coloque en la la flare \n",
      " Don't, workin' \n",
      " So don't smoke my back, I can explain to me like it all, nod it when I lay up next one I gotta catch me Yah, yah, yah yah \n",
      " Yeah \n",
      " Do it, but I guarantee we live our national anthem \n",
      " So-oh-oh rich crip \n",
      " Ya! \n",
      " Ran that de-mumma \n",
      " Tell me family, that's on green \n",
      " Ice Cream Paint a quarter flippin' that ass fat \n",
      " Coolin' on me, dawg, hit her nylon skirt \n",
      " Dum da dum da dum da dum da hood It's like, I'm up, oh yeah \n",
      " Top down, yeah, got pictures \n",
      " Go \n",
      " If I know La Flame, Flame, don't pay no bungee, I'm not around so it's way too loud shit, I want me some ass hoes, that’s familiar \n",
      " Grey! \n",
      " That \n",
      " Said I'd ever be, internationally \n",
      " I talk the all the amenities \n",
      " Mamacita, cita, cita \n",
      " Yeah, yeah Ima fly \n",
      " I just the clout Runnin’ from Houston sound like a low like the ground of my jawn yeah \n",
      " I thank thank, alright! \n",
      " Or maybe a bean \n",
      " When it's so square lame ass \n",
      " Only real yeah \n",
      " Surfin \n",
      " She gon' and the governing \n",
      " From certain \n",
      " Goddammit, it's L.A. traffic, yeah\n"
     ]
    }
   ],
   "source": [
    "print(generate_new_lyrics(chain))"
   ]
  },
  {
   "cell_type": "markdown",
   "metadata": {},
   "source": [
    "# Question 3. Bigram Markov Chain Model\n",
    "\n",
    "Now you'll build a more complex Markov chain that uses the last _two_ words (or bigram) to predict the next word. Now your dict `chain` should map a _tuple_ of words to a list of words that appear after it.\n",
    "\n",
    "As before, you should also include tags that indicate the beginning and end of a song, as well as line breaks. That is, a tuple might contain tags like `\"<START>\"`, `\"<END>\"`, and `\"<N>\"`, in addition to regular words. So for example, for [\"The Joker\"](https://www.azlyrics.com/lyrics/stevemillerband/thejoker.html), you would add the following to your chain:\n",
    "\n",
    "```\n",
    "chain = {\n",
    "    (None, \"<START>\"): [\"Some\", ...],\n",
    "    (\"<START>\", \"Some\"): [\"people\", ...],\n",
    "    (\"Some\", \"people\"): [\"call\", ...],\n",
    "    (\"people\", \"call\"): [\"me\", ...],\n",
    "    (\"call\", \"me\"): [\"the\", ...],\n",
    "    (\"me\", \"the\"): [\"space\", ...],\n",
    "    (\"the\", \"space\"): [\"cowboy,\", ...],\n",
    "    (\"space\", \"cowboy,\"): [\"yeah\", ...],\n",
    "    (\"cowboy,\", \"yeah\"): [\"<N>\", ...],\n",
    "    (\"yeah\", \"<N>\"): [\"Some\", ...],\n",
    "    (\"time\", \"<N>\"): [\"Come\"],\n",
    "    ...,\n",
    "    (\"<N>\", \"Come\"): [\"on\", ...],\n",
    "    (\"Come\", \"on\"): [\"baby\", ...],\n",
    "    (\"on\", \"baby\"): [\"and\", ...],\n",
    "    (\"baby\", \"and\"): [\"I'll\", ...],\n",
    "    (\"and\", \"I'll\"): [\"show\", ...],\n",
    "    (\"I'll\", \"show\"): [\"you\", ...],\n",
    "    (\"show\", \"you\"): [\"a\", ...],\n",
    "    (\"you\", \"a\"): [\"good\", ...],\n",
    "    (\"a\", \"good\"): [\"time\", ...],\n",
    "    (\"good\", \"time\"): [\"<END>\", ...],\n",
    "}\n",
    "```"
   ]
  },
  {
   "cell_type": "code",
   "execution_count": null,
   "metadata": {},
   "outputs": [],
   "source": [
    "def train_markov_chain(lyrics):\n",
    "    \"\"\"\n",
    "    Args:\n",
    "      - lyrics: a list of strings, where each string represents\n",
    "                the lyrics of one song by an artist.\n",
    "    \n",
    "    Returns:\n",
    "      A dict that maps a tuple of 2 words (\"bigram\") to a list of\n",
    "      words that follow that bigram, representing the Markov\n",
    "      chain trained on the lyrics.\n",
    "    \"\"\"\n",
    "    chain = {(None, \"<START>\"): []}\n",
    "    for lyric in lyrics:\n",
    "        # YOUR CODE HERE\n",
    "        pass\n",
    "\n",
    "    return chain"
   ]
  },
  {
   "cell_type": "code",
   "execution_count": null,
   "metadata": {},
   "outputs": [],
   "source": [
    "# Load the pickled lyrics object that you created in Lab A.\n",
    "import pickle\n",
    "lyrics = pickle.load(open(\"lyrics.pkl\", \"rb\"))\n",
    "\n",
    "# Call the function you wrote above.\n",
    "chain = train_markov_chain(lyrics)\n",
    "\n",
    "# What words tend to start a song (i.e., what words follow the <START> tag?)\n",
    "print(chain[(None, \"<START>\")])"
   ]
  },
  {
   "cell_type": "markdown",
   "metadata": {},
   "source": [
    "Now, let's generate new lyrics using the Markov chain you constructed above. To do this, we'll begin at the `(None, \"<START>\")` state and randomly sample a word from the list of words that follow this bigram. Then, at each step, we'll randomly sample the next word from the list of words that followed the current bigram (i.e., the last two words). We will continue this process until we sample the `\"<END>\"` state. This will give us the complete lyrics of a randomly generated song!"
   ]
  },
  {
   "cell_type": "code",
   "execution_count": null,
   "metadata": {},
   "outputs": [],
   "source": [
    "import random\n",
    "\n",
    "def generate_new_lyrics(chain):\n",
    "    \"\"\"\n",
    "    Args:\n",
    "      - chain: a dict representing the Markov chain,\n",
    "               such as one generated by generate_new_lyrics()\n",
    "    \n",
    "    Returns:\n",
    "      A string representing the randomly generated song.\n",
    "    \"\"\"\n",
    "    \n",
    "    # a list for storing the generated words\n",
    "    words = []\n",
    "    # generate the first word\n",
    "    words.append(random.choice(chain[(None, \"<START>\")]))\n",
    "    \n",
    "    # YOUR CODE HERE\n",
    "    \n",
    "    \n",
    "    # join the words together into a string with line breaks\n",
    "    lyrics = \" \".join(words[:-1])\n",
    "    return \"\\n\".join(lyrics.split(\"<N>\"))"
   ]
  },
  {
   "cell_type": "code",
   "execution_count": null,
   "metadata": {},
   "outputs": [],
   "source": [
    "print(generate_new_lyrics(chain))"
   ]
  },
  {
   "cell_type": "markdown",
   "metadata": {},
   "source": [
    "# Analysis\n",
    "\n",
    "Compare the quality of the lyrics generated by the unigram model (in Lab B) and the bigram model (in Lab C). Which model seems to generate more reasonable lyrics? Can you explain why? What do you see as the advantages and disadvantages of each model?"
   ]
  },
  {
   "cell_type": "markdown",
   "metadata": {},
   "source": [
    "**YOUR ANSWER HERE.**"
   ]
  },
  {
   "cell_type": "markdown",
   "metadata": {},
   "source": [
    "# Submission Instructions\n",
    "\n",
    "Once you are finished, follow these steps:\n",
    "\n",
    "1. Restart the kernel and re-run this notebook from beginning to end by going to `Kernel > Restart Kernel and Run All Cells`.\n",
    "2. If this process stops halfway through, that means there was an error. Correct the error and repeat Step 1 until the notebook runs from beginning to end.\n",
    "3. Double check that there is a number next to each code cell and that these numbers are in order.\n",
    "\n",
    "Then, submit your lab as follows:\n",
    "\n",
    "1. Go to `File > Export Notebook As > PDF`.\n",
    "2. Double check that the entire notebook, from beginning to end, is in this PDF file. (If the notebook is cut off, try first exporting the notebook to HTML and printing to PDF.)\n",
    "3. Upload the PDF [to PolyLearn](https://polylearn.calpoly.edu/AY_2018-2019/mod/assign/view.php?id=349486)."
   ]
  }
 ],
 "metadata": {
  "kernelspec": {
   "display_name": "Python 3",
   "language": "python",
   "name": "python3"
  },
  "language_info": {
   "codemirror_mode": {
    "name": "ipython",
    "version": 3
   },
   "file_extension": ".py",
   "mimetype": "text/x-python",
   "name": "python",
   "nbconvert_exporter": "python",
   "pygments_lexer": "ipython3",
   "version": "3.6.6rc1"
  }
 },
 "nbformat": 4,
 "nbformat_minor": 2
}
