{
 "cells": [
  {
   "cell_type": "code",
   "execution_count": 2,
   "metadata": {},
   "outputs": [],
   "source": [
    "\n",
    "import numpy as np\n",
    "import pandas as pd\n",
    "\n",
    "from sklearn.model_selection import GridSearchCV\n",
    "from sklearn.model_selection import RandomizedSearchCV\n",
    "from sklearn.feature_extraction.text import CountVectorizer\n",
    "from sklearn.ensemble import RandomForestRegressor\n",
    "from sklearn.datasets import make_regression\n",
    "from sklearn.neighbors import KNeighborsRegressor\n",
    "from sklearn.feature_extraction import DictVectorizer\n",
    "\n",
    "from sklearn.preprocessing import StandardScaler\n",
    "from sklearn.preprocessing import MinMaxScaler\n",
    "from sklearn.preprocessing import RobustScaler\n",
    "from sklearn.preprocessing import Normalizer\n",
    "from sklearn.preprocessing import QuantileTransformer\n",
    "\n",
    "from sklearn.pipeline import Pipeline\n",
    "from sklearn.model_selection import cross_val_score\n",
    "\n",
    "import nltk\n",
    "import string\n",
    "\n",
    "import re\n",
    "\n",
    "pd.options.display.max_rows = 5\n",
    "import nltk\n",
    "from nltk.corpus import stopwords"
   ]
  },
  {
   "cell_type": "code",
   "execution_count": 3,
   "metadata": {},
   "outputs": [],
   "source": [
    "def add_beer_class(df):\n",
    "    remove = string.punctuation\n",
    "    remove = remove.replace(\"-\", \"\")\n",
    "    pattern = \"[{}]\".format(remove)\n",
    "\n",
    "    df.description = df.description.str.lower()\n",
    "    df.description = df.description.str.replace(pattern,\"\")\n",
    "    df.description = df.description.str.replace(\"\\d\",\"\")\n",
    "\n",
    "    beers = [\"light\",\"pale\",\"hop\",\"stout\",\"porter\",\"lager\",\"malt\",\"amber\",\"blonde ale\",\n",
    "        \"sweet\",\"bitter\",\"fruit\",\"dark\",\"ale\",\"ipa\",\"double\",\"wheat\",\"beer\"]\n",
    "    for beer_type in beers:\n",
    "        text = \"{0}[^ ]*\".format(beer_type)\n",
    "        df[beer_type] = df[\"description\"].str.contains(text,\n",
    "                                                       regex=True,\n",
    "                                                       flags=re.IGNORECASE)\n",
    "    return df\n",
    "\n",
    "\n",
    "wpt = nltk.WordPunctTokenizer()\n",
    "stop_words = nltk.corpus.stopwords.words('english')\n",
    "\n",
    "def normalize_document(doc,arg = None):\n",
    "    # lower case and remove special characters\\whitespaces\n",
    "    doc = re.sub(r'[^a-zA-Z\\s]', '', doc)\n",
    "    doc = doc.replace(\"\\r\",\"\")\n",
    "    doc = doc.replace(\"\\n\",\"\")\n",
    "    doc = doc.replace(\"-\",\" \")\n",
    "    doc = doc.replace(\"'\",\"\")\n",
    "    doc = doc.lower()\n",
    "    doc = doc.strip()\n",
    "    tokens = wpt.tokenize(doc)\n",
    "    filtered_tokens = [token for token in tokens if token not in stop_words]\n",
    "\n",
    "    if arg == \"bigrams\":\n",
    "        return get_bigrams(filtered_tokens)\n",
    "    if arg == \"trigrams\":\n",
    "        return get_trigrams(filtered_tokens)\n",
    "    doc = ' '.join(filtered_tokens)\n",
    "    return doc\n",
    "\n",
    "def top_words(df, quant, mode = \"greater\",description = True):\n",
    "    if description:\n",
    "        df[\"description\"] = df[\"description\"].apply(normalize_document)\n",
    "        filter_on = \"description\"\n",
    "    else:\n",
    "        df[\"name\"] = df[\"name\"].apply(normalize_document)\n",
    "        filter_on = \"name\"\n",
    "    if mode == \"greater\":\n",
    "        words = df[df[\"ibu\"] > df[\"ibu\"].quantile(quant)][filter_on].apply(nltk.word_tokenize)\n",
    "    elif mode == \"less\":\n",
    "        words = df[df[\"ibu\"] < df[\"ibu\"].quantile(quant)][filter_on].apply(nltk.word_tokenize)\n",
    "    else:\n",
    "        words = df[filter_on].apply(nltk.word_tokenize)\n",
    "    print(words)\n",
    "    sep_words = words.apply(pd.Series).melt()[\"value\"]\n",
    "    return sep_words.dropna().value_counts()\n",
    "\n",
    "def get_trigrams(words):\n",
    "    return list(zip(words[:-2], words[1:-1],words[2:]))\n",
    "\n",
    "def get_quadgrams(words):\n",
    "    return list(zip(words[:-2], words[1:-1],words[2:],words[3:]))\n",
    "\n",
    "def get_bigrams(words):\n",
    "    return list(zip(words[:-2], words[1:-1]))"
   ]
  },
  {
   "cell_type": "code",
   "execution_count": 6,
   "metadata": {},
   "outputs": [
    {
     "data": {
      "text/html": [
       "<div>\n",
       "<style scoped>\n",
       "    .dataframe tbody tr th:only-of-type {\n",
       "        vertical-align: middle;\n",
       "    }\n",
       "\n",
       "    .dataframe tbody tr th {\n",
       "        vertical-align: top;\n",
       "    }\n",
       "\n",
       "    .dataframe thead th {\n",
       "        text-align: right;\n",
       "    }\n",
       "</style>\n",
       "<table border=\"1\" class=\"dataframe\">\n",
       "  <thead>\n",
       "    <tr style=\"text-align: right;\">\n",
       "      <th></th>\n",
       "      <th>id</th>\n",
       "      <th>abv</th>\n",
       "      <th>available</th>\n",
       "      <th>description</th>\n",
       "      <th>glass</th>\n",
       "      <th>ibu</th>\n",
       "      <th>isOrganic</th>\n",
       "      <th>name</th>\n",
       "      <th>originalGravity</th>\n",
       "      <th>srm</th>\n",
       "    </tr>\n",
       "  </thead>\n",
       "  <tbody>\n",
       "    <tr>\n",
       "      <th>0</th>\n",
       "      <td>0</td>\n",
       "      <td>8.2</td>\n",
       "      <td>Available at the same time of year, every year.</td>\n",
       "      <td>A Belgian-Abbey-Style Tripel that is big in al...</td>\n",
       "      <td>NaN</td>\n",
       "      <td>31.0</td>\n",
       "      <td>N</td>\n",
       "      <td>LoonyToonTripel</td>\n",
       "      <td>1.070</td>\n",
       "      <td>8</td>\n",
       "    </tr>\n",
       "    <tr>\n",
       "      <th>1</th>\n",
       "      <td>1</td>\n",
       "      <td>5.7</td>\n",
       "      <td>Available at the same time of year, every year.</td>\n",
       "      <td>Covert Hops is a crafty ale. Its stealthy dark...</td>\n",
       "      <td>Pint</td>\n",
       "      <td>45.0</td>\n",
       "      <td>N</td>\n",
       "      <td>Covert Hops</td>\n",
       "      <td>1.056</td>\n",
       "      <td>35</td>\n",
       "    </tr>\n",
       "    <tr>\n",
       "      <th>2</th>\n",
       "      <td>2</td>\n",
       "      <td>5.8</td>\n",
       "      <td>Available at the same time of year, every year.</td>\n",
       "      <td>This is a traditional German-style Marzen char...</td>\n",
       "      <td>Mug</td>\n",
       "      <td>25.0</td>\n",
       "      <td>N</td>\n",
       "      <td>Oktoberfest</td>\n",
       "      <td>1.048</td>\n",
       "      <td>10</td>\n",
       "    </tr>\n",
       "    <tr>\n",
       "      <th>3</th>\n",
       "      <td>3</td>\n",
       "      <td>5.5</td>\n",
       "      <td>Available year round as a staple beer.</td>\n",
       "      <td>A West Coast-Style Pale Ale balancing plenty o...</td>\n",
       "      <td>Pint</td>\n",
       "      <td>55.0</td>\n",
       "      <td>N</td>\n",
       "      <td>Pale Ale</td>\n",
       "      <td>1.044</td>\n",
       "      <td>5</td>\n",
       "    </tr>\n",
       "    <tr>\n",
       "      <th>4</th>\n",
       "      <td>4</td>\n",
       "      <td>4.8</td>\n",
       "      <td>Available year round as a staple beer.</td>\n",
       "      <td>This Bombshell has a tantalizing crisp and cle...</td>\n",
       "      <td>Pint</td>\n",
       "      <td>11.4</td>\n",
       "      <td>N</td>\n",
       "      <td>Head Turner Blonde Ale</td>\n",
       "      <td>1.045</td>\n",
       "      <td>3</td>\n",
       "    </tr>\n",
       "  </tbody>\n",
       "</table>\n",
       "</div>"
      ],
      "text/plain": [
       "   id  abv                                        available  \\\n",
       "0   0  8.2  Available at the same time of year, every year.   \n",
       "1   1  5.7  Available at the same time of year, every year.   \n",
       "2   2  5.8  Available at the same time of year, every year.   \n",
       "3   3  5.5           Available year round as a staple beer.   \n",
       "4   4  4.8           Available year round as a staple beer.   \n",
       "\n",
       "                                         description glass   ibu isOrganic  \\\n",
       "0  A Belgian-Abbey-Style Tripel that is big in al...   NaN  31.0         N   \n",
       "1  Covert Hops is a crafty ale. Its stealthy dark...  Pint  45.0         N   \n",
       "2  This is a traditional German-style Marzen char...   Mug  25.0         N   \n",
       "3  A West Coast-Style Pale Ale balancing plenty o...  Pint  55.0         N   \n",
       "4  This Bombshell has a tantalizing crisp and cle...  Pint  11.4         N   \n",
       "\n",
       "                     name  originalGravity srm  \n",
       "0         LoonyToonTripel            1.070   8  \n",
       "1             Covert Hops            1.056  35  \n",
       "2             Oktoberfest            1.048  10  \n",
       "3                Pale Ale            1.044   5  \n",
       "4  Head Turner Blonde Ale            1.045   3  "
      ]
     },
     "execution_count": 6,
     "metadata": {},
     "output_type": "execute_result"
    }
   ],
   "source": [
    "df = pd.read_csv(\"/Users/ramanyakkala/Downloads/beer_train.csv\")\n",
    "df_test = pd.read_csv(\"/Users/ramanyakkala/Downloads/beer_test.csv\")\n",
    "df.head()"
   ]
  },
  {
   "cell_type": "code",
   "execution_count": 7,
   "metadata": {},
   "outputs": [],
   "source": [
    "df[\"description\"] = df[\"description\"].fillna(\"Missing\")\n",
    "df_test[\"description\"] = df_test[\"description\"].fillna(\"Missing\")\n",
    "df_test[\"ibu\"] = df[\"ibu\"].astype(int)"
   ]
  },
  {
   "cell_type": "code",
   "execution_count": 8,
   "metadata": {},
   "outputs": [
    {
     "name": "stdout",
     "output_type": "stream",
     "text": [
      "5       [first, brewed, black, lightning, name, implie...\n",
      "9       [newest, addition, harvest, family, southern, ...\n",
      "                              ...                        \n",
      "5986    [velvety, chewy, ipa, perfect, blend, hop, bit...\n",
      "5987    [took, pale, ale, added, summit, cascade, hops...\n",
      "Name: description, Length: 1484, dtype: object\n",
      "0       [belgianabbeystyle, tripel, big, alcohol, even...\n",
      "2       [traditional, germanstyle, marzen, characteriz...\n",
      "                              ...                        \n",
      "5996    [barley, wine, would, considered, englishstyle...\n",
      "5999                                            [missing]\n",
      "Name: description, Length: 2939, dtype: object\n",
      "4       [bombshell, tantalizing, crisp, clean, flavor,...\n",
      "13      [take, traditional, irish, ale, beer, lightbod...\n",
      "                              ...                        \n",
      "5983    [plaid, ferret, low, bitterness, beer, malt, h...\n",
      "5989    [made, homegrown, strawberries, poteet, texas,...\n",
      "Name: description, Length: 469, dtype: object\n"
     ]
    }
   ],
   "source": [
    "top_big_ibu = top_words(df,0.75)\n",
    "top_small_ibu = top_words(df,0.50,\"less\")\n",
    "top_very_small_ibu = top_words(df,0.10,\"less\")"
   ]
  },
  {
   "cell_type": "code",
   "execution_count": 9,
   "metadata": {},
   "outputs": [
    {
     "name": "stdout",
     "output_type": "stream",
     "text": [
      "43      [belgian, tripel, grain, bill, black, malt, ad...\n",
      "59      [many, hops, many, times, smooth, crisp, malt,...\n",
      "                              ...                        \n",
      "5969    [supertonic, scale, note, one, step, tonic, sc...\n",
      "5987    [took, pale, ale, added, summit, cascade, hops...\n",
      "Name: description, Length: 598, dtype: object\n"
     ]
    }
   ],
   "source": [
    "top_very_big_ibu = top_words(df,0.90)"
   ]
  },
  {
   "cell_type": "code",
   "execution_count": 10,
   "metadata": {},
   "outputs": [
    {
     "data": {
      "text/plain": [
       "hops    1048\n",
       "ipa      958\n",
       "hop      864\n",
       "beer     827\n",
       "malt     546\n",
       "Name: value, dtype: int64"
      ]
     },
     "execution_count": 10,
     "metadata": {},
     "output_type": "execute_result"
    }
   ],
   "source": [
    "top_big_ibu.head()"
   ]
  },
  {
   "cell_type": "code",
   "execution_count": 11,
   "metadata": {},
   "outputs": [
    {
     "data": {
      "text/plain": [
       "beer      2271\n",
       "ale       1624\n",
       "malt      1059\n",
       "hops       878\n",
       "brewed     773\n",
       "Name: value, dtype: int64"
      ]
     },
     "execution_count": 11,
     "metadata": {},
     "output_type": "execute_result"
    }
   ],
   "source": [
    "top_small_ibu.head()"
   ]
  },
  {
   "cell_type": "code",
   "execution_count": 12,
   "metadata": {},
   "outputs": [
    {
     "data": {
      "text/plain": [
       "beer      431\n",
       "wheat     257\n",
       "ale       234\n",
       "brewed    138\n",
       "light     134\n",
       "Name: value, dtype: int64"
      ]
     },
     "execution_count": 12,
     "metadata": {},
     "output_type": "execute_result"
    }
   ],
   "source": [
    "top_very_small_ibu.head()"
   ]
  },
  {
   "cell_type": "code",
   "execution_count": 13,
   "metadata": {},
   "outputs": [
    {
     "data": {
      "text/html": [
       "<div>\n",
       "<style scoped>\n",
       "    .dataframe tbody tr th:only-of-type {\n",
       "        vertical-align: middle;\n",
       "    }\n",
       "\n",
       "    .dataframe tbody tr th {\n",
       "        vertical-align: top;\n",
       "    }\n",
       "\n",
       "    .dataframe thead th {\n",
       "        text-align: right;\n",
       "    }\n",
       "</style>\n",
       "<table border=\"1\" class=\"dataframe\">\n",
       "  <thead>\n",
       "    <tr style=\"text-align: right;\">\n",
       "      <th></th>\n",
       "      <th>value_x</th>\n",
       "      <th>value_y</th>\n",
       "      <th>per_x</th>\n",
       "      <th>per_y</th>\n",
       "      <th>diff</th>\n",
       "      <th>per_diff</th>\n",
       "    </tr>\n",
       "  </thead>\n",
       "  <tbody>\n",
       "    <tr>\n",
       "      <th>ipa</th>\n",
       "      <td>958.0</td>\n",
       "      <td>13.0</td>\n",
       "      <td>0.019559</td>\n",
       "      <td>0.000141</td>\n",
       "      <td>945.0</td>\n",
       "      <td>0.019418</td>\n",
       "    </tr>\n",
       "    <tr>\n",
       "      <th>hop</th>\n",
       "      <td>864.0</td>\n",
       "      <td>488.0</td>\n",
       "      <td>0.017640</td>\n",
       "      <td>0.005275</td>\n",
       "      <td>376.0</td>\n",
       "      <td>0.012365</td>\n",
       "    </tr>\n",
       "    <tr>\n",
       "      <th>...</th>\n",
       "      <td>...</td>\n",
       "      <td>...</td>\n",
       "      <td>...</td>\n",
       "      <td>...</td>\n",
       "      <td>...</td>\n",
       "      <td>...</td>\n",
       "    </tr>\n",
       "    <tr>\n",
       "      <th>ale</th>\n",
       "      <td>546.0</td>\n",
       "      <td>1624.0</td>\n",
       "      <td>0.011147</td>\n",
       "      <td>0.017554</td>\n",
       "      <td>-1078.0</td>\n",
       "      <td>-0.006407</td>\n",
       "    </tr>\n",
       "    <tr>\n",
       "      <th>beer</th>\n",
       "      <td>827.0</td>\n",
       "      <td>2271.0</td>\n",
       "      <td>0.016884</td>\n",
       "      <td>0.024548</td>\n",
       "      <td>-1444.0</td>\n",
       "      <td>-0.007663</td>\n",
       "    </tr>\n",
       "  </tbody>\n",
       "</table>\n",
       "<p>15492 rows × 6 columns</p>\n",
       "</div>"
      ],
      "text/plain": [
       "      value_x  value_y     per_x     per_y    diff  per_diff\n",
       "ipa     958.0     13.0  0.019559  0.000141   945.0  0.019418\n",
       "hop     864.0    488.0  0.017640  0.005275   376.0  0.012365\n",
       "...       ...      ...       ...       ...     ...       ...\n",
       "ale     546.0   1624.0  0.011147  0.017554 -1078.0 -0.006407\n",
       "beer    827.0   2271.0  0.016884  0.024548 -1444.0 -0.007663\n",
       "\n",
       "[15492 rows x 6 columns]"
      ]
     },
     "execution_count": 13,
     "metadata": {},
     "output_type": "execute_result"
    }
   ],
   "source": [
    "top_small = pd.DataFrame(top_big_ibu).merge(pd.DataFrame(top_small_ibu),how='outer',left_index=True, right_index=True)\n",
    "top_small = top_small.fillna(0)\n",
    "top_small[\"per_x\"] = top_small[\"value_x\"]/top_small[\"value_x\"].sum()\n",
    "top_small[\"per_y\"] = top_small[\"value_y\"]/top_small[\"value_y\"].sum()\n",
    "top_small[\"diff\"] = top_small[\"value_x\"] - top_small[\"value_y\"]\n",
    "top_small[\"per_diff\"] = top_small[\"per_x\"] - top_small[\"per_y\"]\n",
    "top_small.sort_values(\"per_diff\",ascending=False)"
   ]
  },
  {
   "cell_type": "code",
   "execution_count": 14,
   "metadata": {},
   "outputs": [],
   "source": [
    "top_small = pd.DataFrame(top_very_big_ibu).merge(pd.DataFrame(top_small_ibu),how='outer',left_index=True, right_index=True)\n",
    "top_small = top_small.fillna(0)\n",
    "top_small[\"per_x\"] = top_small[\"value_x\"]/top_small[\"value_x\"].sum()\n",
    "top_small[\"per_y\"] = top_small[\"value_y\"]/top_small[\"value_y\"].sum()\n",
    "top_small[\"diff\"] = top_small[\"value_x\"] - top_small[\"value_y\"]\n",
    "top_small[\"per_diff\"] = top_small[\"per_x\"] - top_small[\"per_y\"]"
   ]
  },
  {
   "cell_type": "code",
   "execution_count": 15,
   "metadata": {},
   "outputs": [
    {
     "data": {
      "text/plain": [
       "Index(['ipa', 'hop', 'hops', 'double', 'imperial', 'big', 'citrus', 'india',\n",
       "       'hopped', 'cascade',\n",
       "       ...\n",
       "       'traditional', 'crisp', 'yeast', 'german', 'refreshing', 'lager',\n",
       "       'light', 'wheat', 'ale', 'beer'],\n",
       "      dtype='object', length=13434)"
      ]
     },
     "execution_count": 15,
     "metadata": {},
     "output_type": "execute_result"
    }
   ],
   "source": [
    "top_small.sort_values(\"per_diff\",ascending=False).index"
   ]
  },
  {
   "cell_type": "code",
   "execution_count": 16,
   "metadata": {},
   "outputs": [
    {
     "data": {
      "text/plain": [
       "Index(['ipa', 'hop', 'hops', 'double', 'imperial', 'big', 'citrus', 'india',\n",
       "       'hopped', 'cascade',\n",
       "       ...\n",
       "       'traditional', 'crisp', 'yeast', 'german', 'refreshing', 'lager',\n",
       "       'light', 'wheat', 'ale', 'beer'],\n",
       "      dtype='object', length=13434)"
      ]
     },
     "execution_count": 16,
     "metadata": {},
     "output_type": "execute_result"
    }
   ],
   "source": [
    "top_small.sort_values(\"per_diff\",ascending=False).index"
   ]
  },
  {
   "cell_type": "code",
   "execution_count": 17,
   "metadata": {},
   "outputs": [],
   "source": [
    "bigram_big = (df[df[\"ibu\"] > df[\"ibu\"].quantile(0.75)][\"description\"].\n",
    "              apply(lambda x :normalize_document(x,\"bigrams\")).\n",
    "              apply(pd.Series).melt()[\"value\"])\n",
    "bigram_small = (df[df[\"ibu\"] < df[\"ibu\"].quantile(0.50)][\"description\"].\n",
    "              apply(lambda x :normalize_document(x,\"bigrams\")).\n",
    "              apply(pd.Series).melt()[\"value\"])\n",
    "bigram_very_big = (df[df[\"ibu\"] > df[\"ibu\"].quantile(0.85)][\"description\"].\n",
    "              apply(lambda x :normalize_document(x,\"bigrams\")).\n",
    "              apply(pd.Series).melt()[\"value\"])\n",
    "bigram_very_small = (df[df[\"ibu\"] < df[\"ibu\"].quantile(0.20)][\"description\"].\n",
    "              apply(lambda x :normalize_document(x,\"bigrams\")).\n",
    "              apply(pd.Series).melt()[\"value\"])"
   ]
  },
  {
   "cell_type": "code",
   "execution_count": 21,
   "metadata": {},
   "outputs": [
    {
     "data": {
      "text/html": [
       "<div>\n",
       "<style scoped>\n",
       "    .dataframe tbody tr th:only-of-type {\n",
       "        vertical-align: middle;\n",
       "    }\n",
       "\n",
       "    .dataframe tbody tr th {\n",
       "        vertical-align: top;\n",
       "    }\n",
       "\n",
       "    .dataframe thead th {\n",
       "        text-align: right;\n",
       "    }\n",
       "</style>\n",
       "<table border=\"1\" class=\"dataframe\">\n",
       "  <thead>\n",
       "    <tr style=\"text-align: right;\">\n",
       "      <th></th>\n",
       "      <th>0</th>\n",
       "      <th>1</th>\n",
       "      <th>2</th>\n",
       "      <th>3</th>\n",
       "      <th>4</th>\n",
       "      <th>5</th>\n",
       "      <th>6</th>\n",
       "      <th>7</th>\n",
       "      <th>8</th>\n",
       "      <th>9</th>\n",
       "      <th>...</th>\n",
       "      <th>231</th>\n",
       "      <th>232</th>\n",
       "      <th>233</th>\n",
       "      <th>234</th>\n",
       "      <th>235</th>\n",
       "      <th>236</th>\n",
       "      <th>237</th>\n",
       "      <th>238</th>\n",
       "      <th>239</th>\n",
       "      <th>240</th>\n",
       "    </tr>\n",
       "  </thead>\n",
       "  <tbody>\n",
       "    <tr>\n",
       "      <th>5</th>\n",
       "      <td>(first, brewed)</td>\n",
       "      <td>(brewed, black)</td>\n",
       "      <td>(black, lightning)</td>\n",
       "      <td>(lightning, name)</td>\n",
       "      <td>(name, implies)</td>\n",
       "      <td>(implies, combining)</td>\n",
       "      <td>(combining, style)</td>\n",
       "      <td>(style, defining)</td>\n",
       "      <td>(defining, characteristics)</td>\n",
       "      <td>(characteristics, dark)</td>\n",
       "      <td>...</td>\n",
       "      <td>NaN</td>\n",
       "      <td>NaN</td>\n",
       "      <td>NaN</td>\n",
       "      <td>NaN</td>\n",
       "      <td>NaN</td>\n",
       "      <td>NaN</td>\n",
       "      <td>NaN</td>\n",
       "      <td>NaN</td>\n",
       "      <td>NaN</td>\n",
       "      <td>NaN</td>\n",
       "    </tr>\n",
       "    <tr>\n",
       "      <th>9</th>\n",
       "      <td>(newest, addition)</td>\n",
       "      <td>(addition, harvest)</td>\n",
       "      <td>(harvest, family)</td>\n",
       "      <td>(family, southern)</td>\n",
       "      <td>(southern, hemisphere)</td>\n",
       "      <td>(hemisphere, harvest)</td>\n",
       "      <td>(harvest, first)</td>\n",
       "      <td>(first, time)</td>\n",
       "      <td>(time, know)</td>\n",
       "      <td>(know, american)</td>\n",
       "      <td>...</td>\n",
       "      <td>NaN</td>\n",
       "      <td>NaN</td>\n",
       "      <td>NaN</td>\n",
       "      <td>NaN</td>\n",
       "      <td>NaN</td>\n",
       "      <td>NaN</td>\n",
       "      <td>NaN</td>\n",
       "      <td>NaN</td>\n",
       "      <td>NaN</td>\n",
       "      <td>NaN</td>\n",
       "    </tr>\n",
       "    <tr>\n",
       "      <th>...</th>\n",
       "      <td>...</td>\n",
       "      <td>...</td>\n",
       "      <td>...</td>\n",
       "      <td>...</td>\n",
       "      <td>...</td>\n",
       "      <td>...</td>\n",
       "      <td>...</td>\n",
       "      <td>...</td>\n",
       "      <td>...</td>\n",
       "      <td>...</td>\n",
       "      <td>...</td>\n",
       "      <td>...</td>\n",
       "      <td>...</td>\n",
       "      <td>...</td>\n",
       "      <td>...</td>\n",
       "      <td>...</td>\n",
       "      <td>...</td>\n",
       "      <td>...</td>\n",
       "      <td>...</td>\n",
       "      <td>...</td>\n",
       "      <td>...</td>\n",
       "    </tr>\n",
       "    <tr>\n",
       "      <th>5986</th>\n",
       "      <td>(velvety, chewy)</td>\n",
       "      <td>(chewy, ipa)</td>\n",
       "      <td>(ipa, perfect)</td>\n",
       "      <td>(perfect, blend)</td>\n",
       "      <td>(blend, hop)</td>\n",
       "      <td>(hop, bitterness)</td>\n",
       "      <td>(bitterness, aroma)</td>\n",
       "      <td>(aroma, malt)</td>\n",
       "      <td>(malt, body)</td>\n",
       "      <td>(body, centennial)</td>\n",
       "      <td>...</td>\n",
       "      <td>NaN</td>\n",
       "      <td>NaN</td>\n",
       "      <td>NaN</td>\n",
       "      <td>NaN</td>\n",
       "      <td>NaN</td>\n",
       "      <td>NaN</td>\n",
       "      <td>NaN</td>\n",
       "      <td>NaN</td>\n",
       "      <td>NaN</td>\n",
       "      <td>NaN</td>\n",
       "    </tr>\n",
       "    <tr>\n",
       "      <th>5987</th>\n",
       "      <td>(took, pale)</td>\n",
       "      <td>(pale, ale)</td>\n",
       "      <td>(ale, added)</td>\n",
       "      <td>(added, summit)</td>\n",
       "      <td>(summit, cascade)</td>\n",
       "      <td>(cascade, hops)</td>\n",
       "      <td>(hops, throughout)</td>\n",
       "      <td>(throughout, boil)</td>\n",
       "      <td>(boil, provide)</td>\n",
       "      <td>(provide, citrus)</td>\n",
       "      <td>...</td>\n",
       "      <td>NaN</td>\n",
       "      <td>NaN</td>\n",
       "      <td>NaN</td>\n",
       "      <td>NaN</td>\n",
       "      <td>NaN</td>\n",
       "      <td>NaN</td>\n",
       "      <td>NaN</td>\n",
       "      <td>NaN</td>\n",
       "      <td>NaN</td>\n",
       "      <td>NaN</td>\n",
       "    </tr>\n",
       "  </tbody>\n",
       "</table>\n",
       "<p>1484 rows × 241 columns</p>\n",
       "</div>"
      ],
      "text/plain": [
       "                     0                    1                   2    \\\n",
       "5        (first, brewed)      (brewed, black)  (black, lightning)   \n",
       "9     (newest, addition)  (addition, harvest)   (harvest, family)   \n",
       "...                  ...                  ...                 ...   \n",
       "5986    (velvety, chewy)         (chewy, ipa)      (ipa, perfect)   \n",
       "5987        (took, pale)          (pale, ale)        (ale, added)   \n",
       "\n",
       "                     3                       4                      5    \\\n",
       "5      (lightning, name)         (name, implies)   (implies, combining)   \n",
       "9     (family, southern)  (southern, hemisphere)  (hemisphere, harvest)   \n",
       "...                  ...                     ...                    ...   \n",
       "5986    (perfect, blend)            (blend, hop)      (hop, bitterness)   \n",
       "5987     (added, summit)       (summit, cascade)        (cascade, hops)   \n",
       "\n",
       "                      6                   7                            8    \\\n",
       "5      (combining, style)   (style, defining)  (defining, characteristics)   \n",
       "9        (harvest, first)       (first, time)                 (time, know)   \n",
       "...                   ...                 ...                          ...   \n",
       "5986  (bitterness, aroma)       (aroma, malt)                 (malt, body)   \n",
       "5987   (hops, throughout)  (throughout, boil)              (boil, provide)   \n",
       "\n",
       "                          9   ...   231  232  233  234  235  236  237  238  \\\n",
       "5     (characteristics, dark) ...   NaN  NaN  NaN  NaN  NaN  NaN  NaN  NaN   \n",
       "9            (know, american) ...   NaN  NaN  NaN  NaN  NaN  NaN  NaN  NaN   \n",
       "...                       ... ...   ...  ...  ...  ...  ...  ...  ...  ...   \n",
       "5986       (body, centennial) ...   NaN  NaN  NaN  NaN  NaN  NaN  NaN  NaN   \n",
       "5987        (provide, citrus) ...   NaN  NaN  NaN  NaN  NaN  NaN  NaN  NaN   \n",
       "\n",
       "      239  240  \n",
       "5     NaN  NaN  \n",
       "9     NaN  NaN  \n",
       "...   ...  ...  \n",
       "5986  NaN  NaN  \n",
       "5987  NaN  NaN  \n",
       "\n",
       "[1484 rows x 241 columns]"
      ]
     },
     "execution_count": 21,
     "metadata": {},
     "output_type": "execute_result"
    }
   ],
   "source": [
    "(df[df[\"ibu\"] > df[\"ibu\"].quantile(0.75)][\"description\"].\n",
    "              apply(lambda x :normalize_document(x,\"bigrams\"))).apply(pd.Series)"
   ]
  },
  {
   "cell_type": "code",
   "execution_count": 110,
   "metadata": {},
   "outputs": [],
   "source": [
    "bigram_top_big = bigram_big.dropna().value_counts()\n",
    "bigram_top_very_big = bigram_very_big.dropna().value_counts()"
   ]
  },
  {
   "cell_type": "code",
   "execution_count": 111,
   "metadata": {},
   "outputs": [],
   "source": [
    "bigram_top_small = bigram_small.dropna().value_counts()\n",
    "bigram_top_very_small = bigram_very_small.dropna().value_counts()"
   ]
  },
  {
   "cell_type": "code",
   "execution_count": 112,
   "metadata": {},
   "outputs": [],
   "source": [
    "top_small = pd.DataFrame(bigram_top_big).merge(pd.DataFrame(bigram_top_small),how='outer',left_index=True, right_index=True)\n",
    "top_small = top_small.fillna(0)\n",
    "top_small[\"per_x\"] = top_small[\"value_x\"]/top_small[\"value_x\"].sum()\n",
    "top_small[\"per_y\"] = top_small[\"value_y\"]/top_small[\"value_y\"].sum()\n",
    "top_small[\"diff\"] = top_small[\"value_x\"] - top_small[\"value_y\"]\n",
    "top_small[\"per_diff\"] = top_small[\"per_x\"] - top_small[\"per_y\"]"
   ]
  },
  {
   "cell_type": "code",
   "execution_count": 113,
   "metadata": {},
   "outputs": [
    {
     "data": {
      "text/html": [
       "<div>\n",
       "<style scoped>\n",
       "    .dataframe tbody tr th:only-of-type {\n",
       "        vertical-align: middle;\n",
       "    }\n",
       "\n",
       "    .dataframe tbody tr th {\n",
       "        vertical-align: top;\n",
       "    }\n",
       "\n",
       "    .dataframe thead th {\n",
       "        text-align: right;\n",
       "    }\n",
       "</style>\n",
       "<table border=\"1\" class=\"dataframe\">\n",
       "  <thead>\n",
       "    <tr style=\"text-align: right;\">\n",
       "      <th></th>\n",
       "      <th>value_x</th>\n",
       "      <th>value_y</th>\n",
       "      <th>per_x</th>\n",
       "      <th>per_y</th>\n",
       "      <th>diff</th>\n",
       "      <th>per_diff</th>\n",
       "    </tr>\n",
       "  </thead>\n",
       "  <tbody>\n",
       "    <tr>\n",
       "      <th>(india, pale)</th>\n",
       "      <td>149.0</td>\n",
       "      <td>2.0</td>\n",
       "      <td>0.003229</td>\n",
       "      <td>0.000023</td>\n",
       "      <td>147.0</td>\n",
       "      <td>0.003206</td>\n",
       "    </tr>\n",
       "    <tr>\n",
       "      <th>(double, ipa)</th>\n",
       "      <td>108.0</td>\n",
       "      <td>1.0</td>\n",
       "      <td>0.002340</td>\n",
       "      <td>0.000012</td>\n",
       "      <td>107.0</td>\n",
       "      <td>0.002329</td>\n",
       "    </tr>\n",
       "    <tr>\n",
       "      <th>...</th>\n",
       "      <td>...</td>\n",
       "      <td>...</td>\n",
       "      <td>...</td>\n",
       "      <td>...</td>\n",
       "      <td>...</td>\n",
       "      <td>...</td>\n",
       "    </tr>\n",
       "    <tr>\n",
       "      <th>(brown, ale)</th>\n",
       "      <td>10.0</td>\n",
       "      <td>120.0</td>\n",
       "      <td>0.000217</td>\n",
       "      <td>0.001382</td>\n",
       "      <td>-110.0</td>\n",
       "      <td>-0.001165</td>\n",
       "    </tr>\n",
       "    <tr>\n",
       "      <th>(wheat, beer)</th>\n",
       "      <td>4.0</td>\n",
       "      <td>149.0</td>\n",
       "      <td>0.000087</td>\n",
       "      <td>0.001716</td>\n",
       "      <td>-145.0</td>\n",
       "      <td>-0.001629</td>\n",
       "    </tr>\n",
       "  </tbody>\n",
       "</table>\n",
       "<p>89091 rows × 6 columns</p>\n",
       "</div>"
      ],
      "text/plain": [
       "               value_x  value_y     per_x     per_y   diff  per_diff\n",
       "(india, pale)    149.0      2.0  0.003229  0.000023  147.0  0.003206\n",
       "(double, ipa)    108.0      1.0  0.002340  0.000012  107.0  0.002329\n",
       "...                ...      ...       ...       ...    ...       ...\n",
       "(brown, ale)      10.0    120.0  0.000217  0.001382 -110.0 -0.001165\n",
       "(wheat, beer)      4.0    149.0  0.000087  0.001716 -145.0 -0.001629\n",
       "\n",
       "[89091 rows x 6 columns]"
      ]
     },
     "execution_count": 113,
     "metadata": {},
     "output_type": "execute_result"
    }
   ],
   "source": [
    "top_small.sort_values(\"diff\",ascending=False)"
   ]
  },
  {
   "cell_type": "code",
   "execution_count": 114,
   "metadata": {},
   "outputs": [
    {
     "data": {
      "text/plain": [
       "Index([    ('india', 'pale'),     ('double', 'ipa'),       ('pale', 'ale'),\n",
       "         ('imperial', 'ipa'), ('imperial', 'stout'),     ('west', 'coast'),\n",
       "           ('ipa', 'brewed'),   ('american', 'ipa'),  ('hop', 'varieties'),\n",
       "           ('dry', 'hopped'),\n",
       "       ...\n",
       "           ('blonde', 'ale'), ('slightly', 'sweet'),  ('easy', 'drinking'),\n",
       "          ('orange', 'peel'),    ('beer', 'brewed'),     ('noble', 'hops'),\n",
       "            ('wheat', 'ale'),     ('ale', 'brewed'),      ('brown', 'ale'),\n",
       "           ('wheat', 'beer')],\n",
       "      dtype='object', length=89091)"
      ]
     },
     "execution_count": 114,
     "metadata": {},
     "output_type": "execute_result"
    }
   ],
   "source": [
    "top_small.sort_values(\"diff\",ascending=False).index"
   ]
  },
  {
   "cell_type": "code",
   "execution_count": 115,
   "metadata": {},
   "outputs": [
    {
     "data": {
      "text/plain": [
       "Index([    ('india', 'pale'),     ('double', 'ipa'),       ('pale', 'ale'),\n",
       "         ('imperial', 'ipa'), ('imperial', 'stout'),     ('west', 'coast'),\n",
       "           ('ipa', 'brewed'),   ('american', 'ipa'),  ('hop', 'varieties'),\n",
       "           ('dry', 'hopped'),\n",
       "       ...\n",
       "           ('blonde', 'ale'), ('slightly', 'sweet'),  ('easy', 'drinking'),\n",
       "          ('orange', 'peel'),    ('beer', 'brewed'),     ('noble', 'hops'),\n",
       "            ('wheat', 'ale'),     ('ale', 'brewed'),      ('brown', 'ale'),\n",
       "           ('wheat', 'beer')],\n",
       "      dtype='object', length=89091)"
      ]
     },
     "execution_count": 115,
     "metadata": {},
     "output_type": "execute_result"
    }
   ],
   "source": [
    "top_small.sort_values(\"diff\",ascending=False).index"
   ]
  },
  {
   "cell_type": "code",
   "execution_count": 116,
   "metadata": {},
   "outputs": [
    {
     "data": {
      "text/plain": [
       "Index([    ('india', 'pale'),       ('pale', 'ale'),     ('double', 'ipa'),\n",
       "       ('imperial', 'stout'),   ('imperial', 'ipa'),     ('west', 'coast'),\n",
       "           ('hop', 'flavor'),     ('ipa', 'brewed'),   ('american', 'ipa'),\n",
       "        ('american', 'hops'),\n",
       "       ...\n",
       "       ('slightly', 'sweet'),     ('golden', 'ale'),  ('easy', 'drinking'),\n",
       "           ('blonde', 'ale'),    ('orange', 'peel'),     ('ale', 'brewed'),\n",
       "           ('noble', 'hops'),      ('wheat', 'ale'),      ('brown', 'ale'),\n",
       "           ('wheat', 'beer')],\n",
       "      dtype='object', length=89091)"
      ]
     },
     "execution_count": 116,
     "metadata": {},
     "output_type": "execute_result"
    }
   ],
   "source": [
    "top_small.sort_values(\"per_diff\",ascending=False).index"
   ]
  },
  {
   "cell_type": "code",
   "execution_count": 117,
   "metadata": {},
   "outputs": [
    {
     "data": {
      "text/plain": [
       "Index([    ('india', 'pale'),       ('pale', 'ale'),     ('double', 'ipa'),\n",
       "       ('imperial', 'stout'),   ('imperial', 'ipa'),     ('west', 'coast'),\n",
       "           ('hop', 'flavor'),     ('ipa', 'brewed'),   ('american', 'ipa'),\n",
       "        ('american', 'hops'),\n",
       "       ...\n",
       "       ('slightly', 'sweet'),     ('golden', 'ale'),  ('easy', 'drinking'),\n",
       "           ('blonde', 'ale'),    ('orange', 'peel'),     ('ale', 'brewed'),\n",
       "           ('noble', 'hops'),      ('wheat', 'ale'),      ('brown', 'ale'),\n",
       "           ('wheat', 'beer')],\n",
       "      dtype='object', length=89091)"
      ]
     },
     "execution_count": 117,
     "metadata": {},
     "output_type": "execute_result"
    }
   ],
   "source": [
    "top_small.sort_values(\"per_diff\",ascending=False).index"
   ]
  },
  {
   "cell_type": "code",
   "execution_count": 118,
   "metadata": {},
   "outputs": [
    {
     "data": {
      "text/html": [
       "<div>\n",
       "<style scoped>\n",
       "    .dataframe tbody tr th:only-of-type {\n",
       "        vertical-align: middle;\n",
       "    }\n",
       "\n",
       "    .dataframe tbody tr th {\n",
       "        vertical-align: top;\n",
       "    }\n",
       "\n",
       "    .dataframe thead th {\n",
       "        text-align: right;\n",
       "    }\n",
       "</style>\n",
       "<table border=\"1\" class=\"dataframe\">\n",
       "  <thead>\n",
       "    <tr style=\"text-align: right;\">\n",
       "      <th></th>\n",
       "      <th>value_x</th>\n",
       "      <th>value_y</th>\n",
       "      <th>per_x</th>\n",
       "      <th>per_y</th>\n",
       "      <th>diff</th>\n",
       "      <th>per_diff</th>\n",
       "    </tr>\n",
       "  </thead>\n",
       "  <tbody>\n",
       "    <tr>\n",
       "      <th>(india, pale)</th>\n",
       "      <td>149.0</td>\n",
       "      <td>2.0</td>\n",
       "      <td>0.003229</td>\n",
       "      <td>0.000023</td>\n",
       "      <td>147.0</td>\n",
       "      <td>0.003206</td>\n",
       "    </tr>\n",
       "    <tr>\n",
       "      <th>(pale, ale)</th>\n",
       "      <td>207.0</td>\n",
       "      <td>134.0</td>\n",
       "      <td>0.004486</td>\n",
       "      <td>0.001543</td>\n",
       "      <td>73.0</td>\n",
       "      <td>0.002943</td>\n",
       "    </tr>\n",
       "    <tr>\n",
       "      <th>(double, ipa)</th>\n",
       "      <td>108.0</td>\n",
       "      <td>1.0</td>\n",
       "      <td>0.002340</td>\n",
       "      <td>0.000012</td>\n",
       "      <td>107.0</td>\n",
       "      <td>0.002329</td>\n",
       "    </tr>\n",
       "    <tr>\n",
       "      <th>(imperial, stout)</th>\n",
       "      <td>70.0</td>\n",
       "      <td>9.0</td>\n",
       "      <td>0.001517</td>\n",
       "      <td>0.000104</td>\n",
       "      <td>61.0</td>\n",
       "      <td>0.001413</td>\n",
       "    </tr>\n",
       "    <tr>\n",
       "      <th>(imperial, ipa)</th>\n",
       "      <td>62.0</td>\n",
       "      <td>0.0</td>\n",
       "      <td>0.001344</td>\n",
       "      <td>0.000000</td>\n",
       "      <td>62.0</td>\n",
       "      <td>0.001344</td>\n",
       "    </tr>\n",
       "  </tbody>\n",
       "</table>\n",
       "</div>"
      ],
      "text/plain": [
       "                   value_x  value_y     per_x     per_y   diff  per_diff\n",
       "(india, pale)        149.0      2.0  0.003229  0.000023  147.0  0.003206\n",
       "(pale, ale)          207.0    134.0  0.004486  0.001543   73.0  0.002943\n",
       "(double, ipa)        108.0      1.0  0.002340  0.000012  107.0  0.002329\n",
       "(imperial, stout)     70.0      9.0  0.001517  0.000104   61.0  0.001413\n",
       "(imperial, ipa)       62.0      0.0  0.001344  0.000000   62.0  0.001344"
      ]
     },
     "execution_count": 118,
     "metadata": {},
     "output_type": "execute_result"
    }
   ],
   "source": [
    "top_small.sort_values(\"per_diff\",ascending=False).head()"
   ]
  },
  {
   "cell_type": "code",
   "execution_count": 119,
   "metadata": {},
   "outputs": [
    {
     "data": {
      "text/html": [
       "<div>\n",
       "<style scoped>\n",
       "    .dataframe tbody tr th:only-of-type {\n",
       "        vertical-align: middle;\n",
       "    }\n",
       "\n",
       "    .dataframe tbody tr th {\n",
       "        vertical-align: top;\n",
       "    }\n",
       "\n",
       "    .dataframe thead th {\n",
       "        text-align: right;\n",
       "    }\n",
       "</style>\n",
       "<table border=\"1\" class=\"dataframe\">\n",
       "  <thead>\n",
       "    <tr style=\"text-align: right;\">\n",
       "      <th></th>\n",
       "      <th>value_x</th>\n",
       "      <th>value_y</th>\n",
       "      <th>per_x</th>\n",
       "      <th>per_y</th>\n",
       "      <th>diff</th>\n",
       "      <th>per_diff</th>\n",
       "    </tr>\n",
       "  </thead>\n",
       "  <tbody>\n",
       "    <tr>\n",
       "      <th>(wheat, beer)</th>\n",
       "      <td>4.0</td>\n",
       "      <td>149.0</td>\n",
       "      <td>0.000087</td>\n",
       "      <td>0.001716</td>\n",
       "      <td>-145.0</td>\n",
       "      <td>-0.001629</td>\n",
       "    </tr>\n",
       "    <tr>\n",
       "      <th>(ale, brewed)</th>\n",
       "      <td>35.0</td>\n",
       "      <td>138.0</td>\n",
       "      <td>0.000758</td>\n",
       "      <td>0.001589</td>\n",
       "      <td>-103.0</td>\n",
       "      <td>-0.000831</td>\n",
       "    </tr>\n",
       "    <tr>\n",
       "      <th>(pale, ale)</th>\n",
       "      <td>207.0</td>\n",
       "      <td>134.0</td>\n",
       "      <td>0.004486</td>\n",
       "      <td>0.001543</td>\n",
       "      <td>73.0</td>\n",
       "      <td>0.002943</td>\n",
       "    </tr>\n",
       "    <tr>\n",
       "      <th>(brown, ale)</th>\n",
       "      <td>10.0</td>\n",
       "      <td>120.0</td>\n",
       "      <td>0.000217</td>\n",
       "      <td>0.001382</td>\n",
       "      <td>-110.0</td>\n",
       "      <td>-0.001165</td>\n",
       "    </tr>\n",
       "    <tr>\n",
       "      <th>(beer, brewed)</th>\n",
       "      <td>23.0</td>\n",
       "      <td>96.0</td>\n",
       "      <td>0.000498</td>\n",
       "      <td>0.001105</td>\n",
       "      <td>-73.0</td>\n",
       "      <td>-0.000607</td>\n",
       "    </tr>\n",
       "  </tbody>\n",
       "</table>\n",
       "</div>"
      ],
      "text/plain": [
       "                value_x  value_y     per_x     per_y   diff  per_diff\n",
       "(wheat, beer)       4.0    149.0  0.000087  0.001716 -145.0 -0.001629\n",
       "(ale, brewed)      35.0    138.0  0.000758  0.001589 -103.0 -0.000831\n",
       "(pale, ale)       207.0    134.0  0.004486  0.001543   73.0  0.002943\n",
       "(brown, ale)       10.0    120.0  0.000217  0.001382 -110.0 -0.001165\n",
       "(beer, brewed)     23.0     96.0  0.000498  0.001105  -73.0 -0.000607"
      ]
     },
     "execution_count": 119,
     "metadata": {},
     "output_type": "execute_result"
    }
   ],
   "source": [
    "top_small.sort_values(\"value_y\",ascending=False).head()"
   ]
  },
  {
   "cell_type": "code",
   "execution_count": 85,
   "metadata": {},
   "outputs": [],
   "source": [
    "trigram_big = (df[df[\"ibu\"] > df[\"ibu\"].quantile(0.75)][\"description\"].\n",
    "              apply(lambda x :normalize_document(x,\"trigrams\")).\n",
    "              apply(pd.Series).melt()[\"value\"])\n",
    "trigram_small = (df[df[\"ibu\"] < df[\"ibu\"].quantile(0.50)][\"description\"].\n",
    "              apply(lambda x :normalize_document(x,\"trigrams\")).\n",
    "              apply(pd.Series).melt()[\"value\"])\n",
    "trigram_very_big = (df[df[\"ibu\"] > df[\"ibu\"].quantile(0.85)][\"description\"].\n",
    "              apply(lambda x :normalize_document(x,\"trigrams\")).\n",
    "              apply(pd.Series).melt()[\"value\"])\n",
    "trigram_very_small = (df[df[\"ibu\"] < df[\"ibu\"].quantile(0.20)][\"description\"].\n",
    "              apply(lambda x :normalize_document(x,\"trigrams\")).\n",
    "              apply(pd.Series).melt()[\"value\"])"
   ]
  },
  {
   "cell_type": "code",
   "execution_count": 86,
   "metadata": {},
   "outputs": [],
   "source": [
    "trigram_top_big = trigram_big.dropna().value_counts()\n",
    "trigram_top_small = trigram_small.dropna().value_counts()"
   ]
  },
  {
   "cell_type": "code",
   "execution_count": 87,
   "metadata": {},
   "outputs": [],
   "source": [
    "top_small = pd.DataFrame(trigram_top_big).merge(pd.DataFrame(trigram_top_small),how='outer',left_index=True, right_index=True)\n",
    "top_small = top_small.fillna(0)\n",
    "top_small[\"per_x\"] = top_small[\"value_x\"]/top_small[\"value_x\"].sum()\n",
    "top_small[\"per_y\"] = top_small[\"value_y\"]/top_small[\"value_y\"].sum()\n",
    "top_small[\"diff\"] = top_small[\"value_x\"] - top_small[\"value_y\"]\n",
    "top_small[\"per_diff\"] = top_small[\"per_x\"] - top_small[\"per_y\"]"
   ]
  },
  {
   "cell_type": "code",
   "execution_count": 88,
   "metadata": {},
   "outputs": [
    {
     "data": {
      "text/html": [
       "<div>\n",
       "<style scoped>\n",
       "    .dataframe tbody tr th:only-of-type {\n",
       "        vertical-align: middle;\n",
       "    }\n",
       "\n",
       "    .dataframe tbody tr th {\n",
       "        vertical-align: top;\n",
       "    }\n",
       "\n",
       "    .dataframe thead th {\n",
       "        text-align: right;\n",
       "    }\n",
       "</style>\n",
       "<table border=\"1\" class=\"dataframe\">\n",
       "  <thead>\n",
       "    <tr style=\"text-align: right;\">\n",
       "      <th></th>\n",
       "      <th>value_x</th>\n",
       "      <th>value_y</th>\n",
       "      <th>per_x</th>\n",
       "      <th>per_y</th>\n",
       "      <th>diff</th>\n",
       "      <th>per_diff</th>\n",
       "    </tr>\n",
       "  </thead>\n",
       "  <tbody>\n",
       "    <tr>\n",
       "      <th>(india, pale, ale)</th>\n",
       "      <td>139.0</td>\n",
       "      <td>2.0</td>\n",
       "      <td>0.001811</td>\n",
       "      <td>0.000014</td>\n",
       "      <td>137.0</td>\n",
       "      <td>0.001797</td>\n",
       "    </tr>\n",
       "    <tr>\n",
       "      <th>(ipa, is, a)</th>\n",
       "      <td>44.0</td>\n",
       "      <td>0.0</td>\n",
       "      <td>0.000573</td>\n",
       "      <td>0.000000</td>\n",
       "      <td>44.0</td>\n",
       "      <td>0.000573</td>\n",
       "    </tr>\n",
       "    <tr>\n",
       "      <th>...</th>\n",
       "      <td>...</td>\n",
       "      <td>...</td>\n",
       "      <td>...</td>\n",
       "      <td>...</td>\n",
       "      <td>...</td>\n",
       "      <td>...</td>\n",
       "    </tr>\n",
       "    <tr>\n",
       "      <th>(this, beer, is)</th>\n",
       "      <td>66.0</td>\n",
       "      <td>158.0</td>\n",
       "      <td>0.000860</td>\n",
       "      <td>0.001107</td>\n",
       "      <td>-92.0</td>\n",
       "      <td>-0.000247</td>\n",
       "    </tr>\n",
       "    <tr>\n",
       "      <th>(a, hint, of)</th>\n",
       "      <td>30.0</td>\n",
       "      <td>144.0</td>\n",
       "      <td>0.000391</td>\n",
       "      <td>0.001009</td>\n",
       "      <td>-114.0</td>\n",
       "      <td>-0.000618</td>\n",
       "    </tr>\n",
       "  </tbody>\n",
       "</table>\n",
       "<p>169014 rows × 6 columns</p>\n",
       "</div>"
      ],
      "text/plain": [
       "                    value_x  value_y     per_x     per_y   diff  per_diff\n",
       "(india, pale, ale)    139.0      2.0  0.001811  0.000014  137.0  0.001797\n",
       "(ipa, is, a)           44.0      0.0  0.000573  0.000000   44.0  0.000573\n",
       "...                     ...      ...       ...       ...    ...       ...\n",
       "(this, beer, is)       66.0    158.0  0.000860  0.001107  -92.0 -0.000247\n",
       "(a, hint, of)          30.0    144.0  0.000391  0.001009 -114.0 -0.000618\n",
       "\n",
       "[169014 rows x 6 columns]"
      ]
     },
     "execution_count": 88,
     "metadata": {},
     "output_type": "execute_result"
    }
   ],
   "source": [
    "top_small.sort_values(\"diff\",ascending=False)"
   ]
  },
  {
   "cell_type": "code",
   "execution_count": 89,
   "metadata": {
    "scrolled": true
   },
   "outputs": [
    {
     "data": {
      "text/plain": [
       "Index([        ('india', 'pale', 'ale'),               ('ipa', 'is', 'a'),\n",
       "                   ('ipa', 'with', 'a'),        ('citrus', 'and', 'pine'),\n",
       "                ('ipa', 'is', 'brewed'),            ('this', 'ipa', 'is'),\n",
       "          ('and', 'centennial', 'hops'),        ('dry', 'hopped', 'with'),\n",
       "                ('of', 'citrus', 'and'), ('russian', 'imperial', 'stout'),\n",
       "       ...\n",
       "                ('with', 'hints', 'of'),              ('this', 'is', 'a'),\n",
       "                  ('beer', 'with', 'a'),               ('ale', 'is', 'a'),\n",
       "                   ('a', 'touch', 'of'),             ('ale', 'with', 'a'),\n",
       "              ('ale', 'brewed', 'with'),         ('is', 'brewed', 'with'),\n",
       "                 ('this', 'beer', 'is'),              ('a', 'hint', 'of')],\n",
       "      dtype='object', length=169014)"
      ]
     },
     "execution_count": 89,
     "metadata": {},
     "output_type": "execute_result"
    }
   ],
   "source": [
    "top_small.sort_values(\"diff\",ascending=False).index"
   ]
  },
  {
   "cell_type": "code",
   "execution_count": 90,
   "metadata": {},
   "outputs": [
    {
     "data": {
      "text/plain": [
       "Index([        ('india', 'pale', 'ale'),               ('ipa', 'is', 'a'),\n",
       "             ('flavor', 'and', 'aroma'),             ('ipa', 'with', 'a'),\n",
       "              ('citrus', 'and', 'pine'),        ('dry', 'hopped', 'with'),\n",
       "                ('of', 'citrus', 'and'),       ('of', 'american', 'hops'),\n",
       "                  ('pale', 'ale', 'is'),          ('balanced', 'by', 'a'),\n",
       "       ...\n",
       "       ('american', 'beer', 'festival'),    ('great', 'american', 'beer'),\n",
       "                ('with', 'hints', 'of'),           ('this', 'beer', 'is'),\n",
       "               ('is', 'brewed', 'with'),               ('ale', 'is', 'a'),\n",
       "                   ('ale', 'with', 'a'),            ('beer', 'with', 'a'),\n",
       "              ('ale', 'brewed', 'with'),              ('a', 'hint', 'of')],\n",
       "      dtype='object', length=169014)"
      ]
     },
     "execution_count": 90,
     "metadata": {},
     "output_type": "execute_result"
    }
   ],
   "source": [
    "top_small.sort_values(\"per_diff\",ascending=False).index"
   ]
  },
  {
   "cell_type": "code",
   "execution_count": 84,
   "metadata": {},
   "outputs": [
    {
     "data": {
      "text/plain": [
       "Index([                ('this', 'beer', 'is'),\n",
       "                          ('a', 'hint', 'of'),\n",
       "                     ('is', 'brewed', 'with'),\n",
       "                         ('a', 'touch', 'of'),\n",
       "                    ('ale', 'brewed', 'with'),\n",
       "                          ('this', 'is', 'a'),\n",
       "                           ('ale', 'is', 'a'),\n",
       "                         ('ale', 'with', 'a'),\n",
       "                        ('to', 'create', 'a'),\n",
       "                        ('beer', 'with', 'a'),\n",
       "       ...\n",
       "                    ('copy', 'this', 'month'),\n",
       "                   ('presence', 'abv', 'and'),\n",
       "       ('character', 'perfectly', 'balanced'),\n",
       "                 ('hops', 'then', 'delivers'),\n",
       "                    ('our', 'sour', 'cherry'),\n",
       "                   ('versions', 'and', 'had'),\n",
       "                   ('features', 'our', 'own'),\n",
       "                         ('in', 'fact', 'we'),\n",
       "                 ('style', 'hopping', 'this'),\n",
       "                 ('german', 'malt', 'floral')],\n",
       "      dtype='object', length=116193)"
      ]
     },
     "execution_count": 84,
     "metadata": {},
     "output_type": "execute_result"
    }
   ],
   "source": [
    "top_small.sort_values(\"value_y\",ascending=False).index"
   ]
  },
  {
   "cell_type": "code",
   "execution_count": 447,
   "metadata": {},
   "outputs": [
    {
     "data": {
      "text/plain": [
       "Index([         ('pale', 'ale'),        ('india', 'pale'),\n",
       "              ('dry', 'hopped'),        ('double', 'ipa'),\n",
       "              ('hop', 'flavor'),        ('west', 'coast'),\n",
       "          ('imperial', 'stout'),     ('american', 'hops'),\n",
       "               ('hop', 'aroma'),     ('malt', 'backbone'),\n",
       "       ...\n",
       "            ('longer', 'aging'),         ('one', 'whiff'),\n",
       "         ('pouring', 'vibrant'),         ('head', 'good'),\n",
       "         ('subtle', 'addition'),  ('amarillo', 'crystal'),\n",
       "         ('sweetness', 'helps'),         ('red', 'brick'),\n",
       "       ('traditional', 'lager'),      ('late', 'hopping')],\n",
       "      dtype='object', length=5991)"
      ]
     },
     "execution_count": 447,
     "metadata": {},
     "output_type": "execute_result"
    }
   ],
   "source": [
    "top_small.sort_values(\"value_x\",ascending=False).index"
   ]
  },
  {
   "cell_type": "code",
   "execution_count": 43,
   "metadata": {},
   "outputs": [],
   "source": [
    "quadgram_big = (df[df[\"ibu\"] > df[\"ibu\"].quantile(0.75)][\"description\"].\n",
    "              apply(lambda x :normalize_document(x,\"quadgrams\")).\n",
    "              apply(pd.Series).melt()[\"value\"])\n",
    "quadgram_small = (df[df[\"ibu\"] < df[\"ibu\"].quantile(0.50)][\"description\"].\n",
    "              apply(lambda x :normalize_document(x,\"quadgrams\")).\n",
    "              apply(pd.Series).melt()[\"value\"])\n",
    "quadgram_very_big = (df[df[\"ibu\"] > df[\"ibu\"].quantile(0.85)][\"description\"].\n",
    "              apply(lambda x :normalize_document(x,\"quadgrams\")).\n",
    "              apply(pd.Series).melt()[\"value\"])\n",
    "quadgram_very_small = (df[df[\"ibu\"] < df[\"ibu\"].quantile(0.20)][\"description\"].\n",
    "              apply(lambda x :normalize_document(x,\"quadgrams\")).\n",
    "              apply(pd.Series).melt()[\"value\"])"
   ]
  },
  {
   "cell_type": "code",
   "execution_count": 44,
   "metadata": {},
   "outputs": [],
   "source": [
    "quadgram_top_big = quadgram_big.dropna().value_counts()\n",
    "quadgram_top_small = quadgram_small.dropna().value_counts()"
   ]
  },
  {
   "cell_type": "code",
   "execution_count": 45,
   "metadata": {},
   "outputs": [],
   "source": [
    "top_small = pd.DataFrame(quadgram_top_big).merge(pd.DataFrame(quadgram_top_small),how='outer',left_index=True, right_index=True)\n",
    "top_small = top_small.fillna(0)\n",
    "top_small[\"per_x\"] = top_small[\"value_x\"]/top_small[\"value_x\"].sum()\n",
    "top_small[\"per_y\"] = top_small[\"value_y\"]/top_small[\"value_y\"].sum()\n",
    "top_small[\"diff\"] = top_small[\"value_x\"] - top_small[\"value_y\"]\n",
    "top_small[\"per_diff\"] = top_small[\"per_x\"] - top_small[\"per_y\"]"
   ]
  },
  {
   "cell_type": "code",
   "execution_count": 46,
   "metadata": {},
   "outputs": [
    {
     "data": {
      "text/html": [
       "<div>\n",
       "<style scoped>\n",
       "    .dataframe tbody tr th:only-of-type {\n",
       "        vertical-align: middle;\n",
       "    }\n",
       "\n",
       "    .dataframe tbody tr th {\n",
       "        vertical-align: top;\n",
       "    }\n",
       "\n",
       "    .dataframe thead th {\n",
       "        text-align: right;\n",
       "    }\n",
       "</style>\n",
       "<table border=\"1\" class=\"dataframe\">\n",
       "  <thead>\n",
       "    <tr style=\"text-align: right;\">\n",
       "      <th></th>\n",
       "      <th>value_x</th>\n",
       "      <th>value_y</th>\n",
       "      <th>per_x</th>\n",
       "      <th>per_y</th>\n",
       "      <th>diff</th>\n",
       "      <th>per_diff</th>\n",
       "    </tr>\n",
       "  </thead>\n",
       "  <tbody>\n",
       "    <tr>\n",
       "      <th>missing</th>\n",
       "      <td>142.0</td>\n",
       "      <td>222.0</td>\n",
       "      <td>0.095687</td>\n",
       "      <td>0.075536</td>\n",
       "      <td>-80.0</td>\n",
       "      <td>0.020151</td>\n",
       "    </tr>\n",
       "    <tr>\n",
       "      <th>perfect beer fall seasonthis beer brewed using local honey clovermead apiaries north aylmer fact honey collected hives near strathroy nearby basswood trees</th>\n",
       "      <td>0.0</td>\n",
       "      <td>2.0</td>\n",
       "      <td>0.000000</td>\n",
       "      <td>0.000681</td>\n",
       "      <td>-2.0</td>\n",
       "      <td>-0.000681</td>\n",
       "    </tr>\n",
       "    <tr>\n",
       "      <th>...</th>\n",
       "      <td>...</td>\n",
       "      <td>...</td>\n",
       "      <td>...</td>\n",
       "      <td>...</td>\n",
       "      <td>...</td>\n",
       "      <td>...</td>\n",
       "    </tr>\n",
       "    <tr>\n",
       "      <th>awardwinning barleywine boasts dense fruity bouquet intense flavor palate deep reddishbrown color big maltiness superbly balanced wonderfully bittersweet hoppinessmalts two row pale english carmelyeast ale yeastbittering hops chinookfinishing hops cascade centennialdry hops cascade centennial chinook</th>\n",
       "      <td>4.0</td>\n",
       "      <td>0.0</td>\n",
       "      <td>0.002695</td>\n",
       "      <td>0.000000</td>\n",
       "      <td>4.0</td>\n",
       "      <td>0.002695</td>\n",
       "    </tr>\n",
       "    <tr>\n",
       "      <th>weve got imperial stout brewed massive amount coffee chocolates caveaged oak bourbon barrels entire year make sure wonderful bourbon undertones come finish makes taste buds squeal delight</th>\n",
       "      <td>4.0</td>\n",
       "      <td>0.0</td>\n",
       "      <td>0.002695</td>\n",
       "      <td>0.000000</td>\n",
       "      <td>4.0</td>\n",
       "      <td>0.002695</td>\n",
       "    </tr>\n",
       "  </tbody>\n",
       "</table>\n",
       "<p>4046 rows × 6 columns</p>\n",
       "</div>"
      ],
      "text/plain": [
       "                                                    value_x  value_y  \\\n",
       "missing                                               142.0    222.0   \n",
       "perfect beer fall seasonthis beer brewed using ...      0.0      2.0   \n",
       "...                                                     ...      ...   \n",
       "awardwinning barleywine boasts dense fruity bou...      4.0      0.0   \n",
       "weve got imperial stout brewed massive amount c...      4.0      0.0   \n",
       "\n",
       "                                                       per_x     per_y  diff  \\\n",
       "missing                                             0.095687  0.075536 -80.0   \n",
       "perfect beer fall seasonthis beer brewed using ...  0.000000  0.000681  -2.0   \n",
       "...                                                      ...       ...   ...   \n",
       "awardwinning barleywine boasts dense fruity bou...  0.002695  0.000000   4.0   \n",
       "weve got imperial stout brewed massive amount c...  0.002695  0.000000   4.0   \n",
       "\n",
       "                                                    per_diff  \n",
       "missing                                             0.020151  \n",
       "perfect beer fall seasonthis beer brewed using ... -0.000681  \n",
       "...                                                      ...  \n",
       "awardwinning barleywine boasts dense fruity bou...  0.002695  \n",
       "weve got imperial stout brewed massive amount c...  0.002695  \n",
       "\n",
       "[4046 rows x 6 columns]"
      ]
     },
     "execution_count": 46,
     "metadata": {},
     "output_type": "execute_result"
    }
   ],
   "source": [
    "top_small.sort_values(\"diff\",ascending=True)"
   ]
  },
  {
   "cell_type": "code",
   "execution_count": 652,
   "metadata": {},
   "outputs": [
    {
     "data": {
      "text/html": [
       "<div>\n",
       "<style scoped>\n",
       "    .dataframe tbody tr th:only-of-type {\n",
       "        vertical-align: middle;\n",
       "    }\n",
       "\n",
       "    .dataframe tbody tr th {\n",
       "        vertical-align: top;\n",
       "    }\n",
       "\n",
       "    .dataframe thead th {\n",
       "        text-align: right;\n",
       "    }\n",
       "</style>\n",
       "<table border=\"1\" class=\"dataframe\">\n",
       "  <thead>\n",
       "    <tr style=\"text-align: right;\">\n",
       "      <th></th>\n",
       "      <th>value_x</th>\n",
       "      <th>value_y</th>\n",
       "      <th>per_x</th>\n",
       "      <th>per_y</th>\n",
       "      <th>diff</th>\n",
       "      <th>per_diff</th>\n",
       "    </tr>\n",
       "  </thead>\n",
       "  <tbody>\n",
       "    <tr>\n",
       "      <th>ipa</th>\n",
       "      <td>502.0</td>\n",
       "      <td>1.0</td>\n",
       "      <td>0.135493</td>\n",
       "      <td>0.000290</td>\n",
       "      <td>501.0</td>\n",
       "      <td>0.135202</td>\n",
       "    </tr>\n",
       "    <tr>\n",
       "      <th>imperial</th>\n",
       "      <td>95.0</td>\n",
       "      <td>10.0</td>\n",
       "      <td>0.025641</td>\n",
       "      <td>0.002903</td>\n",
       "      <td>85.0</td>\n",
       "      <td>0.022738</td>\n",
       "    </tr>\n",
       "    <tr>\n",
       "      <th>...</th>\n",
       "      <td>...</td>\n",
       "      <td>...</td>\n",
       "      <td>...</td>\n",
       "      <td>...</td>\n",
       "      <td>...</td>\n",
       "      <td>...</td>\n",
       "    </tr>\n",
       "    <tr>\n",
       "      <th>wheat</th>\n",
       "      <td>4.0</td>\n",
       "      <td>110.0</td>\n",
       "      <td>0.001080</td>\n",
       "      <td>0.031930</td>\n",
       "      <td>-106.0</td>\n",
       "      <td>-0.030851</td>\n",
       "    </tr>\n",
       "    <tr>\n",
       "      <th>ale</th>\n",
       "      <td>140.0</td>\n",
       "      <td>267.0</td>\n",
       "      <td>0.037787</td>\n",
       "      <td>0.077504</td>\n",
       "      <td>-127.0</td>\n",
       "      <td>-0.039717</td>\n",
       "    </tr>\n",
       "  </tbody>\n",
       "</table>\n",
       "<p>2881 rows × 6 columns</p>\n",
       "</div>"
      ],
      "text/plain": [
       "          value_x  value_y     per_x     per_y   diff  per_diff\n",
       "ipa         502.0      1.0  0.135493  0.000290  501.0  0.135202\n",
       "imperial     95.0     10.0  0.025641  0.002903   85.0  0.022738\n",
       "...           ...      ...       ...       ...    ...       ...\n",
       "wheat         4.0    110.0  0.001080  0.031930 -106.0 -0.030851\n",
       "ale         140.0    267.0  0.037787  0.077504 -127.0 -0.039717\n",
       "\n",
       "[2881 rows x 6 columns]"
      ]
     },
     "execution_count": 652,
     "metadata": {},
     "output_type": "execute_result"
    }
   ],
   "source": [
    "top_small.sort_values(\"diff\",ascending=False)"
   ]
  },
  {
   "cell_type": "code",
   "execution_count": 315,
   "metadata": {},
   "outputs": [
    {
     "data": {
      "text/html": [
       "<div>\n",
       "<style scoped>\n",
       "    .dataframe tbody tr th:only-of-type {\n",
       "        vertical-align: middle;\n",
       "    }\n",
       "\n",
       "    .dataframe tbody tr th {\n",
       "        vertical-align: top;\n",
       "    }\n",
       "\n",
       "    .dataframe thead th {\n",
       "        text-align: right;\n",
       "    }\n",
       "</style>\n",
       "<table border=\"1\" class=\"dataframe\">\n",
       "  <thead>\n",
       "    <tr style=\"text-align: right;\">\n",
       "      <th></th>\n",
       "      <th>value_x</th>\n",
       "      <th>value_y</th>\n",
       "      <th>per_x</th>\n",
       "      <th>per_y</th>\n",
       "      <th>diff</th>\n",
       "      <th>per_diff</th>\n",
       "    </tr>\n",
       "  </thead>\n",
       "  <tbody>\n",
       "    <tr>\n",
       "      <th>(great, american, beer, festival)</th>\n",
       "      <td>2.0</td>\n",
       "      <td>39.0</td>\n",
       "      <td>0.000044</td>\n",
       "      <td>0.000452</td>\n",
       "      <td>-37.0</td>\n",
       "      <td>-0.000409</td>\n",
       "    </tr>\n",
       "    <tr>\n",
       "      <th>(medal, winner, world, beer)</th>\n",
       "      <td>1.0</td>\n",
       "      <td>19.0</td>\n",
       "      <td>0.000022</td>\n",
       "      <td>0.000220</td>\n",
       "      <td>-18.0</td>\n",
       "      <td>-0.000199</td>\n",
       "    </tr>\n",
       "    <tr>\n",
       "      <th>(winner, world, beer, championships)</th>\n",
       "      <td>1.0</td>\n",
       "      <td>14.0</td>\n",
       "      <td>0.000022</td>\n",
       "      <td>0.000162</td>\n",
       "      <td>-13.0</td>\n",
       "      <td>-0.000141</td>\n",
       "    </tr>\n",
       "    <tr>\n",
       "      <th>(medal, world, beer, cup)</th>\n",
       "      <td>0.0</td>\n",
       "      <td>13.0</td>\n",
       "      <td>0.000000</td>\n",
       "      <td>0.000151</td>\n",
       "      <td>-13.0</td>\n",
       "      <td>-0.000151</td>\n",
       "    </tr>\n",
       "    <tr>\n",
       "      <th>(medal, great, american, beer)</th>\n",
       "      <td>1.0</td>\n",
       "      <td>13.0</td>\n",
       "      <td>0.000022</td>\n",
       "      <td>0.000151</td>\n",
       "      <td>-12.0</td>\n",
       "      <td>-0.000129</td>\n",
       "    </tr>\n",
       "  </tbody>\n",
       "</table>\n",
       "</div>"
      ],
      "text/plain": [
       "                                      value_x  value_y     per_x     per_y  \\\n",
       "(great, american, beer, festival)         2.0     39.0  0.000044  0.000452   \n",
       "(medal, winner, world, beer)              1.0     19.0  0.000022  0.000220   \n",
       "(winner, world, beer, championships)      1.0     14.0  0.000022  0.000162   \n",
       "(medal, world, beer, cup)                 0.0     13.0  0.000000  0.000151   \n",
       "(medal, great, american, beer)            1.0     13.0  0.000022  0.000151   \n",
       "\n",
       "                                      diff  per_diff  \n",
       "(great, american, beer, festival)    -37.0 -0.000409  \n",
       "(medal, winner, world, beer)         -18.0 -0.000199  \n",
       "(winner, world, beer, championships) -13.0 -0.000141  \n",
       "(medal, world, beer, cup)            -13.0 -0.000151  \n",
       "(medal, great, american, beer)       -12.0 -0.000129  "
      ]
     },
     "execution_count": 315,
     "metadata": {},
     "output_type": "execute_result"
    }
   ],
   "source": [
    "top_small.sort_values(\"value_y\",ascending=False).head()"
   ]
  },
  {
   "cell_type": "code",
   "execution_count": 316,
   "metadata": {},
   "outputs": [
    {
     "data": {
      "text/html": [
       "<div>\n",
       "<style scoped>\n",
       "    .dataframe tbody tr th:only-of-type {\n",
       "        vertical-align: middle;\n",
       "    }\n",
       "\n",
       "    .dataframe tbody tr th {\n",
       "        vertical-align: top;\n",
       "    }\n",
       "\n",
       "    .dataframe thead th {\n",
       "        text-align: right;\n",
       "    }\n",
       "</style>\n",
       "<table border=\"1\" class=\"dataframe\">\n",
       "  <thead>\n",
       "    <tr style=\"text-align: right;\">\n",
       "      <th></th>\n",
       "      <th>value_x</th>\n",
       "      <th>value_y</th>\n",
       "      <th>per_x</th>\n",
       "      <th>per_y</th>\n",
       "      <th>diff</th>\n",
       "      <th>per_diff</th>\n",
       "    </tr>\n",
       "  </thead>\n",
       "  <tbody>\n",
       "    <tr>\n",
       "      <th>(style, india, pale, ale)</th>\n",
       "      <td>17.0</td>\n",
       "      <td>0.0</td>\n",
       "      <td>0.000371</td>\n",
       "      <td>0.0</td>\n",
       "      <td>17.0</td>\n",
       "      <td>0.000371</td>\n",
       "    </tr>\n",
       "    <tr>\n",
       "      <th>(west, coast, style, ipa)</th>\n",
       "      <td>11.0</td>\n",
       "      <td>0.0</td>\n",
       "      <td>0.000240</td>\n",
       "      <td>0.0</td>\n",
       "      <td>11.0</td>\n",
       "      <td>0.000240</td>\n",
       "    </tr>\n",
       "    <tr>\n",
       "      <th>(pounds, hops, per, barrel)</th>\n",
       "      <td>10.0</td>\n",
       "      <td>0.0</td>\n",
       "      <td>0.000218</td>\n",
       "      <td>0.0</td>\n",
       "      <td>10.0</td>\n",
       "      <td>0.000218</td>\n",
       "    </tr>\n",
       "    <tr>\n",
       "      <th>(india, pale, ale, brewed)</th>\n",
       "      <td>9.0</td>\n",
       "      <td>0.0</td>\n",
       "      <td>0.000197</td>\n",
       "      <td>0.0</td>\n",
       "      <td>9.0</td>\n",
       "      <td>0.000197</td>\n",
       "    </tr>\n",
       "    <tr>\n",
       "      <th>(ipa, india, pale, ale)</th>\n",
       "      <td>9.0</td>\n",
       "      <td>0.0</td>\n",
       "      <td>0.000197</td>\n",
       "      <td>0.0</td>\n",
       "      <td>9.0</td>\n",
       "      <td>0.000197</td>\n",
       "    </tr>\n",
       "  </tbody>\n",
       "</table>\n",
       "</div>"
      ],
      "text/plain": [
       "                             value_x  value_y     per_x  per_y  diff  per_diff\n",
       "(style, india, pale, ale)       17.0      0.0  0.000371    0.0  17.0  0.000371\n",
       "(west, coast, style, ipa)       11.0      0.0  0.000240    0.0  11.0  0.000240\n",
       "(pounds, hops, per, barrel)     10.0      0.0  0.000218    0.0  10.0  0.000218\n",
       "(india, pale, ale, brewed)       9.0      0.0  0.000197    0.0   9.0  0.000197\n",
       "(ipa, india, pale, ale)          9.0      0.0  0.000197    0.0   9.0  0.000197"
      ]
     },
     "execution_count": 316,
     "metadata": {},
     "output_type": "execute_result"
    }
   ],
   "source": [
    "top_small.sort_values(\"value_x\",ascending=False).head()"
   ]
  },
  {
   "cell_type": "code",
   "execution_count": 91,
   "metadata": {},
   "outputs": [],
   "source": [
    "name_top_greater = top_words(df,0.75,\"greater\",False)\n",
    "name_top_less = top_words(df,0.25,\"less\",False)"
   ]
  },
  {
   "cell_type": "code",
   "execution_count": 92,
   "metadata": {},
   "outputs": [],
   "source": [
    "top_small = pd.DataFrame(name_top_greater).merge(pd.DataFrame(name_top_less),how='outer',left_index=True, right_index=True)\n",
    "top_small = top_small.fillna(0)\n",
    "top_small[\"per_x\"] = top_small[\"value_x\"]/top_small[\"value_x\"].sum()\n",
    "top_small[\"per_y\"] = top_small[\"value_y\"]/top_small[\"value_y\"].sum()\n",
    "top_small[\"diff\"] = top_small[\"value_x\"] - top_small[\"value_y\"]\n",
    "top_small[\"per_diff\"] = top_small[\"per_x\"] - top_small[\"per_y\"]\n"
   ]
  },
  {
   "cell_type": "code",
   "execution_count": 93,
   "metadata": {},
   "outputs": [
    {
     "data": {
      "text/html": [
       "<div>\n",
       "<style scoped>\n",
       "    .dataframe tbody tr th:only-of-type {\n",
       "        vertical-align: middle;\n",
       "    }\n",
       "\n",
       "    .dataframe tbody tr th {\n",
       "        vertical-align: top;\n",
       "    }\n",
       "\n",
       "    .dataframe thead th {\n",
       "        text-align: right;\n",
       "    }\n",
       "</style>\n",
       "<table border=\"1\" class=\"dataframe\">\n",
       "  <thead>\n",
       "    <tr style=\"text-align: right;\">\n",
       "      <th></th>\n",
       "      <th>value_x</th>\n",
       "      <th>value_y</th>\n",
       "      <th>per_x</th>\n",
       "      <th>per_y</th>\n",
       "      <th>diff</th>\n",
       "      <th>per_diff</th>\n",
       "    </tr>\n",
       "  </thead>\n",
       "  <tbody>\n",
       "    <tr>\n",
       "      <th>ale</th>\n",
       "      <td>140.0</td>\n",
       "      <td>267.0</td>\n",
       "      <td>0.036213</td>\n",
       "      <td>0.075595</td>\n",
       "      <td>-127.0</td>\n",
       "      <td>-0.039381</td>\n",
       "    </tr>\n",
       "    <tr>\n",
       "      <th>wheat</th>\n",
       "      <td>4.0</td>\n",
       "      <td>108.0</td>\n",
       "      <td>0.001035</td>\n",
       "      <td>0.030578</td>\n",
       "      <td>-104.0</td>\n",
       "      <td>-0.029543</td>\n",
       "    </tr>\n",
       "    <tr>\n",
       "      <th>...</th>\n",
       "      <td>...</td>\n",
       "      <td>...</td>\n",
       "      <td>...</td>\n",
       "      <td>...</td>\n",
       "      <td>...</td>\n",
       "      <td>...</td>\n",
       "    </tr>\n",
       "    <tr>\n",
       "      <th>imperial</th>\n",
       "      <td>94.0</td>\n",
       "      <td>10.0</td>\n",
       "      <td>0.024315</td>\n",
       "      <td>0.002831</td>\n",
       "      <td>84.0</td>\n",
       "      <td>0.021483</td>\n",
       "    </tr>\n",
       "    <tr>\n",
       "      <th>ipa</th>\n",
       "      <td>500.0</td>\n",
       "      <td>1.0</td>\n",
       "      <td>0.129333</td>\n",
       "      <td>0.000283</td>\n",
       "      <td>499.0</td>\n",
       "      <td>0.129050</td>\n",
       "    </tr>\n",
       "  </tbody>\n",
       "</table>\n",
       "<p>2949 rows × 6 columns</p>\n",
       "</div>"
      ],
      "text/plain": [
       "          value_x  value_y     per_x     per_y   diff  per_diff\n",
       "ale         140.0    267.0  0.036213  0.075595 -127.0 -0.039381\n",
       "wheat         4.0    108.0  0.001035  0.030578 -104.0 -0.029543\n",
       "...           ...      ...       ...       ...    ...       ...\n",
       "imperial     94.0     10.0  0.024315  0.002831   84.0  0.021483\n",
       "ipa         500.0      1.0  0.129333  0.000283  499.0  0.129050\n",
       "\n",
       "[2949 rows x 6 columns]"
      ]
     },
     "execution_count": 93,
     "metadata": {},
     "output_type": "execute_result"
    }
   ],
   "source": [
    "top_small.sort_values(\"per_diff\",ascending=True)"
   ]
  },
  {
   "cell_type": "code",
   "execution_count": 94,
   "metadata": {},
   "outputs": [
    {
     "data": {
      "text/html": [
       "<div>\n",
       "<style scoped>\n",
       "    .dataframe tbody tr th:only-of-type {\n",
       "        vertical-align: middle;\n",
       "    }\n",
       "\n",
       "    .dataframe tbody tr th {\n",
       "        vertical-align: top;\n",
       "    }\n",
       "\n",
       "    .dataframe thead th {\n",
       "        text-align: right;\n",
       "    }\n",
       "</style>\n",
       "<table border=\"1\" class=\"dataframe\">\n",
       "  <thead>\n",
       "    <tr style=\"text-align: right;\">\n",
       "      <th></th>\n",
       "      <th>value_x</th>\n",
       "      <th>value_y</th>\n",
       "      <th>per_x</th>\n",
       "      <th>per_y</th>\n",
       "      <th>diff</th>\n",
       "      <th>per_diff</th>\n",
       "    </tr>\n",
       "  </thead>\n",
       "  <tbody>\n",
       "    <tr>\n",
       "      <th>ipa</th>\n",
       "      <td>500.0</td>\n",
       "      <td>1.0</td>\n",
       "      <td>0.129333</td>\n",
       "      <td>0.000283</td>\n",
       "      <td>499.0</td>\n",
       "      <td>0.129050</td>\n",
       "    </tr>\n",
       "    <tr>\n",
       "      <th>imperial</th>\n",
       "      <td>94.0</td>\n",
       "      <td>10.0</td>\n",
       "      <td>0.024315</td>\n",
       "      <td>0.002831</td>\n",
       "      <td>84.0</td>\n",
       "      <td>0.021483</td>\n",
       "    </tr>\n",
       "    <tr>\n",
       "      <th>...</th>\n",
       "      <td>...</td>\n",
       "      <td>...</td>\n",
       "      <td>...</td>\n",
       "      <td>...</td>\n",
       "      <td>...</td>\n",
       "      <td>...</td>\n",
       "    </tr>\n",
       "    <tr>\n",
       "      <th>anniversary</th>\n",
       "      <td>11.0</td>\n",
       "      <td>2.0</td>\n",
       "      <td>0.002845</td>\n",
       "      <td>0.000566</td>\n",
       "      <td>9.0</td>\n",
       "      <td>0.002279</td>\n",
       "    </tr>\n",
       "    <tr>\n",
       "      <th>hops</th>\n",
       "      <td>8.0</td>\n",
       "      <td>0.0</td>\n",
       "      <td>0.002069</td>\n",
       "      <td>0.000000</td>\n",
       "      <td>8.0</td>\n",
       "      <td>0.002069</td>\n",
       "    </tr>\n",
       "  </tbody>\n",
       "</table>\n",
       "<p>20 rows × 6 columns</p>\n",
       "</div>"
      ],
      "text/plain": [
       "             value_x  value_y     per_x     per_y   diff  per_diff\n",
       "ipa            500.0      1.0  0.129333  0.000283  499.0  0.129050\n",
       "imperial        94.0     10.0  0.024315  0.002831   84.0  0.021483\n",
       "...              ...      ...       ...       ...    ...       ...\n",
       "anniversary     11.0      2.0  0.002845  0.000566    9.0  0.002279\n",
       "hops             8.0      0.0  0.002069  0.000000    8.0  0.002069\n",
       "\n",
       "[20 rows x 6 columns]"
      ]
     },
     "execution_count": 94,
     "metadata": {},
     "output_type": "execute_result"
    }
   ],
   "source": [
    "top_small.sort_values(\"diff\",ascending=False).iloc[:20]"
   ]
  },
  {
   "cell_type": "code",
   "execution_count": 95,
   "metadata": {},
   "outputs": [
    {
     "data": {
      "text/html": [
       "<div>\n",
       "<style scoped>\n",
       "    .dataframe tbody tr th:only-of-type {\n",
       "        vertical-align: middle;\n",
       "    }\n",
       "\n",
       "    .dataframe tbody tr th {\n",
       "        vertical-align: top;\n",
       "    }\n",
       "\n",
       "    .dataframe thead th {\n",
       "        text-align: right;\n",
       "    }\n",
       "</style>\n",
       "<table border=\"1\" class=\"dataframe\">\n",
       "  <thead>\n",
       "    <tr style=\"text-align: right;\">\n",
       "      <th></th>\n",
       "      <th>value_x</th>\n",
       "      <th>value_y</th>\n",
       "      <th>per_x</th>\n",
       "      <th>per_y</th>\n",
       "      <th>diff</th>\n",
       "      <th>per_diff</th>\n",
       "    </tr>\n",
       "  </thead>\n",
       "  <tbody>\n",
       "    <tr>\n",
       "      <th>ipa</th>\n",
       "      <td>500.0</td>\n",
       "      <td>1.0</td>\n",
       "      <td>0.129333</td>\n",
       "      <td>0.000283</td>\n",
       "      <td>499.0</td>\n",
       "      <td>0.129050</td>\n",
       "    </tr>\n",
       "    <tr>\n",
       "      <th>imperial</th>\n",
       "      <td>94.0</td>\n",
       "      <td>10.0</td>\n",
       "      <td>0.024315</td>\n",
       "      <td>0.002831</td>\n",
       "      <td>84.0</td>\n",
       "      <td>0.021483</td>\n",
       "    </tr>\n",
       "    <tr>\n",
       "      <th>double</th>\n",
       "      <td>67.0</td>\n",
       "      <td>4.0</td>\n",
       "      <td>0.017331</td>\n",
       "      <td>0.001133</td>\n",
       "      <td>63.0</td>\n",
       "      <td>0.016198</td>\n",
       "    </tr>\n",
       "    <tr>\n",
       "      <th>black</th>\n",
       "      <td>74.0</td>\n",
       "      <td>14.0</td>\n",
       "      <td>0.019141</td>\n",
       "      <td>0.003964</td>\n",
       "      <td>60.0</td>\n",
       "      <td>0.015177</td>\n",
       "    </tr>\n",
       "    <tr>\n",
       "      <th>pale</th>\n",
       "      <td>67.0</td>\n",
       "      <td>10.0</td>\n",
       "      <td>0.017331</td>\n",
       "      <td>0.002831</td>\n",
       "      <td>57.0</td>\n",
       "      <td>0.014499</td>\n",
       "    </tr>\n",
       "  </tbody>\n",
       "</table>\n",
       "</div>"
      ],
      "text/plain": [
       "          value_x  value_y     per_x     per_y   diff  per_diff\n",
       "ipa         500.0      1.0  0.129333  0.000283  499.0  0.129050\n",
       "imperial     94.0     10.0  0.024315  0.002831   84.0  0.021483\n",
       "double       67.0      4.0  0.017331  0.001133   63.0  0.016198\n",
       "black        74.0     14.0  0.019141  0.003964   60.0  0.015177\n",
       "pale         67.0     10.0  0.017331  0.002831   57.0  0.014499"
      ]
     },
     "execution_count": 95,
     "metadata": {},
     "output_type": "execute_result"
    }
   ],
   "source": [
    "top_small.sort_values(\"diff\",ascending=False).iloc[:20].head()"
   ]
  },
  {
   "cell_type": "code",
   "execution_count": 580,
   "metadata": {},
   "outputs": [
    {
     "data": {
      "text/plain": [
       "array([['first brewed black lightning name implies combining style defining characteristics dark beers ipas stormy balance subtle roasted dark malt flavor citrusy floral character northwestern american hops moderately strong alcohol presence abv electrifyingly hoppy finish grab bottle pint hold tight time ride lightning see httpduclawcombeerblack lightningsthashfudivrdpuf'],\n",
       "       ['newest addition harvest family southern hemisphere harvest first time know american brewer put beer fresh picked hops southern hemisphere inaugural ale debut late april feature fresh pacific hallertau new zealand motueka new zealand southern cross hops new zealand like celebration ale fresh hops beer dried right picked shipped immediately chico brewing retain peak aromatics flavors ensure freshest hops possible went added expense flying hops new zealand chico could brew week picked'],\n",
       "       ['missing'],\n",
       "       ...,\n",
       "       ['javahead based original oatmeal stout boil hot wort passes hopback vessel packed full whole leaf hops bed coffee beans akin french press intensifying coffee nose releasing hints coffee flavor result lush oatmeal mouthfeel balanced cocoa roast subtle coffee flavors'],\n",
       "       ['velvety chewy ipa perfect blend hop bitterness aroma malt body centennial citra hops give misfit pleasantly bitter kick along hint citrus'],\n",
       "       ['took pale ale added summit cascade hops throughout boil provide citrus spicy quality dry hopped cascade optimize ipa aroma darkened adding healthy dose black patent malt give porter flavor']],\n",
       "      dtype=object)"
      ]
     },
     "execution_count": 580,
     "metadata": {},
     "output_type": "execute_result"
    }
   ],
   "source": [
    "df[df[\"ibu\"] > df[\"ibu\"].quantile(0.75)][[\"description\"]].values"
   ]
  },
  {
   "cell_type": "code",
   "execution_count": 579,
   "metadata": {},
   "outputs": [
    {
     "data": {
      "text/html": [
       "<div>\n",
       "<style scoped>\n",
       "    .dataframe tbody tr th:only-of-type {\n",
       "        vertical-align: middle;\n",
       "    }\n",
       "\n",
       "    .dataframe tbody tr th {\n",
       "        vertical-align: top;\n",
       "    }\n",
       "\n",
       "    .dataframe thead th {\n",
       "        text-align: right;\n",
       "    }\n",
       "</style>\n",
       "<table border=\"1\" class=\"dataframe\">\n",
       "  <thead>\n",
       "    <tr style=\"text-align: right;\">\n",
       "      <th></th>\n",
       "      <th>id</th>\n",
       "      <th>abv</th>\n",
       "      <th>available</th>\n",
       "      <th>description</th>\n",
       "      <th>glass</th>\n",
       "      <th>ibu</th>\n",
       "      <th>isOrganic</th>\n",
       "      <th>name</th>\n",
       "      <th>originalGravity</th>\n",
       "      <th>srm</th>\n",
       "    </tr>\n",
       "  </thead>\n",
       "  <tbody>\n",
       "    <tr>\n",
       "      <th>0</th>\n",
       "      <td>0</td>\n",
       "      <td>8.2</td>\n",
       "      <td>Available at the same time of year, every year.</td>\n",
       "      <td>belgian abbey style tripel big alcohol even bi...</td>\n",
       "      <td>NaN</td>\n",
       "      <td>31.0</td>\n",
       "      <td>N</td>\n",
       "      <td>loonytoontripel</td>\n",
       "      <td>1.070</td>\n",
       "      <td>8</td>\n",
       "    </tr>\n",
       "    <tr>\n",
       "      <th>1</th>\n",
       "      <td>1</td>\n",
       "      <td>5.7</td>\n",
       "      <td>Available at the same time of year, every year.</td>\n",
       "      <td>covert hops crafty ale stealthy dark appearanc...</td>\n",
       "      <td>Pint</td>\n",
       "      <td>45.0</td>\n",
       "      <td>N</td>\n",
       "      <td>covert hops</td>\n",
       "      <td>1.056</td>\n",
       "      <td>35</td>\n",
       "    </tr>\n",
       "    <tr>\n",
       "      <th>...</th>\n",
       "      <td>...</td>\n",
       "      <td>...</td>\n",
       "      <td>...</td>\n",
       "      <td>...</td>\n",
       "      <td>...</td>\n",
       "      <td>...</td>\n",
       "      <td>...</td>\n",
       "      <td>...</td>\n",
       "      <td>...</td>\n",
       "      <td>...</td>\n",
       "    </tr>\n",
       "    <tr>\n",
       "      <th>5998</th>\n",
       "      <td>5998</td>\n",
       "      <td>6.2</td>\n",
       "      <td>Limited availability.</td>\n",
       "      <td>aquarius white ipa combines phenolic estery ch...</td>\n",
       "      <td>NaN</td>\n",
       "      <td>50.0</td>\n",
       "      <td>N</td>\n",
       "      <td>aquarius</td>\n",
       "      <td>1.044</td>\n",
       "      <td>2</td>\n",
       "    </tr>\n",
       "    <tr>\n",
       "      <th>5999</th>\n",
       "      <td>5999</td>\n",
       "      <td>5.1</td>\n",
       "      <td>Available year round as a staple beer.</td>\n",
       "      <td>missing</td>\n",
       "      <td>NaN</td>\n",
       "      <td>23.0</td>\n",
       "      <td>N</td>\n",
       "      <td>amber ale</td>\n",
       "      <td>1.048</td>\n",
       "      <td>15</td>\n",
       "    </tr>\n",
       "  </tbody>\n",
       "</table>\n",
       "<p>6000 rows × 10 columns</p>\n",
       "</div>"
      ],
      "text/plain": [
       "        id  abv                                        available  \\\n",
       "0        0  8.2  Available at the same time of year, every year.   \n",
       "1        1  5.7  Available at the same time of year, every year.   \n",
       "...    ...  ...                                              ...   \n",
       "5998  5998  6.2                            Limited availability.   \n",
       "5999  5999  5.1           Available year round as a staple beer.   \n",
       "\n",
       "                                            description glass   ibu isOrganic  \\\n",
       "0     belgian abbey style tripel big alcohol even bi...   NaN  31.0         N   \n",
       "1     covert hops crafty ale stealthy dark appearanc...  Pint  45.0         N   \n",
       "...                                                 ...   ...   ...       ...   \n",
       "5998  aquarius white ipa combines phenolic estery ch...   NaN  50.0         N   \n",
       "5999                                            missing   NaN  23.0         N   \n",
       "\n",
       "                 name  originalGravity srm  \n",
       "0     loonytoontripel            1.070   8  \n",
       "1         covert hops            1.056  35  \n",
       "...               ...              ...  ..  \n",
       "5998         aquarius            1.044   2  \n",
       "5999        amber ale            1.048  15  \n",
       "\n",
       "[6000 rows x 10 columns]"
      ]
     },
     "execution_count": 579,
     "metadata": {},
     "output_type": "execute_result"
    }
   ],
   "source": [
    "df"
   ]
  },
  {
   "cell_type": "code",
   "execution_count": 582,
   "metadata": {},
   "outputs": [],
   "source": [
    "from sklearn.feature_extraction.text import TfidfVectorizer\n"
   ]
  },
  {
   "cell_type": "code",
   "execution_count": 584,
   "metadata": {},
   "outputs": [],
   "source": [
    "vec = TfidfVectorizer(norm=False)\n",
    "vec.fit(df[\"description\"])\n",
    "X_train = vec.transform(df[\"description\"])\n",
    "X_train_len = np.sqrt(X_train.multiply(X_train).sum(axis=1))\n",
    "y_train = df[\"ibu\"]"
   ]
  },
  {
   "cell_type": "code",
   "execution_count": 585,
   "metadata": {},
   "outputs": [],
   "source": [
    "def predict_spam(new_text):\n",
    "    # Get the TF-IDF vector for the new text.\n",
    "    x_new = vec.transform([new_text])[0, :]\n",
    "    dot = x_new.multiply(X_train).sum(axis=1)\n",
    "    x_new_len = np.sqrt(x_new.multiply(x_new).sum())\n",
    "    denom = x_new_len*X_train_len\n",
    "    cos_similarities = pd.DataFrame(dot / (denom))[0]\n",
    "    classif = y_train[cos_similarities.sort_values(ascending=False)[:30].index].mean()\n",
    "    return classif"
   ]
  },
  {
   "cell_type": "code",
   "execution_count": 591,
   "metadata": {},
   "outputs": [],
   "source": [
    "test = df[\"description\"].apply(predict_spam)\n"
   ]
  },
  {
   "cell_type": "code",
   "execution_count": 597,
   "metadata": {},
   "outputs": [
    {
     "data": {
      "text/plain": [
       "22.861656519059796"
      ]
     },
     "execution_count": 597,
     "metadata": {},
     "output_type": "execute_result"
    }
   ],
   "source": [
    "((((df[\"ibu\"] - test)**2).sum())/len(df))**0.5"
   ]
  },
  {
   "cell_type": "code",
   "execution_count": 598,
   "metadata": {},
   "outputs": [],
   "source": [
    "vec = TfidfVectorizer(norm=False)\n",
    "vec.fit(df[\"name\"])\n",
    "X_train = vec.transform(df[\"name\"])\n",
    "X_train_len = np.sqrt(X_train.multiply(X_train).sum(axis=1))\n",
    "y_train = df[\"ibu\"]"
   ]
  },
  {
   "cell_type": "code",
   "execution_count": 599,
   "metadata": {},
   "outputs": [],
   "source": [
    "test = df[\"name\"].apply(predict_spam)\n"
   ]
  },
  {
   "cell_type": "code",
   "execution_count": 600,
   "metadata": {},
   "outputs": [
    {
     "data": {
      "text/plain": [
       "24.344015131231068"
      ]
     },
     "execution_count": 600,
     "metadata": {},
     "output_type": "execute_result"
    }
   ],
   "source": [
    "((((df[\"ibu\"] - test)**2).sum())/len(df))**0.5"
   ]
  },
  {
   "cell_type": "code",
   "execution_count": 611,
   "metadata": {},
   "outputs": [
    {
     "name": "stderr",
     "output_type": "stream",
     "text": [
      "/Library/Frameworks/Python.framework/Versions/3.6/lib/python3.6/site-packages/ipykernel_launcher.py:7: RuntimeWarning: invalid value encountered in true_divide\n",
      "  import sys\n"
     ]
    },
    {
     "data": {
      "text/plain": [
       "60.965"
      ]
     },
     "execution_count": 611,
     "metadata": {},
     "output_type": "execute_result"
    }
   ],
   "source": [
    "predict_spam(\"russian imperial stout\")"
   ]
  },
  {
   "cell_type": "code",
   "execution_count": 608,
   "metadata": {},
   "outputs": [
    {
     "data": {
      "text/plain": [
       "41.1968775"
      ]
     },
     "execution_count": 608,
     "metadata": {},
     "output_type": "execute_result"
    }
   ],
   "source": [
    "df[\"ibu\"].mean()"
   ]
  },
  {
   "cell_type": "code",
   "execution_count": 613,
   "metadata": {},
   "outputs": [
    {
     "data": {
      "text/plain": [
       "array(['She WILL!', 'Defender American Pale Ale', 'Hazel', ...,\n",
       "       \"General Washington's Tavern Porter\", 'Nut Brown Ale', 'Noble Fir'],\n",
       "      dtype=object)"
      ]
     },
     "execution_count": 613,
     "metadata": {},
     "output_type": "execute_result"
    }
   ],
   "source": [
    "df_test[\"name\"].values"
   ]
  },
  {
   "cell_type": "code",
   "execution_count": 614,
   "metadata": {},
   "outputs": [
    {
     "data": {
      "text/html": [
       "<div>\n",
       "<style scoped>\n",
       "    .dataframe tbody tr th:only-of-type {\n",
       "        vertical-align: middle;\n",
       "    }\n",
       "\n",
       "    .dataframe tbody tr th {\n",
       "        vertical-align: top;\n",
       "    }\n",
       "\n",
       "    .dataframe thead th {\n",
       "        text-align: right;\n",
       "    }\n",
       "</style>\n",
       "<table border=\"1\" class=\"dataframe\">\n",
       "  <thead>\n",
       "    <tr style=\"text-align: right;\">\n",
       "      <th></th>\n",
       "      <th>id</th>\n",
       "      <th>abv</th>\n",
       "      <th>available</th>\n",
       "      <th>description</th>\n",
       "      <th>glass</th>\n",
       "      <th>ibu</th>\n",
       "      <th>isOrganic</th>\n",
       "      <th>name</th>\n",
       "      <th>originalGravity</th>\n",
       "      <th>srm</th>\n",
       "    </tr>\n",
       "  </thead>\n",
       "  <tbody>\n",
       "    <tr>\n",
       "      <th>0</th>\n",
       "      <td>0</td>\n",
       "      <td>8.2</td>\n",
       "      <td>Available at the same time of year, every year.</td>\n",
       "      <td>belgian abbey style tripel big alcohol even bi...</td>\n",
       "      <td>NaN</td>\n",
       "      <td>31.0</td>\n",
       "      <td>N</td>\n",
       "      <td>loonytoontripel</td>\n",
       "      <td>1.070</td>\n",
       "      <td>8</td>\n",
       "    </tr>\n",
       "    <tr>\n",
       "      <th>1</th>\n",
       "      <td>1</td>\n",
       "      <td>5.7</td>\n",
       "      <td>Available at the same time of year, every year.</td>\n",
       "      <td>covert hops crafty ale stealthy dark appearanc...</td>\n",
       "      <td>Pint</td>\n",
       "      <td>45.0</td>\n",
       "      <td>N</td>\n",
       "      <td>covert hops</td>\n",
       "      <td>1.056</td>\n",
       "      <td>35</td>\n",
       "    </tr>\n",
       "    <tr>\n",
       "      <th>2</th>\n",
       "      <td>2</td>\n",
       "      <td>5.8</td>\n",
       "      <td>Available at the same time of year, every year.</td>\n",
       "      <td>traditional german style marzen characterized ...</td>\n",
       "      <td>Mug</td>\n",
       "      <td>25.0</td>\n",
       "      <td>N</td>\n",
       "      <td>oktoberfest</td>\n",
       "      <td>1.048</td>\n",
       "      <td>10</td>\n",
       "    </tr>\n",
       "    <tr>\n",
       "      <th>3</th>\n",
       "      <td>3</td>\n",
       "      <td>5.5</td>\n",
       "      <td>Available year round as a staple beer.</td>\n",
       "      <td>west coast style pale ale balancing plenty hop...</td>\n",
       "      <td>Pint</td>\n",
       "      <td>55.0</td>\n",
       "      <td>N</td>\n",
       "      <td>pale ale</td>\n",
       "      <td>1.044</td>\n",
       "      <td>5</td>\n",
       "    </tr>\n",
       "    <tr>\n",
       "      <th>4</th>\n",
       "      <td>4</td>\n",
       "      <td>4.8</td>\n",
       "      <td>Available year round as a staple beer.</td>\n",
       "      <td>bombshell tantalizing crisp clean flavor light...</td>\n",
       "      <td>Pint</td>\n",
       "      <td>11.4</td>\n",
       "      <td>N</td>\n",
       "      <td>head turner blonde ale</td>\n",
       "      <td>1.045</td>\n",
       "      <td>3</td>\n",
       "    </tr>\n",
       "  </tbody>\n",
       "</table>\n",
       "</div>"
      ],
      "text/plain": [
       "   id  abv                                        available  \\\n",
       "0   0  8.2  Available at the same time of year, every year.   \n",
       "1   1  5.7  Available at the same time of year, every year.   \n",
       "2   2  5.8  Available at the same time of year, every year.   \n",
       "3   3  5.5           Available year round as a staple beer.   \n",
       "4   4  4.8           Available year round as a staple beer.   \n",
       "\n",
       "                                         description glass   ibu isOrganic  \\\n",
       "0  belgian abbey style tripel big alcohol even bi...   NaN  31.0         N   \n",
       "1  covert hops crafty ale stealthy dark appearanc...  Pint  45.0         N   \n",
       "2  traditional german style marzen characterized ...   Mug  25.0         N   \n",
       "3  west coast style pale ale balancing plenty hop...  Pint  55.0         N   \n",
       "4  bombshell tantalizing crisp clean flavor light...  Pint  11.4         N   \n",
       "\n",
       "                     name  originalGravity srm  \n",
       "0         loonytoontripel            1.070   8  \n",
       "1             covert hops            1.056  35  \n",
       "2             oktoberfest            1.048  10  \n",
       "3                pale ale            1.044   5  \n",
       "4  head turner blonde ale            1.045   3  "
      ]
     },
     "execution_count": 614,
     "metadata": {},
     "output_type": "execute_result"
    }
   ],
   "source": [
    "df.head()"
   ]
  },
  {
   "cell_type": "code",
   "execution_count": 616,
   "metadata": {},
   "outputs": [],
   "source": [
    "df[\"log_ibu\"] = np.log(df[\"ibu\"])"
   ]
  },
  {
   "cell_type": "code",
   "execution_count": 623,
   "metadata": {},
   "outputs": [
    {
     "data": {
      "text/html": [
       "<div>\n",
       "<style scoped>\n",
       "    .dataframe tbody tr th:only-of-type {\n",
       "        vertical-align: middle;\n",
       "    }\n",
       "\n",
       "    .dataframe tbody tr th {\n",
       "        vertical-align: top;\n",
       "    }\n",
       "\n",
       "    .dataframe thead th {\n",
       "        text-align: right;\n",
       "    }\n",
       "</style>\n",
       "<table border=\"1\" class=\"dataframe\">\n",
       "  <thead>\n",
       "    <tr style=\"text-align: right;\">\n",
       "      <th></th>\n",
       "      <th>ibu</th>\n",
       "    </tr>\n",
       "    <tr>\n",
       "      <th>available</th>\n",
       "      <th></th>\n",
       "    </tr>\n",
       "  </thead>\n",
       "  <tbody>\n",
       "    <tr>\n",
       "      <th>Available during the fall months.</th>\n",
       "      <td>30.403546</td>\n",
       "    </tr>\n",
       "    <tr>\n",
       "      <th>Available during the summer months.</th>\n",
       "      <td>30.439623</td>\n",
       "    </tr>\n",
       "    <tr>\n",
       "      <th>...</th>\n",
       "      <td>...</td>\n",
       "    </tr>\n",
       "    <tr>\n",
       "      <th>Beer is not available.</th>\n",
       "      <td>42.486141</td>\n",
       "    </tr>\n",
       "    <tr>\n",
       "      <th>Limited availability.</th>\n",
       "      <td>48.227558</td>\n",
       "    </tr>\n",
       "  </tbody>\n",
       "</table>\n",
       "<p>8 rows × 1 columns</p>\n",
       "</div>"
      ],
      "text/plain": [
       "                                           ibu\n",
       "available                                     \n",
       "Available during the fall months.    30.403546\n",
       "Available during the summer months.  30.439623\n",
       "...                                        ...\n",
       "Beer is not available.               42.486141\n",
       "Limited availability.                48.227558\n",
       "\n",
       "[8 rows x 1 columns]"
      ]
     },
     "execution_count": 623,
     "metadata": {},
     "output_type": "execute_result"
    }
   ],
   "source": [
    "df.pivot_table(index=\"available\",values=\"ibu\").sort_values(\"ibu\")"
   ]
  },
  {
   "cell_type": "code",
   "execution_count": 618,
   "metadata": {},
   "outputs": [
    {
     "data": {
      "text/plain": [
       "<matplotlib.axes._subplots.AxesSubplot at 0x108f62828>"
      ]
     },
     "execution_count": 618,
     "metadata": {},
     "output_type": "execute_result"
    },
    {
     "data": {
      "image/png": "[encoded data removed]",
      "text/plain": [
       "<Figure size 432x288 with 1 Axes>"
      ]
     },
     "metadata": {
      "needs_background": "light"
     },
     "output_type": "display_data"
    }
   ],
   "source": [
    "df[\"log_ibu\"].plot.hist()"
   ]
  },
  {
   "cell_type": "code",
   "execution_count": null,
   "metadata": {},
   "outputs": [],
   "source": []
  }
 ],
 "metadata": {
  "kernelspec": {
   "display_name": "Python 3",
   "language": "python",
   "name": "python3"
  },
  "language_info": {
   "codemirror_mode": {
    "name": "ipython",
    "version": 3
   },
   "file_extension": ".py",
   "mimetype": "text/x-python",
   "name": "python",
   "nbconvert_exporter": "python",
   "pygments_lexer": "ipython3",
   "version": "3.6.6rc1"
  }
 },
 "nbformat": 4,
 "nbformat_minor": 2
}
